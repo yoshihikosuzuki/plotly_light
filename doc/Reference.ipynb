{
 "cells": [
  {
   "cell_type": "markdown",
   "id": "f2bf0d3f",
   "metadata": {},
   "source": [
    "# Quickstart"
   ]
  },
  {
   "cell_type": "markdown",
   "id": "00047e07",
   "metadata": {},
   "source": [
    "## Import plotly_light"
   ]
  },
  {
   "cell_type": "code",
   "execution_count": 2,
   "id": "152d92b5",
   "metadata": {},
   "outputs": [
    {
     "name": "stderr",
     "output_type": "stream",
     "text": [
      "[I 250425 02:27:52 __init__:46] plotly_light: in Jupyter\n"
     ]
    },
    {
     "data": {
      "text/html": [
       "        <script type=\"text/javascript\">\n",
       "        window.PlotlyConfig = {MathJaxConfig: 'local'};\n",
       "        if (window.MathJax && window.MathJax.Hub && window.MathJax.Hub.Config) {window.MathJax.Hub.Config({SVG: {font: \"STIX-Web\"}});}\n",
       "        </script>\n",
       "        <script type=\"module\">import \"https://cdn.plot.ly/plotly-3.0.1.min\"</script>\n",
       "        "
      ]
     },
     "metadata": {},
     "output_type": "display_data"
    },
    {
     "name": "stderr",
     "output_type": "stream",
     "text": [
      "[I 250425 02:27:52 __init__:62] pl.default.renderer = iframe_connected\n"
     ]
    }
   ],
   "source": [
    "import plotly_light as pl"
   ]
  },
  {
   "cell_type": "markdown",
   "id": "99ced840",
   "metadata": {},
   "source": [
    "**NOTE:** If imported in a Jupyter Notebook, `init_notebook_mode(connected=True)` is automatically run.\n",
    "\n",
    "**NOTE:** If running in a Jupyter Notebook, by default the renderer is set as `iframe_connected`, and each plot is stored as an HTML file in a directory named `iframe_figures/` and embedded to the Notebook using `<iframe>`. Here we change the renderer to `svg` so that this file can be downloaded as an HTML file with plots."
   ]
  },
  {
   "cell_type": "code",
   "execution_count": 3,
   "id": "f86ea59f-1f94-4f04-ad22-642948762278",
   "metadata": {},
   "outputs": [],
   "source": [
    "pl.set_default_renderer(\"svg\")"
   ]
  },
  {
   "cell_type": "markdown",
   "id": "9510f315",
   "metadata": {},
   "source": [
    "## Usage example: Drawing a simple histogram in a Jupyter Notebook"
   ]
  },
  {
   "cell_type": "code",
   "execution_count": 20,
   "id": "3ee7919c",
   "metadata": {},
   "outputs": [],
   "source": [
    "import random\n",
    "data = random.choices(list(range(10)), k=10000)"
   ]
  },
  {
   "cell_type": "markdown",
   "id": "f5cd3524",
   "metadata": {},
   "source": [
    "### The simplest (and lightweight) histogram"
   ]
  },
  {
   "cell_type": "markdown",
   "id": "fb95ffee",
   "metadata": {},
   "source": [
    "The code below draws a histgram of many random numbers. You can confirm the file size of the plot do not increase even with a very large `k`, i.e. the number of data. With the original Plotly, the file size increases in proportion to the data size."
   ]
  },
  {
   "cell_type": "code",
   "execution_count": 21,
   "id": "0a41003e",
   "metadata": {},
   "outputs": [
    {
     "data": {
      "image/svg+xml": [
       "<svg class=\"main-svg\" xmlns=\"http://www.w3.org/2000/svg\" xmlns:xlink=\"http://www.w3.org/1999/xlink\" width=\"500\" height=\"500\" style=\"\" viewBox=\"0 0 500 500\"><rect x=\"0\" y=\"0\" width=\"500\" height=\"500\" style=\"fill: rgb(255, 255, 255); fill-opacity: 1;\"/><defs id=\"defs-4b5c35\"><g class=\"clips\"><clipPath id=\"clip4b5c35xyplot\" class=\"plotclip\"><rect width=\"423\" height=\"404\"/></clipPath><clipPath class=\"axesclip\" id=\"clip4b5c35x\"><rect x=\"67\" y=\"0\" width=\"423\" height=\"500\"/></clipPath><clipPath class=\"axesclip\" id=\"clip4b5c35y\"><rect x=\"0\" y=\"50\" width=\"500\" height=\"404\"/></clipPath><clipPath class=\"axesclip\" id=\"clip4b5c35xy\"><rect x=\"67\" y=\"50\" width=\"423\" height=\"404\"/></clipPath></g><g class=\"gradients\"/><g class=\"patterns\"/></defs><g class=\"bglayer\"/><g class=\"layer-below\"><g class=\"imagelayer\"/><g class=\"shapelayer\"/></g><g class=\"cartesianlayer\"><g class=\"subplot xy\"><g class=\"layer-subplot\"><g class=\"shapelayer\"/><g class=\"imagelayer\"/></g><g class=\"minor-gridlayer\"><g class=\"x\"/><g class=\"y\"/></g><g class=\"gridlayer\"><g class=\"x\"/><g class=\"y\"/></g><g class=\"zerolinelayer\"/><g class=\"layer-between\"><g class=\"shapelayer\"/><g class=\"imagelayer\"/></g><path class=\"xlines-below\"/><path class=\"ylines-below\"/><g class=\"overlines-below\"/><g class=\"xaxislayer-below\"/><g class=\"yaxislayer-below\"/><g class=\"overaxes-below\"/><g class=\"overplot\"><g class=\"xy\" transform=\"translate(67,50)\" clip-path=\"url(#clip4b5c35xyplot)\"><g class=\"barlayer mlayer\"><g class=\"trace bars\" style=\"opacity: 1;\"><g class=\"points\"><g class=\"point\"><path d=\"M4.23,404V40.25H38.07V404Z\" style=\"vector-effect: none; opacity: 1; stroke-width: 0.5px; fill: rgb(11, 139, 238); fill-opacity: 1; stroke: rgb(255, 255, 255); stroke-opacity: 1;\"/></g><g class=\"point\"><path d=\"M46.53,404V55.19H80.37V404Z\" style=\"vector-effect: none; opacity: 1; stroke-width: 0.5px; fill: rgb(11, 139, 238); fill-opacity: 1; stroke: rgb(255, 255, 255); stroke-opacity: 1;\"/></g><g class=\"point\"><path d=\"M88.83,404V39.15H122.67V404Z\" style=\"vector-effect: none; opacity: 1; stroke-width: 0.5px; fill: rgb(11, 139, 238); fill-opacity: 1; stroke: rgb(255, 255, 255); stroke-opacity: 1;\"/></g><g class=\"point\"><path d=\"M131.13,404V36.24H164.97V404Z\" style=\"vector-effect: none; opacity: 1; stroke-width: 0.5px; fill: rgb(11, 139, 238); fill-opacity: 1; stroke: rgb(255, 255, 255); stroke-opacity: 1;\"/></g><g class=\"point\"><path d=\"M173.43,404V20.2H207.27V404Z\" style=\"vector-effect: none; opacity: 1; stroke-width: 0.5px; fill: rgb(11, 139, 238); fill-opacity: 1; stroke: rgb(255, 255, 255); stroke-opacity: 1;\"/></g><g class=\"point\"><path d=\"M215.73,404V44.62H249.57V404Z\" style=\"vector-effect: none; opacity: 1; stroke-width: 0.5px; fill: rgb(11, 139, 238); fill-opacity: 1; stroke: rgb(255, 255, 255); stroke-opacity: 1;\"/></g><g class=\"point\"><path d=\"M258.03,404V27.49H291.87V404Z\" style=\"vector-effect: none; opacity: 1; stroke-width: 0.5px; fill: rgb(11, 139, 238); fill-opacity: 1; stroke: rgb(255, 255, 255); stroke-opacity: 1;\"/></g><g class=\"point\"><path d=\"M300.33,404V48.63H334.17V404Z\" style=\"vector-effect: none; opacity: 1; stroke-width: 0.5px; fill: rgb(11, 139, 238); fill-opacity: 1; stroke: rgb(255, 255, 255); stroke-opacity: 1;\"/></g><g class=\"point\"><path d=\"M342.63,404V46.08H376.47V404Z\" style=\"vector-effect: none; opacity: 1; stroke-width: 0.5px; fill: rgb(11, 139, 238); fill-opacity: 1; stroke: rgb(255, 255, 255); stroke-opacity: 1;\"/></g><g class=\"point\"><path d=\"M384.93,404V37.33H418.77V404Z\" style=\"vector-effect: none; opacity: 1; stroke-width: 0.5px; fill: rgb(11, 139, 238); fill-opacity: 1; stroke: rgb(255, 255, 255); stroke-opacity: 1;\"/></g></g></g></g></g></g><path class=\"xlines-above crisp\" d=\"M66,454.5H490\" style=\"fill: none; stroke-width: 1px; stroke: rgb(0, 0, 0); stroke-opacity: 1;\"/><path class=\"ylines-above crisp\" d=\"M66.5,50V454\" style=\"fill: none; stroke-width: 1px; stroke: rgb(0, 0, 0); stroke-opacity: 1;\"/><g class=\"overlines-above\"/><g class=\"xaxislayer-above\"><path class=\"xtick ticks crisp\" d=\"M0,455v7\" transform=\"translate(88.15,0)\" style=\"stroke: rgb(0, 0, 0); stroke-opacity: 1; stroke-width: 1.2px;\"/><path class=\"xtick ticks crisp\" d=\"M0,455v7\" transform=\"translate(172.75,0)\" style=\"stroke: rgb(0, 0, 0); stroke-opacity: 1; stroke-width: 1.2px;\"/><path class=\"xtick ticks crisp\" d=\"M0,455v7\" transform=\"translate(257.35,0)\" style=\"stroke: rgb(0, 0, 0); stroke-opacity: 1; stroke-width: 1.2px;\"/><path class=\"xtick ticks crisp\" d=\"M0,455v7\" transform=\"translate(341.95,0)\" style=\"stroke: rgb(0, 0, 0); stroke-opacity: 1; stroke-width: 1.2px;\"/><path class=\"xtick ticks crisp\" d=\"M0,455v7\" transform=\"translate(426.55,0)\" style=\"stroke: rgb(0, 0, 0); stroke-opacity: 1; stroke-width: 1.2px;\"/><g class=\"xtick\"><text text-anchor=\"middle\" x=\"0\" y=\"486\" transform=\"translate(88.15,0)\" style=\"font-family: Arial; font-size: 20px; fill: rgb(0, 0, 0); fill-opacity: 1; white-space: pre; opacity: 1;\">0</text></g><g class=\"xtick\"><text text-anchor=\"middle\" x=\"0\" y=\"486\" style=\"font-family: Arial; font-size: 20px; fill: rgb(0, 0, 0); fill-opacity: 1; white-space: pre; opacity: 1;\" transform=\"translate(172.75,0)\">2</text></g><g class=\"xtick\"><text text-anchor=\"middle\" x=\"0\" y=\"486\" style=\"font-family: Arial; font-size: 20px; fill: rgb(0, 0, 0); fill-opacity: 1; white-space: pre; opacity: 1;\" transform=\"translate(257.35,0)\">4</text></g><g class=\"xtick\"><text text-anchor=\"middle\" x=\"0\" y=\"486\" style=\"font-family: Arial; font-size: 20px; fill: rgb(0, 0, 0); fill-opacity: 1; white-space: pre; opacity: 1;\" transform=\"translate(341.95,0)\">6</text></g><g class=\"xtick\"><text text-anchor=\"middle\" x=\"0\" y=\"486\" style=\"font-family: Arial; font-size: 20px; fill: rgb(0, 0, 0); fill-opacity: 1; white-space: pre; opacity: 1;\" transform=\"translate(426.55,0)\">8</text></g></g><g class=\"yaxislayer-above\"><path class=\"ytick ticks crisp\" d=\"M66,0h-7\" transform=\"translate(0,454)\" style=\"stroke: rgb(0, 0, 0); stroke-opacity: 1; stroke-width: 1.2px;\"/><path class=\"ytick ticks crisp\" d=\"M66,0h-7\" transform=\"translate(0,381.1)\" style=\"stroke: rgb(0, 0, 0); stroke-opacity: 1; stroke-width: 1.2px;\"/><path class=\"ytick ticks crisp\" d=\"M66,0h-7\" transform=\"translate(0,308.21)\" style=\"stroke: rgb(0, 0, 0); stroke-opacity: 1; stroke-width: 1.2px;\"/><path class=\"ytick ticks crisp\" d=\"M66,0h-7\" transform=\"translate(0,235.31)\" style=\"stroke: rgb(0, 0, 0); stroke-opacity: 1; stroke-width: 1.2px;\"/><path class=\"ytick ticks crisp\" d=\"M66,0h-7\" transform=\"translate(0,162.41)\" style=\"stroke: rgb(0, 0, 0); stroke-opacity: 1; stroke-width: 1.2px;\"/><path class=\"ytick ticks crisp\" d=\"M66,0h-7\" transform=\"translate(0,89.52000000000001)\" style=\"stroke: rgb(0, 0, 0); stroke-opacity: 1; stroke-width: 1.2px;\"/><g class=\"ytick\"><text text-anchor=\"end\" x=\"55\" y=\"7\" transform=\"translate(0,454)\" style=\"font-family: Arial; font-size: 20px; fill: rgb(0, 0, 0); fill-opacity: 1; white-space: pre; opacity: 1;\">0</text></g><g class=\"ytick\"><text text-anchor=\"end\" x=\"55\" y=\"7\" style=\"font-family: Arial; font-size: 20px; fill: rgb(0, 0, 0); fill-opacity: 1; white-space: pre; opacity: 1;\" transform=\"translate(0,381.1)\">200</text></g><g class=\"ytick\"><text text-anchor=\"end\" x=\"55\" y=\"7\" style=\"font-family: Arial; font-size: 20px; fill: rgb(0, 0, 0); fill-opacity: 1; white-space: pre; opacity: 1;\" transform=\"translate(0,308.21)\">400</text></g><g class=\"ytick\"><text text-anchor=\"end\" x=\"55\" y=\"7\" style=\"font-family: Arial; font-size: 20px; fill: rgb(0, 0, 0); fill-opacity: 1; white-space: pre; opacity: 1;\" transform=\"translate(0,235.31)\">600</text></g><g class=\"ytick\"><text text-anchor=\"end\" x=\"55\" y=\"7\" style=\"font-family: Arial; font-size: 20px; fill: rgb(0, 0, 0); fill-opacity: 1; white-space: pre; opacity: 1;\" transform=\"translate(0,162.41)\">800</text></g><g class=\"ytick\"><text text-anchor=\"end\" x=\"55\" y=\"7\" style=\"font-family: Arial; font-size: 20px; fill: rgb(0, 0, 0); fill-opacity: 1; white-space: pre; opacity: 1;\" transform=\"translate(0,89.52000000000001)\">1000</text></g></g><g class=\"overaxes-above\"/></g></g><g class=\"polarlayer\"/><g class=\"smithlayer\"/><g class=\"ternarylayer\"/><g class=\"geolayer\"/><g class=\"funnelarealayer\"/><g class=\"pielayer\"/><g class=\"iciclelayer\"/><g class=\"treemaplayer\"/><g class=\"sunburstlayer\"/><g class=\"glimages\"/><defs id=\"topdefs-4b5c35\"><g class=\"clips\"/></defs><g class=\"layer-above\"><g class=\"imagelayer\"/><g class=\"shapelayer\"/></g><g class=\"infolayer\"><g class=\"g-gtitle\"/><g class=\"g-xtitle\"/><g class=\"g-ytitle\"/></g></svg>"
      ]
     },
     "metadata": {},
     "output_type": "display_data"
    }
   ],
   "source": [
    "trace = pl.hist(data, bin_size=1)\n",
    "pl.show(trace)"
   ]
  },
  {
   "cell_type": "markdown",
   "id": "f2125754",
   "metadata": {},
   "source": [
    "### Add a legend"
   ]
  },
  {
   "cell_type": "markdown",
   "id": "d334faeb",
   "metadata": {},
   "source": [
    "By default, the legend is hidden. You can show it with arbitrary name of the histogram:"
   ]
  },
  {
   "cell_type": "code",
   "execution_count": 22,
   "id": "2574cd65",
   "metadata": {},
   "outputs": [
    {
     "data": {
      "image/svg+xml": [
       "<svg class=\"main-svg\" xmlns=\"http://www.w3.org/2000/svg\" xmlns:xlink=\"http://www.w3.org/1999/xlink\" width=\"500\" height=\"500\" style=\"\" viewBox=\"0 0 500 500\"><rect x=\"0\" y=\"0\" width=\"500\" height=\"500\" style=\"fill: rgb(255, 255, 255); fill-opacity: 1;\"/><defs id=\"defs-94ecc7\"><g class=\"clips\"><clipPath id=\"clip94ecc7xyplot\" class=\"plotclip\"><rect width=\"296\" height=\"404\"/></clipPath><clipPath class=\"axesclip\" id=\"clip94ecc7x\"><rect x=\"67\" y=\"0\" width=\"296\" height=\"500\"/></clipPath><clipPath class=\"axesclip\" id=\"clip94ecc7y\"><rect x=\"0\" y=\"50\" width=\"500\" height=\"404\"/></clipPath><clipPath class=\"axesclip\" id=\"clip94ecc7xy\"><rect x=\"67\" y=\"50\" width=\"296\" height=\"404\"/></clipPath></g><g class=\"gradients\"/><g class=\"patterns\"/></defs><g class=\"bglayer\"/><g class=\"layer-below\"><g class=\"imagelayer\"/><g class=\"shapelayer\"/></g><g class=\"cartesianlayer\"><g class=\"subplot xy\"><g class=\"layer-subplot\"><g class=\"shapelayer\"/><g class=\"imagelayer\"/></g><g class=\"minor-gridlayer\"><g class=\"x\"/><g class=\"y\"/></g><g class=\"gridlayer\"><g class=\"x\"/><g class=\"y\"/></g><g class=\"zerolinelayer\"/><g class=\"layer-between\"><g class=\"shapelayer\"/><g class=\"imagelayer\"/></g><path class=\"xlines-below\"/><path class=\"ylines-below\"/><g class=\"overlines-below\"/><g class=\"xaxislayer-below\"/><g class=\"yaxislayer-below\"/><g class=\"overaxes-below\"/><g class=\"overplot\"><g class=\"xy\" transform=\"translate(67,50)\" clip-path=\"url(#clip94ecc7xyplot)\"><g class=\"barlayer mlayer\"><g class=\"trace bars\" style=\"opacity: 1;\"><g class=\"points\"><g class=\"point\"><path d=\"M2.96,404V40.25H26.64V404Z\" style=\"vector-effect: none; opacity: 1; stroke-width: 0.5px; fill: rgb(11, 139, 238); fill-opacity: 1; stroke: rgb(255, 255, 255); stroke-opacity: 1;\"/></g><g class=\"point\"><path d=\"M32.56,404V55.19H56.24V404Z\" style=\"vector-effect: none; opacity: 1; stroke-width: 0.5px; fill: rgb(11, 139, 238); fill-opacity: 1; stroke: rgb(255, 255, 255); stroke-opacity: 1;\"/></g><g class=\"point\"><path d=\"M62.16,404V39.15H85.84V404Z\" style=\"vector-effect: none; opacity: 1; stroke-width: 0.5px; fill: rgb(11, 139, 238); fill-opacity: 1; stroke: rgb(255, 255, 255); stroke-opacity: 1;\"/></g><g class=\"point\"><path d=\"M91.76,404V36.24H115.44V404Z\" style=\"vector-effect: none; opacity: 1; stroke-width: 0.5px; fill: rgb(11, 139, 238); fill-opacity: 1; stroke: rgb(255, 255, 255); stroke-opacity: 1;\"/></g><g class=\"point\"><path d=\"M121.36,404V20.2H145.04V404Z\" style=\"vector-effect: none; opacity: 1; stroke-width: 0.5px; fill: rgb(11, 139, 238); fill-opacity: 1; stroke: rgb(255, 255, 255); stroke-opacity: 1;\"/></g><g class=\"point\"><path d=\"M150.96,404V44.62H174.64V404Z\" style=\"vector-effect: none; opacity: 1; stroke-width: 0.5px; fill: rgb(11, 139, 238); fill-opacity: 1; stroke: rgb(255, 255, 255); stroke-opacity: 1;\"/></g><g class=\"point\"><path d=\"M180.56,404V27.49H204.24V404Z\" style=\"vector-effect: none; opacity: 1; stroke-width: 0.5px; fill: rgb(11, 139, 238); fill-opacity: 1; stroke: rgb(255, 255, 255); stroke-opacity: 1;\"/></g><g class=\"point\"><path d=\"M210.16,404V48.63H233.84V404Z\" style=\"vector-effect: none; opacity: 1; stroke-width: 0.5px; fill: rgb(11, 139, 238); fill-opacity: 1; stroke: rgb(255, 255, 255); stroke-opacity: 1;\"/></g><g class=\"point\"><path d=\"M239.76,404V46.08H263.44V404Z\" style=\"vector-effect: none; opacity: 1; stroke-width: 0.5px; fill: rgb(11, 139, 238); fill-opacity: 1; stroke: rgb(255, 255, 255); stroke-opacity: 1;\"/></g><g class=\"point\"><path d=\"M269.36,404V37.33H293.04V404Z\" style=\"vector-effect: none; opacity: 1; stroke-width: 0.5px; fill: rgb(11, 139, 238); fill-opacity: 1; stroke: rgb(255, 255, 255); stroke-opacity: 1;\"/></g></g></g></g></g></g><path class=\"xlines-above crisp\" d=\"M66,454.5H363\" style=\"fill: none; stroke-width: 1px; stroke: rgb(0, 0, 0); stroke-opacity: 1;\"/><path class=\"ylines-above crisp\" d=\"M66.5,50V454\" style=\"fill: none; stroke-width: 1px; stroke: rgb(0, 0, 0); stroke-opacity: 1;\"/><g class=\"overlines-above\"/><g class=\"xaxislayer-above\"><path class=\"xtick ticks crisp\" d=\"M0,455v7\" transform=\"translate(81.8,0)\" style=\"stroke: rgb(0, 0, 0); stroke-opacity: 1; stroke-width: 1.2px;\"/><path class=\"xtick ticks crisp\" d=\"M0,455v7\" transform=\"translate(229.8,0)\" style=\"stroke: rgb(0, 0, 0); stroke-opacity: 1; stroke-width: 1.2px;\"/><g class=\"xtick\"><text text-anchor=\"middle\" x=\"0\" y=\"486\" transform=\"translate(81.8,0)\" style=\"font-family: Arial; font-size: 20px; fill: rgb(0, 0, 0); fill-opacity: 1; white-space: pre; opacity: 1;\">0</text></g><g class=\"xtick\"><text text-anchor=\"middle\" x=\"0\" y=\"486\" style=\"font-family: Arial; font-size: 20px; fill: rgb(0, 0, 0); fill-opacity: 1; white-space: pre; opacity: 1;\" transform=\"translate(229.8,0)\">5</text></g></g><g class=\"yaxislayer-above\"><path class=\"ytick ticks crisp\" d=\"M66,0h-7\" transform=\"translate(0,454)\" style=\"stroke: rgb(0, 0, 0); stroke-opacity: 1; stroke-width: 1.2px;\"/><path class=\"ytick ticks crisp\" d=\"M66,0h-7\" transform=\"translate(0,381.1)\" style=\"stroke: rgb(0, 0, 0); stroke-opacity: 1; stroke-width: 1.2px;\"/><path class=\"ytick ticks crisp\" d=\"M66,0h-7\" transform=\"translate(0,308.21)\" style=\"stroke: rgb(0, 0, 0); stroke-opacity: 1; stroke-width: 1.2px;\"/><path class=\"ytick ticks crisp\" d=\"M66,0h-7\" transform=\"translate(0,235.31)\" style=\"stroke: rgb(0, 0, 0); stroke-opacity: 1; stroke-width: 1.2px;\"/><path class=\"ytick ticks crisp\" d=\"M66,0h-7\" transform=\"translate(0,162.41)\" style=\"stroke: rgb(0, 0, 0); stroke-opacity: 1; stroke-width: 1.2px;\"/><path class=\"ytick ticks crisp\" d=\"M66,0h-7\" transform=\"translate(0,89.52000000000001)\" style=\"stroke: rgb(0, 0, 0); stroke-opacity: 1; stroke-width: 1.2px;\"/><g class=\"ytick\"><text text-anchor=\"end\" x=\"55\" y=\"7\" transform=\"translate(0,454)\" style=\"font-family: Arial; font-size: 20px; fill: rgb(0, 0, 0); fill-opacity: 1; white-space: pre; opacity: 1;\">0</text></g><g class=\"ytick\"><text text-anchor=\"end\" x=\"55\" y=\"7\" style=\"font-family: Arial; font-size: 20px; fill: rgb(0, 0, 0); fill-opacity: 1; white-space: pre; opacity: 1;\" transform=\"translate(0,381.1)\">200</text></g><g class=\"ytick\"><text text-anchor=\"end\" x=\"55\" y=\"7\" style=\"font-family: Arial; font-size: 20px; fill: rgb(0, 0, 0); fill-opacity: 1; white-space: pre; opacity: 1;\" transform=\"translate(0,308.21)\">400</text></g><g class=\"ytick\"><text text-anchor=\"end\" x=\"55\" y=\"7\" style=\"font-family: Arial; font-size: 20px; fill: rgb(0, 0, 0); fill-opacity: 1; white-space: pre; opacity: 1;\" transform=\"translate(0,235.31)\">600</text></g><g class=\"ytick\"><text text-anchor=\"end\" x=\"55\" y=\"7\" style=\"font-family: Arial; font-size: 20px; fill: rgb(0, 0, 0); fill-opacity: 1; white-space: pre; opacity: 1;\" transform=\"translate(0,162.41)\">800</text></g><g class=\"ytick\"><text text-anchor=\"end\" x=\"55\" y=\"7\" style=\"font-family: Arial; font-size: 20px; fill: rgb(0, 0, 0); fill-opacity: 1; white-space: pre; opacity: 1;\" transform=\"translate(0,89.52000000000001)\">1000</text></g></g><g class=\"overaxes-above\"/></g></g><g class=\"polarlayer\"/><g class=\"smithlayer\"/><g class=\"ternarylayer\"/><g class=\"geolayer\"/><g class=\"funnelarealayer\"/><g class=\"pielayer\"/><g class=\"iciclelayer\"/><g class=\"treemaplayer\"/><g class=\"sunburstlayer\"/><g class=\"glimages\"/><defs id=\"topdefs-94ecc7\"><g class=\"clips\"/><clipPath id=\"legend94ecc7\"><rect width=\"121\" height=\"39\" x=\"0\" y=\"0\"/></clipPath></defs><g class=\"layer-above\"><g class=\"imagelayer\"/><g class=\"shapelayer\"/></g><g class=\"infolayer\"><g class=\"legend\" pointer-events=\"all\" transform=\"translate(368.92,50)\"><rect class=\"bg\" shape-rendering=\"crispEdges\" style=\"stroke: rgb(0, 0, 0); stroke-opacity: 1; fill: rgb(255, 255, 255); fill-opacity: 1; stroke-width: 0px;\" width=\"121\" height=\"39\" x=\"0\" y=\"0\"/><g class=\"scrollbox\" transform=\"\" clip-path=\"url(#legend94ecc7)\"><g class=\"groups\"><g class=\"traces\" transform=\"translate(0,19.5)\" style=\"opacity: 1;\"><text class=\"legendtext\" text-anchor=\"start\" x=\"40\" y=\"7.8\" style=\"font-family: Arial; font-size: 20px; fill: rgb(0, 0, 0); fill-opacity: 1; white-space: pre;\">Random</text><g class=\"layers\" style=\"opacity: 1;\"><g class=\"legendfill\"/><g class=\"legendlines\"/><g class=\"legendsymbols\"><g class=\"legendpoints\"><path class=\"legendundefined\" d=\"M6,6H-6V-6H6Z\" transform=\"translate(20,0)\" style=\"stroke-width: 0.5px; fill: rgb(11, 139, 238); fill-opacity: 1; stroke: rgb(255, 255, 255); stroke-opacity: 1;\"/></g></g></g><rect class=\"legendtoggle\" x=\"0\" y=\"-14.5\" width=\"115.609375\" height=\"29\" style=\"fill: rgb(0, 0, 0); fill-opacity: 0;\"/></g></g></g><rect class=\"scrollbar\" rx=\"20\" ry=\"3\" width=\"0\" height=\"0\" style=\"fill: rgb(128, 139, 164); fill-opacity: 1;\" x=\"0\" y=\"0\"/></g><g class=\"g-gtitle\"/><g class=\"g-xtitle\"/><g class=\"g-ytitle\"/></g></svg>"
      ]
     },
     "metadata": {},
     "output_type": "display_data"
    }
   ],
   "source": [
    "trace = pl.hist(data, bin_size=1, name=\"Random\", show_legend=True)\n",
    "pl.show(trace)"
   ]
  },
  {
   "cell_type": "markdown",
   "id": "fceda079",
   "metadata": {},
   "source": [
    "### Customize the layout"
   ]
  },
  {
   "cell_type": "markdown",
   "id": "106a4158",
   "metadata": {},
   "source": [
    "You can also use a custom layout. For example, the following code specifies the width/height of the plot, sets axis labels, and makes the x-axis reversed:"
   ]
  },
  {
   "cell_type": "code",
   "execution_count": 23,
   "id": "642a836d",
   "metadata": {},
   "outputs": [
    {
     "data": {
      "image/svg+xml": [
       "<svg class=\"main-svg\" xmlns=\"http://www.w3.org/2000/svg\" xmlns:xlink=\"http://www.w3.org/1999/xlink\" width=\"500\" height=\"300\" style=\"\" viewBox=\"0 0 500 300\"><rect x=\"0\" y=\"0\" width=\"500\" height=\"300\" style=\"fill: rgb(255, 255, 255); fill-opacity: 1;\"/><defs id=\"defs-3a3943\"><g class=\"clips\"><clipPath id=\"clip3a3943xyplot\" class=\"plotclip\"><rect width=\"405\" height=\"181\"/></clipPath><clipPath class=\"axesclip\" id=\"clip3a3943x\"><rect x=\"85\" y=\"0\" width=\"405\" height=\"300\"/></clipPath><clipPath class=\"axesclip\" id=\"clip3a3943y\"><rect x=\"0\" y=\"50\" width=\"500\" height=\"181\"/></clipPath><clipPath class=\"axesclip\" id=\"clip3a3943xy\"><rect x=\"85\" y=\"50\" width=\"405\" height=\"181\"/></clipPath></g><g class=\"gradients\"/><g class=\"patterns\"/></defs><g class=\"bglayer\"/><g class=\"layer-below\"><g class=\"imagelayer\"/><g class=\"shapelayer\"/></g><g class=\"cartesianlayer\"><g class=\"subplot xy\"><g class=\"layer-subplot\"><g class=\"shapelayer\"/><g class=\"imagelayer\"/></g><g class=\"minor-gridlayer\"><g class=\"x\"/><g class=\"y\"/></g><g class=\"gridlayer\"><g class=\"x\"/><g class=\"y\"/></g><g class=\"zerolinelayer\"/><g class=\"layer-between\"><g class=\"shapelayer\"/><g class=\"imagelayer\"/></g><path class=\"xlines-below\"/><path class=\"ylines-below\"/><g class=\"overlines-below\"/><g class=\"xaxislayer-below\"/><g class=\"yaxislayer-below\"/><g class=\"overaxes-below\"/><g class=\"overplot\"><g class=\"xy\" transform=\"translate(85,50)\" clip-path=\"url(#clip3a3943xyplot)\"><g class=\"barlayer mlayer\"><g class=\"trace bars\" style=\"opacity: 1;\"><g class=\"points\"><g class=\"point\"><path d=\"M4.05,181V18.03H36.45V181Z\" style=\"vector-effect: none; opacity: 1; stroke-width: 0.5px; fill: rgb(11, 139, 238); fill-opacity: 1; stroke: rgb(255, 255, 255); stroke-opacity: 1;\"/></g><g class=\"point\"><path d=\"M44.55,181V24.73H76.95V181Z\" style=\"vector-effect: none; opacity: 1; stroke-width: 0.5px; fill: rgb(11, 139, 238); fill-opacity: 1; stroke: rgb(255, 255, 255); stroke-opacity: 1;\"/></g><g class=\"point\"><path d=\"M85.05,181V17.54H117.45V181Z\" style=\"vector-effect: none; opacity: 1; stroke-width: 0.5px; fill: rgb(11, 139, 238); fill-opacity: 1; stroke: rgb(255, 255, 255); stroke-opacity: 1;\"/></g><g class=\"point\"><path d=\"M125.55,181V16.23H157.95V181Z\" style=\"vector-effect: none; opacity: 1; stroke-width: 0.5px; fill: rgb(11, 139, 238); fill-opacity: 1; stroke: rgb(255, 255, 255); stroke-opacity: 1;\"/></g><g class=\"point\"><path d=\"M166.05,181V9.05H198.45V181Z\" style=\"vector-effect: none; opacity: 1; stroke-width: 0.5px; fill: rgb(11, 139, 238); fill-opacity: 1; stroke: rgb(255, 255, 255); stroke-opacity: 1;\"/></g><g class=\"point\"><path d=\"M206.55,181V19.99H238.95V181Z\" style=\"vector-effect: none; opacity: 1; stroke-width: 0.5px; fill: rgb(11, 139, 238); fill-opacity: 1; stroke: rgb(255, 255, 255); stroke-opacity: 1;\"/></g><g class=\"point\"><path d=\"M247.05,181V12.32H279.45V181Z\" style=\"vector-effect: none; opacity: 1; stroke-width: 0.5px; fill: rgb(11, 139, 238); fill-opacity: 1; stroke: rgb(255, 255, 255); stroke-opacity: 1;\"/></g><g class=\"point\"><path d=\"M287.55,181V21.79H319.95V181Z\" style=\"vector-effect: none; opacity: 1; stroke-width: 0.5px; fill: rgb(11, 139, 238); fill-opacity: 1; stroke: rgb(255, 255, 255); stroke-opacity: 1;\"/></g><g class=\"point\"><path d=\"M328.05,181V20.64H360.45V181Z\" style=\"vector-effect: none; opacity: 1; stroke-width: 0.5px; fill: rgb(11, 139, 238); fill-opacity: 1; stroke: rgb(255, 255, 255); stroke-opacity: 1;\"/></g><g class=\"point\"><path d=\"M368.55,181V16.72H400.95V181Z\" style=\"vector-effect: none; opacity: 1; stroke-width: 0.5px; fill: rgb(11, 139, 238); fill-opacity: 1; stroke: rgb(255, 255, 255); stroke-opacity: 1;\"/></g></g></g></g></g></g><path class=\"xlines-above crisp\" d=\"M84,231.5H490\" style=\"fill: none; stroke-width: 1px; stroke: rgb(0, 0, 0); stroke-opacity: 1;\"/><path class=\"ylines-above crisp\" d=\"M84.5,50V231\" style=\"fill: none; stroke-width: 1px; stroke: rgb(0, 0, 0); stroke-opacity: 1;\"/><g class=\"overlines-above\"/><g class=\"xaxislayer-above\"><path class=\"xtick ticks crisp\" d=\"M0,232v7\" transform=\"translate(105.25,0)\" style=\"stroke: rgb(0, 0, 0); stroke-opacity: 1; stroke-width: 1.2px;\"/><path class=\"xtick ticks crisp\" d=\"M0,232v7\" transform=\"translate(145.75,0)\" style=\"stroke: rgb(0, 0, 0); stroke-opacity: 1; stroke-width: 1.2px;\"/><path class=\"xtick ticks crisp\" d=\"M0,232v7\" transform=\"translate(186.25,0)\" style=\"stroke: rgb(0, 0, 0); stroke-opacity: 1; stroke-width: 1.2px;\"/><path class=\"xtick ticks crisp\" d=\"M0,232v7\" transform=\"translate(226.75,0)\" style=\"stroke: rgb(0, 0, 0); stroke-opacity: 1; stroke-width: 1.2px;\"/><path class=\"xtick ticks crisp\" d=\"M0,232v7\" transform=\"translate(267.25,0)\" style=\"stroke: rgb(0, 0, 0); stroke-opacity: 1; stroke-width: 1.2px;\"/><path class=\"xtick ticks crisp\" d=\"M0,232v7\" transform=\"translate(307.75,0)\" style=\"stroke: rgb(0, 0, 0); stroke-opacity: 1; stroke-width: 1.2px;\"/><path class=\"xtick ticks crisp\" d=\"M0,232v7\" transform=\"translate(348.25,0)\" style=\"stroke: rgb(0, 0, 0); stroke-opacity: 1; stroke-width: 1.2px;\"/><path class=\"xtick ticks crisp\" d=\"M0,232v7\" transform=\"translate(388.75,0)\" style=\"stroke: rgb(0, 0, 0); stroke-opacity: 1; stroke-width: 1.2px;\"/><path class=\"xtick ticks crisp\" d=\"M0,232v7\" transform=\"translate(429.25,0)\" style=\"stroke: rgb(0, 0, 0); stroke-opacity: 1; stroke-width: 1.2px;\"/><path class=\"xtick ticks crisp\" d=\"M0,232v7\" transform=\"translate(469.75,0)\" style=\"stroke: rgb(0, 0, 0); stroke-opacity: 1; stroke-width: 1.2px;\"/><g class=\"xtick\"><text text-anchor=\"middle\" x=\"0\" y=\"258.2\" transform=\"translate(105.25,0)\" style=\"font-family: Arial; font-size: 16px; fill: rgb(0, 0, 0); fill-opacity: 1; white-space: pre; opacity: 1;\">0</text></g><g class=\"xtick\"><text text-anchor=\"middle\" x=\"0\" y=\"258.2\" style=\"font-family: Arial; font-size: 16px; fill: rgb(0, 0, 0); fill-opacity: 1; white-space: pre; opacity: 1;\" transform=\"translate(145.75,0)\">1</text></g><g class=\"xtick\"><text text-anchor=\"middle\" x=\"0\" y=\"258.2\" style=\"font-family: Arial; font-size: 16px; fill: rgb(0, 0, 0); fill-opacity: 1; white-space: pre; opacity: 1;\" transform=\"translate(186.25,0)\">2</text></g><g class=\"xtick\"><text text-anchor=\"middle\" x=\"0\" y=\"258.2\" style=\"font-family: Arial; font-size: 16px; fill: rgb(0, 0, 0); fill-opacity: 1; white-space: pre; opacity: 1;\" transform=\"translate(226.75,0)\">3</text></g><g class=\"xtick\"><text text-anchor=\"middle\" x=\"0\" y=\"258.2\" style=\"font-family: Arial; font-size: 16px; fill: rgb(0, 0, 0); fill-opacity: 1; white-space: pre; opacity: 1;\" transform=\"translate(267.25,0)\">4</text></g><g class=\"xtick\"><text text-anchor=\"middle\" x=\"0\" y=\"258.2\" style=\"font-family: Arial; font-size: 16px; fill: rgb(0, 0, 0); fill-opacity: 1; white-space: pre; opacity: 1;\" transform=\"translate(307.75,0)\">5</text></g><g class=\"xtick\"><text text-anchor=\"middle\" x=\"0\" y=\"258.2\" style=\"font-family: Arial; font-size: 16px; fill: rgb(0, 0, 0); fill-opacity: 1; white-space: pre; opacity: 1;\" transform=\"translate(348.25,0)\">6</text></g><g class=\"xtick\"><text text-anchor=\"middle\" x=\"0\" y=\"258.2\" style=\"font-family: Arial; font-size: 16px; fill: rgb(0, 0, 0); fill-opacity: 1; white-space: pre; opacity: 1;\" transform=\"translate(388.75,0)\">7</text></g><g class=\"xtick\"><text text-anchor=\"middle\" x=\"0\" y=\"258.2\" style=\"font-family: Arial; font-size: 16px; fill: rgb(0, 0, 0); fill-opacity: 1; white-space: pre; opacity: 1;\" transform=\"translate(429.25,0)\">8</text></g><g class=\"xtick\"><text text-anchor=\"middle\" x=\"0\" y=\"258.2\" style=\"font-family: Arial; font-size: 16px; fill: rgb(0, 0, 0); fill-opacity: 1; white-space: pre; opacity: 1;\" transform=\"translate(469.75,0)\">9</text></g></g><g class=\"yaxislayer-above\"><path class=\"ytick ticks crisp\" d=\"M84,0h-7\" transform=\"translate(0,231)\" style=\"stroke: rgb(0, 0, 0); stroke-opacity: 1; stroke-width: 1.2px;\"/><path class=\"ytick ticks crisp\" d=\"M84,0h-7\" transform=\"translate(0,149.35)\" style=\"stroke: rgb(0, 0, 0); stroke-opacity: 1; stroke-width: 1.2px;\"/><path class=\"ytick ticks crisp\" d=\"M84,0h-7\" transform=\"translate(0,67.7)\" style=\"stroke: rgb(0, 0, 0); stroke-opacity: 1; stroke-width: 1.2px;\"/><g class=\"ytick\"><text text-anchor=\"end\" x=\"73.8\" y=\"5.6\" transform=\"translate(0,231)\" style=\"font-family: Arial; font-size: 16px; fill: rgb(0, 0, 0); fill-opacity: 1; white-space: pre; opacity: 1;\">0</text></g><g class=\"ytick\"><text text-anchor=\"end\" x=\"73.8\" y=\"5.6\" style=\"font-family: Arial; font-size: 16px; fill: rgb(0, 0, 0); fill-opacity: 1; white-space: pre; opacity: 1;\" transform=\"translate(0,149.35)\">500</text></g><g class=\"ytick\"><text text-anchor=\"end\" x=\"73.8\" y=\"5.6\" style=\"font-family: Arial; font-size: 16px; fill: rgb(0, 0, 0); fill-opacity: 1; white-space: pre; opacity: 1;\" transform=\"translate(0,67.7)\">1000</text></g></g><g class=\"overaxes-above\"/></g></g><g class=\"polarlayer\"/><g class=\"smithlayer\"/><g class=\"ternarylayer\"/><g class=\"geolayer\"/><g class=\"funnelarealayer\"/><g class=\"pielayer\"/><g class=\"iciclelayer\"/><g class=\"treemaplayer\"/><g class=\"sunburstlayer\"/><g class=\"glimages\"/><defs id=\"topdefs-3a3943\"><g class=\"clips\"/><clipPath id=\"legend3a3943\"><rect width=\"106\" height=\"34\" x=\"0\" y=\"0\"/></clipPath></defs><g class=\"layer-above\"><g class=\"imagelayer\"/><g class=\"shapelayer\"/></g><g class=\"infolayer\"><g class=\"legend\" pointer-events=\"all\" transform=\"translate(105.25,13.800000000000011)\"><rect class=\"bg\" shape-rendering=\"crispEdges\" style=\"stroke: rgb(0, 0, 0); stroke-opacity: 1; fill: rgb(255, 255, 255); fill-opacity: 1; stroke-width: 0px;\" width=\"106\" height=\"34\" x=\"0\" y=\"0\"/><g class=\"scrollbox\" transform=\"\" clip-path=\"url(#legend3a3943)\"><g class=\"groups\"><g class=\"traces\" transform=\"translate(0,16.9)\" style=\"opacity: 1;\"><text class=\"legendtext\" text-anchor=\"start\" x=\"40\" y=\"6.24\" style=\"font-family: Arial; font-size: 16px; fill: rgb(0, 0, 0); fill-opacity: 1; white-space: pre;\">Random</text><g class=\"layers\" style=\"opacity: 1;\"><g class=\"legendfill\"/><g class=\"legendlines\"/><g class=\"legendsymbols\"><g class=\"legendpoints\"><path class=\"legendundefined\" d=\"M6,6H-6V-6H6Z\" transform=\"translate(20,0)\" style=\"stroke-width: 0.5px; fill: rgb(11, 139, 238); fill-opacity: 1; stroke: rgb(255, 255, 255); stroke-opacity: 1;\"/></g></g></g><rect class=\"legendtoggle\" x=\"0\" y=\"-11.9\" width=\"102.984375\" height=\"23.8\" style=\"fill: rgb(0, 0, 0); fill-opacity: 0;\"/></g></g></g><rect class=\"scrollbar\" rx=\"20\" ry=\"3\" width=\"0\" height=\"0\" style=\"fill: rgb(128, 139, 164); fill-opacity: 1;\" x=\"0\" y=\"0\"/></g><g class=\"g-gtitle\"/><g class=\"g-xtitle\"><text class=\"xtitle\" x=\"287.5\" y=\"289.503125\" text-anchor=\"middle\" style=\"opacity: 1; font-family: Arial; font-size: 19px; fill: rgb(0, 0, 0); fill-opacity: 1; white-space: pre;\">Number</text></g><g class=\"g-ytitle\"><text class=\"ytitle\" transform=\"rotate(-90,17.053124999999994,140.5)\" x=\"17.053124999999994\" y=\"140.5\" text-anchor=\"middle\" style=\"opacity: 1; font-family: Arial; font-size: 19px; fill: rgb(0, 0, 0); fill-opacity: 1; white-space: pre;\">Frequency</text></g></g></svg>"
      ]
     },
     "metadata": {},
     "output_type": "display_data"
    }
   ],
   "source": [
    "layout = pl.layout(width=500, height=300, x_title=\"Number\", y_title=\"Frequency\", x_dtick=1,\n",
    "                   legend_horizontal=True, legend_coord=(0.05, 1.2))\n",
    "pl.show(trace, layout)"
   ]
  },
  {
   "cell_type": "markdown",
   "id": "444cae3a",
   "metadata": {},
   "source": [
    "# Plots"
   ]
  },
  {
   "cell_type": "markdown",
   "id": "872b9c92",
   "metadata": {},
   "source": [
    "## `pl.hist`: Histogram"
   ]
  },
  {
   "cell_type": "markdown",
   "id": "60514c4e",
   "metadata": {},
   "source": [
    "Lightweight histogram using a `go.Bar` instead of `go.Histogram`."
   ]
  },
  {
   "cell_type": "code",
   "execution_count": 24,
   "id": "7d92ba4a",
   "metadata": {},
   "outputs": [
    {
     "data": {
      "image/svg+xml": [
       "<svg class=\"main-svg\" xmlns=\"http://www.w3.org/2000/svg\" xmlns:xlink=\"http://www.w3.org/1999/xlink\" width=\"500\" height=\"500\" style=\"\" viewBox=\"0 0 500 500\"><rect x=\"0\" y=\"0\" width=\"500\" height=\"500\" style=\"fill: rgb(255, 255, 255); fill-opacity: 1;\"/><defs id=\"defs-ad7e44\"><g class=\"clips\"><clipPath id=\"clipad7e44xyplot\" class=\"plotclip\"><rect width=\"426\" height=\"404\"/></clipPath><clipPath class=\"axesclip\" id=\"clipad7e44x\"><rect x=\"50\" y=\"0\" width=\"426\" height=\"500\"/></clipPath><clipPath class=\"axesclip\" id=\"clipad7e44y\"><rect x=\"0\" y=\"50\" width=\"500\" height=\"404\"/></clipPath><clipPath class=\"axesclip\" id=\"clipad7e44xy\"><rect x=\"50\" y=\"50\" width=\"426\" height=\"404\"/></clipPath></g><g class=\"gradients\"/><g class=\"patterns\"/></defs><g class=\"bglayer\"/><g class=\"layer-below\"><g class=\"imagelayer\"/><g class=\"shapelayer\"/></g><g class=\"cartesianlayer\"><g class=\"subplot xy\"><g class=\"layer-subplot\"><g class=\"shapelayer\"/><g class=\"imagelayer\"/></g><g class=\"minor-gridlayer\"><g class=\"x\"/><g class=\"y\"/></g><g class=\"gridlayer\"><g class=\"x\"/><g class=\"y\"/></g><g class=\"zerolinelayer\"/><g class=\"layer-between\"><g class=\"shapelayer\"/><g class=\"imagelayer\"/></g><path class=\"xlines-below\"/><path class=\"ylines-below\"/><g class=\"overlines-below\"/><g class=\"xaxislayer-below\"/><g class=\"yaxislayer-below\"/><g class=\"overaxes-below\"/><g class=\"overplot\"><g class=\"xy\" transform=\"translate(50,50)\" clip-path=\"url(#clipad7e44xyplot)\"><g class=\"barlayer mlayer\"><g class=\"trace bars\" style=\"opacity: 1;\"><g class=\"points\"><g class=\"point\"><path d=\"M14.2,404V20.2H127.8V404Z\" style=\"vector-effect: none; opacity: 1; stroke-width: 0.5px; fill: rgb(11, 139, 238); fill-opacity: 1; stroke: rgb(255, 255, 255); stroke-opacity: 1;\"/></g><g class=\"point\"><path d=\"M156.2,404V20.2H269.8V404Z\" style=\"vector-effect: none; opacity: 1; stroke-width: 0.5px; fill: rgb(11, 139, 238); fill-opacity: 1; stroke: rgb(255, 255, 255); stroke-opacity: 1;\"/></g><g class=\"point\"><path d=\"M298.2,404V20.2H411.8V404Z\" style=\"vector-effect: none; opacity: 1; stroke-width: 0.5px; fill: rgb(11, 139, 238); fill-opacity: 1; stroke: rgb(255, 255, 255); stroke-opacity: 1;\"/></g></g></g></g></g></g><path class=\"xlines-above crisp\" d=\"M49,454.5H476\" style=\"fill: none; stroke-width: 1px; stroke: rgb(0, 0, 0); stroke-opacity: 1;\"/><path class=\"ylines-above crisp\" d=\"M49.5,50V454\" style=\"fill: none; stroke-width: 1px; stroke: rgb(0, 0, 0); stroke-opacity: 1;\"/><g class=\"overlines-above\"/><g class=\"xaxislayer-above\"><path class=\"xtick ticks crisp\" d=\"M0,455v7\" transform=\"translate(50,0)\" style=\"stroke: rgb(0, 0, 0); stroke-opacity: 1; stroke-width: 1.2px;\"/><path class=\"xtick ticks crisp\" d=\"M0,455v7\" transform=\"translate(121,0)\" style=\"stroke: rgb(0, 0, 0); stroke-opacity: 1; stroke-width: 1.2px;\"/><path class=\"xtick ticks crisp\" d=\"M0,455v7\" transform=\"translate(192,0)\" style=\"stroke: rgb(0, 0, 0); stroke-opacity: 1; stroke-width: 1.2px;\"/><path class=\"xtick ticks crisp\" d=\"M0,455v7\" transform=\"translate(263,0)\" style=\"stroke: rgb(0, 0, 0); stroke-opacity: 1; stroke-width: 1.2px;\"/><path class=\"xtick ticks crisp\" d=\"M0,455v7\" transform=\"translate(334,0)\" style=\"stroke: rgb(0, 0, 0); stroke-opacity: 1; stroke-width: 1.2px;\"/><path class=\"xtick ticks crisp\" d=\"M0,455v7\" transform=\"translate(405,0)\" style=\"stroke: rgb(0, 0, 0); stroke-opacity: 1; stroke-width: 1.2px;\"/><path class=\"xtick ticks crisp\" d=\"M0,455v7\" transform=\"translate(476,0)\" style=\"stroke: rgb(0, 0, 0); stroke-opacity: 1; stroke-width: 1.2px;\"/><g class=\"xtick\"><text text-anchor=\"middle\" x=\"0\" y=\"486\" transform=\"translate(50,0)\" style=\"font-family: Arial; font-size: 20px; fill: rgb(0, 0, 0); fill-opacity: 1; white-space: pre; opacity: 1;\">0.5</text></g><g class=\"xtick\"><text text-anchor=\"middle\" x=\"0\" y=\"486\" style=\"font-family: Arial; font-size: 20px; fill: rgb(0, 0, 0); fill-opacity: 1; white-space: pre; opacity: 1;\" transform=\"translate(121,0)\">1</text></g><g class=\"xtick\"><text text-anchor=\"middle\" x=\"0\" y=\"486\" style=\"font-family: Arial; font-size: 20px; fill: rgb(0, 0, 0); fill-opacity: 1; white-space: pre; opacity: 1;\" transform=\"translate(192,0)\">1.5</text></g><g class=\"xtick\"><text text-anchor=\"middle\" x=\"0\" y=\"486\" style=\"font-family: Arial; font-size: 20px; fill: rgb(0, 0, 0); fill-opacity: 1; white-space: pre; opacity: 1;\" transform=\"translate(263,0)\">2</text></g><g class=\"xtick\"><text text-anchor=\"middle\" x=\"0\" y=\"486\" style=\"font-family: Arial; font-size: 20px; fill: rgb(0, 0, 0); fill-opacity: 1; white-space: pre; opacity: 1;\" transform=\"translate(334,0)\">2.5</text></g><g class=\"xtick\"><text text-anchor=\"middle\" x=\"0\" y=\"486\" style=\"font-family: Arial; font-size: 20px; fill: rgb(0, 0, 0); fill-opacity: 1; white-space: pre; opacity: 1;\" transform=\"translate(405,0)\">3</text></g><g class=\"xtick\"><text text-anchor=\"middle\" x=\"0\" y=\"486\" style=\"font-family: Arial; font-size: 20px; fill: rgb(0, 0, 0); fill-opacity: 1; white-space: pre; opacity: 1;\" transform=\"translate(476,0)\">3.5</text></g></g><g class=\"yaxislayer-above\"><path class=\"ytick ticks crisp\" d=\"M49,0h-7\" transform=\"translate(0,454)\" style=\"stroke: rgb(0, 0, 0); stroke-opacity: 1; stroke-width: 1.2px;\"/><path class=\"ytick ticks crisp\" d=\"M49,0h-7\" transform=\"translate(0,377.24)\" style=\"stroke: rgb(0, 0, 0); stroke-opacity: 1; stroke-width: 1.2px;\"/><path class=\"ytick ticks crisp\" d=\"M49,0h-7\" transform=\"translate(0,300.48)\" style=\"stroke: rgb(0, 0, 0); stroke-opacity: 1; stroke-width: 1.2px;\"/><path class=\"ytick ticks crisp\" d=\"M49,0h-7\" transform=\"translate(0,223.72)\" style=\"stroke: rgb(0, 0, 0); stroke-opacity: 1; stroke-width: 1.2px;\"/><path class=\"ytick ticks crisp\" d=\"M49,0h-7\" transform=\"translate(0,146.95999999999998)\" style=\"stroke: rgb(0, 0, 0); stroke-opacity: 1; stroke-width: 1.2px;\"/><path class=\"ytick ticks crisp\" d=\"M49,0h-7\" transform=\"translate(0,70.2)\" style=\"stroke: rgb(0, 0, 0); stroke-opacity: 1; stroke-width: 1.2px;\"/><g class=\"ytick\"><text text-anchor=\"end\" x=\"38\" y=\"7\" transform=\"translate(0,454)\" style=\"font-family: Arial; font-size: 20px; fill: rgb(0, 0, 0); fill-opacity: 1; white-space: pre; opacity: 1;\">0</text></g><g class=\"ytick\"><text text-anchor=\"end\" x=\"38\" y=\"7\" style=\"font-family: Arial; font-size: 20px; fill: rgb(0, 0, 0); fill-opacity: 1; white-space: pre; opacity: 1;\" transform=\"translate(0,377.24)\">0.2</text></g><g class=\"ytick\"><text text-anchor=\"end\" x=\"38\" y=\"7\" style=\"font-family: Arial; font-size: 20px; fill: rgb(0, 0, 0); fill-opacity: 1; white-space: pre; opacity: 1;\" transform=\"translate(0,300.48)\">0.4</text></g><g class=\"ytick\"><text text-anchor=\"end\" x=\"38\" y=\"7\" style=\"font-family: Arial; font-size: 20px; fill: rgb(0, 0, 0); fill-opacity: 1; white-space: pre; opacity: 1;\" transform=\"translate(0,223.72)\">0.6</text></g><g class=\"ytick\"><text text-anchor=\"end\" x=\"38\" y=\"7\" style=\"font-family: Arial; font-size: 20px; fill: rgb(0, 0, 0); fill-opacity: 1; white-space: pre; opacity: 1;\" transform=\"translate(0,146.95999999999998)\">0.8</text></g><g class=\"ytick\"><text text-anchor=\"end\" x=\"38\" y=\"7\" style=\"font-family: Arial; font-size: 20px; fill: rgb(0, 0, 0); fill-opacity: 1; white-space: pre; opacity: 1;\" transform=\"translate(0,70.2)\">1</text></g></g><g class=\"overaxes-above\"/></g></g><g class=\"polarlayer\"/><g class=\"smithlayer\"/><g class=\"ternarylayer\"/><g class=\"geolayer\"/><g class=\"funnelarealayer\"/><g class=\"pielayer\"/><g class=\"iciclelayer\"/><g class=\"treemaplayer\"/><g class=\"sunburstlayer\"/><g class=\"glimages\"/><defs id=\"topdefs-ad7e44\"><g class=\"clips\"/></defs><g class=\"layer-above\"><g class=\"imagelayer\"/><g class=\"shapelayer\"/></g><g class=\"infolayer\"><g class=\"g-gtitle\"/><g class=\"g-xtitle\"/><g class=\"g-ytitle\"/></g></svg>"
      ]
     },
     "metadata": {},
     "output_type": "display_data"
    }
   ],
   "source": [
    "pl.show(pl.hist([1, 2, 3], bin_size=1))"
   ]
  },
  {
   "cell_type": "markdown",
   "id": "d0adbe00-c961-4440-a320-86d67631128a",
   "metadata": {},
   "source": [
    "**NOTE:** Specifying `bin_size` (and `start` and `end` as well) will result in a natural binning."
   ]
  },
  {
   "cell_type": "markdown",
   "id": "839cf3e6-162b-4318-8996-6ad2401494a9",
   "metadata": {},
   "source": [
    "You can force to use `go.Histogram`:"
   ]
  },
  {
   "cell_type": "code",
   "execution_count": 25,
   "id": "e765238d-54df-417d-b26d-abd7355e625a",
   "metadata": {},
   "outputs": [
    {
     "data": {
      "image/svg+xml": [
       "<svg class=\"main-svg\" xmlns=\"http://www.w3.org/2000/svg\" xmlns:xlink=\"http://www.w3.org/1999/xlink\" width=\"500\" height=\"500\" style=\"\" viewBox=\"0 0 500 500\"><rect x=\"0\" y=\"0\" width=\"500\" height=\"500\" style=\"fill: rgb(255, 255, 255); fill-opacity: 1;\"/><defs id=\"defs-3078a1\"><g class=\"clips\"><clipPath id=\"clip3078a1xyplot\" class=\"plotclip\"><rect width=\"426\" height=\"404\"/></clipPath><clipPath class=\"axesclip\" id=\"clip3078a1x\"><rect x=\"50\" y=\"0\" width=\"426\" height=\"500\"/></clipPath><clipPath class=\"axesclip\" id=\"clip3078a1y\"><rect x=\"0\" y=\"50\" width=\"500\" height=\"404\"/></clipPath><clipPath class=\"axesclip\" id=\"clip3078a1xy\"><rect x=\"50\" y=\"50\" width=\"426\" height=\"404\"/></clipPath></g><g class=\"gradients\"/><g class=\"patterns\"/></defs><g class=\"bglayer\"/><g class=\"layer-below\"><g class=\"imagelayer\"/><g class=\"shapelayer\"/></g><g class=\"cartesianlayer\"><g class=\"subplot xy\"><g class=\"layer-subplot\"><g class=\"shapelayer\"/><g class=\"imagelayer\"/></g><g class=\"minor-gridlayer\"><g class=\"x\"/><g class=\"y\"/></g><g class=\"gridlayer\"><g class=\"x\"/><g class=\"y\"/></g><g class=\"zerolinelayer\"/><g class=\"layer-between\"><g class=\"shapelayer\"/><g class=\"imagelayer\"/></g><path class=\"xlines-below\"/><path class=\"ylines-below\"/><g class=\"overlines-below\"/><g class=\"xaxislayer-below\"/><g class=\"yaxislayer-below\"/><g class=\"overaxes-below\"/><g class=\"overplot\"><g class=\"xy\" transform=\"translate(50,50)\" clip-path=\"url(#clip3078a1xyplot)\"><g class=\"barlayer mlayer\"><g class=\"trace bars\" style=\"opacity: 1;\"><g class=\"points\"><g class=\"point\"><path d=\"M0,404V20.2H142V404Z\" style=\"vector-effect: none; opacity: 1; stroke-width: 0.6px; fill: rgb(11, 139, 238); fill-opacity: 1; stroke: rgb(255, 255, 255); stroke-opacity: 1;\"/></g><g class=\"point\"><path d=\"M142,404V20.2H284V404Z\" style=\"vector-effect: none; opacity: 1; stroke-width: 0.6px; fill: rgb(11, 139, 238); fill-opacity: 1; stroke: rgb(255, 255, 255); stroke-opacity: 1;\"/></g><g class=\"point\"><path d=\"M284,404V20.2H426V404Z\" style=\"vector-effect: none; opacity: 1; stroke-width: 0.6px; fill: rgb(11, 139, 238); fill-opacity: 1; stroke: rgb(255, 255, 255); stroke-opacity: 1;\"/></g></g></g></g></g></g><path class=\"xlines-above crisp\" d=\"M49,454.5H476\" style=\"fill: none; stroke-width: 1px; stroke: rgb(0, 0, 0); stroke-opacity: 1;\"/><path class=\"ylines-above crisp\" d=\"M49.5,50V454\" style=\"fill: none; stroke-width: 1px; stroke: rgb(0, 0, 0); stroke-opacity: 1;\"/><g class=\"overlines-above\"/><g class=\"xaxislayer-above\"><path class=\"xtick ticks crisp\" d=\"M0,455v7\" transform=\"translate(50,0)\" style=\"stroke: rgb(0, 0, 0); stroke-opacity: 1; stroke-width: 1.2px;\"/><path class=\"xtick ticks crisp\" d=\"M0,455v7\" transform=\"translate(121,0)\" style=\"stroke: rgb(0, 0, 0); stroke-opacity: 1; stroke-width: 1.2px;\"/><path class=\"xtick ticks crisp\" d=\"M0,455v7\" transform=\"translate(192,0)\" style=\"stroke: rgb(0, 0, 0); stroke-opacity: 1; stroke-width: 1.2px;\"/><path class=\"xtick ticks crisp\" d=\"M0,455v7\" transform=\"translate(263,0)\" style=\"stroke: rgb(0, 0, 0); stroke-opacity: 1; stroke-width: 1.2px;\"/><path class=\"xtick ticks crisp\" d=\"M0,455v7\" transform=\"translate(334,0)\" style=\"stroke: rgb(0, 0, 0); stroke-opacity: 1; stroke-width: 1.2px;\"/><path class=\"xtick ticks crisp\" d=\"M0,455v7\" transform=\"translate(405,0)\" style=\"stroke: rgb(0, 0, 0); stroke-opacity: 1; stroke-width: 1.2px;\"/><path class=\"xtick ticks crisp\" d=\"M0,455v7\" transform=\"translate(476,0)\" style=\"stroke: rgb(0, 0, 0); stroke-opacity: 1; stroke-width: 1.2px;\"/><g class=\"xtick\"><text text-anchor=\"middle\" x=\"0\" y=\"486\" transform=\"translate(50,0)\" style=\"font-family: Arial; font-size: 20px; fill: rgb(0, 0, 0); fill-opacity: 1; white-space: pre; opacity: 1;\">0.5</text></g><g class=\"xtick\"><text text-anchor=\"middle\" x=\"0\" y=\"486\" style=\"font-family: Arial; font-size: 20px; fill: rgb(0, 0, 0); fill-opacity: 1; white-space: pre; opacity: 1;\" transform=\"translate(121,0)\">1</text></g><g class=\"xtick\"><text text-anchor=\"middle\" x=\"0\" y=\"486\" style=\"font-family: Arial; font-size: 20px; fill: rgb(0, 0, 0); fill-opacity: 1; white-space: pre; opacity: 1;\" transform=\"translate(192,0)\">1.5</text></g><g class=\"xtick\"><text text-anchor=\"middle\" x=\"0\" y=\"486\" style=\"font-family: Arial; font-size: 20px; fill: rgb(0, 0, 0); fill-opacity: 1; white-space: pre; opacity: 1;\" transform=\"translate(263,0)\">2</text></g><g class=\"xtick\"><text text-anchor=\"middle\" x=\"0\" y=\"486\" style=\"font-family: Arial; font-size: 20px; fill: rgb(0, 0, 0); fill-opacity: 1; white-space: pre; opacity: 1;\" transform=\"translate(334,0)\">2.5</text></g><g class=\"xtick\"><text text-anchor=\"middle\" x=\"0\" y=\"486\" style=\"font-family: Arial; font-size: 20px; fill: rgb(0, 0, 0); fill-opacity: 1; white-space: pre; opacity: 1;\" transform=\"translate(405,0)\">3</text></g><g class=\"xtick\"><text text-anchor=\"middle\" x=\"0\" y=\"486\" style=\"font-family: Arial; font-size: 20px; fill: rgb(0, 0, 0); fill-opacity: 1; white-space: pre; opacity: 1;\" transform=\"translate(476,0)\">3.5</text></g></g><g class=\"yaxislayer-above\"><path class=\"ytick ticks crisp\" d=\"M49,0h-7\" transform=\"translate(0,454)\" style=\"stroke: rgb(0, 0, 0); stroke-opacity: 1; stroke-width: 1.2px;\"/><path class=\"ytick ticks crisp\" d=\"M49,0h-7\" transform=\"translate(0,377.24)\" style=\"stroke: rgb(0, 0, 0); stroke-opacity: 1; stroke-width: 1.2px;\"/><path class=\"ytick ticks crisp\" d=\"M49,0h-7\" transform=\"translate(0,300.48)\" style=\"stroke: rgb(0, 0, 0); stroke-opacity: 1; stroke-width: 1.2px;\"/><path class=\"ytick ticks crisp\" d=\"M49,0h-7\" transform=\"translate(0,223.72)\" style=\"stroke: rgb(0, 0, 0); stroke-opacity: 1; stroke-width: 1.2px;\"/><path class=\"ytick ticks crisp\" d=\"M49,0h-7\" transform=\"translate(0,146.95999999999998)\" style=\"stroke: rgb(0, 0, 0); stroke-opacity: 1; stroke-width: 1.2px;\"/><path class=\"ytick ticks crisp\" d=\"M49,0h-7\" transform=\"translate(0,70.2)\" style=\"stroke: rgb(0, 0, 0); stroke-opacity: 1; stroke-width: 1.2px;\"/><g class=\"ytick\"><text text-anchor=\"end\" x=\"38\" y=\"7\" transform=\"translate(0,454)\" style=\"font-family: Arial; font-size: 20px; fill: rgb(0, 0, 0); fill-opacity: 1; white-space: pre; opacity: 1;\">0</text></g><g class=\"ytick\"><text text-anchor=\"end\" x=\"38\" y=\"7\" style=\"font-family: Arial; font-size: 20px; fill: rgb(0, 0, 0); fill-opacity: 1; white-space: pre; opacity: 1;\" transform=\"translate(0,377.24)\">0.2</text></g><g class=\"ytick\"><text text-anchor=\"end\" x=\"38\" y=\"7\" style=\"font-family: Arial; font-size: 20px; fill: rgb(0, 0, 0); fill-opacity: 1; white-space: pre; opacity: 1;\" transform=\"translate(0,300.48)\">0.4</text></g><g class=\"ytick\"><text text-anchor=\"end\" x=\"38\" y=\"7\" style=\"font-family: Arial; font-size: 20px; fill: rgb(0, 0, 0); fill-opacity: 1; white-space: pre; opacity: 1;\" transform=\"translate(0,223.72)\">0.6</text></g><g class=\"ytick\"><text text-anchor=\"end\" x=\"38\" y=\"7\" style=\"font-family: Arial; font-size: 20px; fill: rgb(0, 0, 0); fill-opacity: 1; white-space: pre; opacity: 1;\" transform=\"translate(0,146.95999999999998)\">0.8</text></g><g class=\"ytick\"><text text-anchor=\"end\" x=\"38\" y=\"7\" style=\"font-family: Arial; font-size: 20px; fill: rgb(0, 0, 0); fill-opacity: 1; white-space: pre; opacity: 1;\" transform=\"translate(0,70.2)\">1</text></g></g><g class=\"overaxes-above\"/></g></g><g class=\"polarlayer\"/><g class=\"smithlayer\"/><g class=\"ternarylayer\"/><g class=\"geolayer\"/><g class=\"funnelarealayer\"/><g class=\"pielayer\"/><g class=\"iciclelayer\"/><g class=\"treemaplayer\"/><g class=\"sunburstlayer\"/><g class=\"glimages\"/><defs id=\"topdefs-3078a1\"><g class=\"clips\"/></defs><g class=\"layer-above\"><g class=\"imagelayer\"/><g class=\"shapelayer\"/></g><g class=\"infolayer\"><g class=\"g-gtitle\"/><g class=\"g-xtitle\"/><g class=\"g-ytitle\"/></g></svg>"
      ]
     },
     "metadata": {},
     "output_type": "display_data"
    }
   ],
   "source": [
    "pl.show(pl.hist([1, 2, 3], bin_size=1, use_histogram=True))"
   ]
  },
  {
   "cell_type": "markdown",
   "id": "647edfab",
   "metadata": {},
   "source": [
    "## `pl.bar`: Bar plot"
   ]
  },
  {
   "cell_type": "markdown",
   "id": "ecb31a7d",
   "metadata": {},
   "source": [
    "Wrapper for `go.Bar`."
   ]
  },
  {
   "cell_type": "code",
   "execution_count": 26,
   "id": "d4e71b34",
   "metadata": {},
   "outputs": [
    {
     "data": {
      "image/svg+xml": [
       "<svg class=\"main-svg\" xmlns=\"http://www.w3.org/2000/svg\" xmlns:xlink=\"http://www.w3.org/1999/xlink\" width=\"500\" height=\"500\" style=\"\" viewBox=\"0 0 500 500\"><rect x=\"0\" y=\"0\" width=\"500\" height=\"500\" style=\"fill: rgb(255, 255, 255); fill-opacity: 1;\"/><defs id=\"defs-0fe048\"><g class=\"clips\"><clipPath id=\"clip0fe048xyplot\" class=\"plotclip\"><rect width=\"426\" height=\"404\"/></clipPath><clipPath class=\"axesclip\" id=\"clip0fe048x\"><rect x=\"50\" y=\"0\" width=\"426\" height=\"500\"/></clipPath><clipPath class=\"axesclip\" id=\"clip0fe048y\"><rect x=\"0\" y=\"50\" width=\"500\" height=\"404\"/></clipPath><clipPath class=\"axesclip\" id=\"clip0fe048xy\"><rect x=\"50\" y=\"50\" width=\"426\" height=\"404\"/></clipPath></g><g class=\"gradients\"/><g class=\"patterns\"/></defs><g class=\"bglayer\"/><g class=\"layer-below\"><g class=\"imagelayer\"/><g class=\"shapelayer\"/></g><g class=\"cartesianlayer\"><g class=\"subplot xy\"><g class=\"layer-subplot\"><g class=\"shapelayer\"/><g class=\"imagelayer\"/></g><g class=\"minor-gridlayer\"><g class=\"x\"/><g class=\"y\"/></g><g class=\"gridlayer\"><g class=\"x\"/><g class=\"y\"/></g><g class=\"zerolinelayer\"/><g class=\"layer-between\"><g class=\"shapelayer\"/><g class=\"imagelayer\"/></g><path class=\"xlines-below\"/><path class=\"ylines-below\"/><g class=\"overlines-below\"/><g class=\"xaxislayer-below\"/><g class=\"yaxislayer-below\"/><g class=\"overaxes-below\"/><g class=\"overplot\"><g class=\"xy\" transform=\"translate(50,50)\" clip-path=\"url(#clip0fe048xyplot)\"><g class=\"barlayer mlayer\"><g class=\"trace bars\" style=\"opacity: 1;\"><g class=\"points\"><g class=\"point\"><path d=\"M21.3,404V116.15H191.7V404Z\" style=\"vector-effect: none; opacity: 1; stroke-width: 0.5px; fill: rgb(11, 139, 238); fill-opacity: 1; stroke: rgb(255, 255, 255); stroke-opacity: 1;\"/></g><g class=\"point\"><path d=\"M234.3,404V20.2H404.7V404Z\" style=\"vector-effect: none; opacity: 1; stroke-width: 0.5px; fill: rgb(11, 139, 238); fill-opacity: 1; stroke: rgb(255, 255, 255); stroke-opacity: 1;\"/></g></g></g></g></g></g><path class=\"xlines-above crisp\" d=\"M49,454.5H476\" style=\"fill: none; stroke-width: 1px; stroke: rgb(0, 0, 0); stroke-opacity: 1;\"/><path class=\"ylines-above crisp\" d=\"M49.5,50V454\" style=\"fill: none; stroke-width: 1px; stroke: rgb(0, 0, 0); stroke-opacity: 1;\"/><g class=\"overlines-above\"/><g class=\"xaxislayer-above\"><path class=\"xtick ticks crisp\" d=\"M0,455v7\" transform=\"translate(50,0)\" style=\"stroke: rgb(0, 0, 0); stroke-opacity: 1; stroke-width: 1.2px;\"/><path class=\"xtick ticks crisp\" d=\"M0,455v7\" transform=\"translate(156.5,0)\" style=\"stroke: rgb(0, 0, 0); stroke-opacity: 1; stroke-width: 1.2px;\"/><path class=\"xtick ticks crisp\" d=\"M0,455v7\" transform=\"translate(263,0)\" style=\"stroke: rgb(0, 0, 0); stroke-opacity: 1; stroke-width: 1.2px;\"/><path class=\"xtick ticks crisp\" d=\"M0,455v7\" transform=\"translate(369.5,0)\" style=\"stroke: rgb(0, 0, 0); stroke-opacity: 1; stroke-width: 1.2px;\"/><path class=\"xtick ticks crisp\" d=\"M0,455v7\" transform=\"translate(476,0)\" style=\"stroke: rgb(0, 0, 0); stroke-opacity: 1; stroke-width: 1.2px;\"/><g class=\"xtick\"><text text-anchor=\"middle\" x=\"0\" y=\"486\" transform=\"translate(50,0)\" style=\"font-family: Arial; font-size: 20px; fill: rgb(0, 0, 0); fill-opacity: 1; white-space: pre; opacity: 1;\">0.5</text></g><g class=\"xtick\"><text text-anchor=\"middle\" x=\"0\" y=\"486\" style=\"font-family: Arial; font-size: 20px; fill: rgb(0, 0, 0); fill-opacity: 1; white-space: pre; opacity: 1;\" transform=\"translate(156.5,0)\">1</text></g><g class=\"xtick\"><text text-anchor=\"middle\" x=\"0\" y=\"486\" style=\"font-family: Arial; font-size: 20px; fill: rgb(0, 0, 0); fill-opacity: 1; white-space: pre; opacity: 1;\" transform=\"translate(263,0)\">1.5</text></g><g class=\"xtick\"><text text-anchor=\"middle\" x=\"0\" y=\"486\" style=\"font-family: Arial; font-size: 20px; fill: rgb(0, 0, 0); fill-opacity: 1; white-space: pre; opacity: 1;\" transform=\"translate(369.5,0)\">2</text></g><g class=\"xtick\"><text text-anchor=\"middle\" x=\"0\" y=\"486\" style=\"font-family: Arial; font-size: 20px; fill: rgb(0, 0, 0); fill-opacity: 1; white-space: pre; opacity: 1;\" transform=\"translate(476,0)\">2.5</text></g></g><g class=\"yaxislayer-above\"><path class=\"ytick ticks crisp\" d=\"M49,0h-7\" transform=\"translate(0,454)\" style=\"stroke: rgb(0, 0, 0); stroke-opacity: 1; stroke-width: 1.2px;\"/><path class=\"ytick ticks crisp\" d=\"M49,0h-7\" transform=\"translate(0,406.03)\" style=\"stroke: rgb(0, 0, 0); stroke-opacity: 1; stroke-width: 1.2px;\"/><path class=\"ytick ticks crisp\" d=\"M49,0h-7\" transform=\"translate(0,358.05)\" style=\"stroke: rgb(0, 0, 0); stroke-opacity: 1; stroke-width: 1.2px;\"/><path class=\"ytick ticks crisp\" d=\"M49,0h-7\" transform=\"translate(0,310.08)\" style=\"stroke: rgb(0, 0, 0); stroke-opacity: 1; stroke-width: 1.2px;\"/><path class=\"ytick ticks crisp\" d=\"M49,0h-7\" transform=\"translate(0,262.1)\" style=\"stroke: rgb(0, 0, 0); stroke-opacity: 1; stroke-width: 1.2px;\"/><path class=\"ytick ticks crisp\" d=\"M49,0h-7\" transform=\"translate(0,214.13)\" style=\"stroke: rgb(0, 0, 0); stroke-opacity: 1; stroke-width: 1.2px;\"/><path class=\"ytick ticks crisp\" d=\"M49,0h-7\" transform=\"translate(0,166.15)\" style=\"stroke: rgb(0, 0, 0); stroke-opacity: 1; stroke-width: 1.2px;\"/><path class=\"ytick ticks crisp\" d=\"M49,0h-7\" transform=\"translate(0,118.18)\" style=\"stroke: rgb(0, 0, 0); stroke-opacity: 1; stroke-width: 1.2px;\"/><path class=\"ytick ticks crisp\" d=\"M49,0h-7\" transform=\"translate(0,70.2)\" style=\"stroke: rgb(0, 0, 0); stroke-opacity: 1; stroke-width: 1.2px;\"/><g class=\"ytick\"><text text-anchor=\"end\" x=\"38\" y=\"7\" transform=\"translate(0,454)\" style=\"font-family: Arial; font-size: 20px; fill: rgb(0, 0, 0); fill-opacity: 1; white-space: pre; opacity: 1;\">0</text></g><g class=\"ytick\"><text text-anchor=\"end\" x=\"38\" y=\"7\" style=\"font-family: Arial; font-size: 20px; fill: rgb(0, 0, 0); fill-opacity: 1; white-space: pre; opacity: 1;\" transform=\"translate(0,406.03)\">0.5</text></g><g class=\"ytick\"><text text-anchor=\"end\" x=\"38\" y=\"7\" style=\"font-family: Arial; font-size: 20px; fill: rgb(0, 0, 0); fill-opacity: 1; white-space: pre; opacity: 1;\" transform=\"translate(0,358.05)\">1</text></g><g class=\"ytick\"><text text-anchor=\"end\" x=\"38\" y=\"7\" style=\"font-family: Arial; font-size: 20px; fill: rgb(0, 0, 0); fill-opacity: 1; white-space: pre; opacity: 1;\" transform=\"translate(0,310.08)\">1.5</text></g><g class=\"ytick\"><text text-anchor=\"end\" x=\"38\" y=\"7\" style=\"font-family: Arial; font-size: 20px; fill: rgb(0, 0, 0); fill-opacity: 1; white-space: pre; opacity: 1;\" transform=\"translate(0,262.1)\">2</text></g><g class=\"ytick\"><text text-anchor=\"end\" x=\"38\" y=\"7\" style=\"font-family: Arial; font-size: 20px; fill: rgb(0, 0, 0); fill-opacity: 1; white-space: pre; opacity: 1;\" transform=\"translate(0,214.13)\">2.5</text></g><g class=\"ytick\"><text text-anchor=\"end\" x=\"38\" y=\"7\" style=\"font-family: Arial; font-size: 20px; fill: rgb(0, 0, 0); fill-opacity: 1; white-space: pre; opacity: 1;\" transform=\"translate(0,166.15)\">3</text></g><g class=\"ytick\"><text text-anchor=\"end\" x=\"38\" y=\"7\" style=\"font-family: Arial; font-size: 20px; fill: rgb(0, 0, 0); fill-opacity: 1; white-space: pre; opacity: 1;\" transform=\"translate(0,118.18)\">3.5</text></g><g class=\"ytick\"><text text-anchor=\"end\" x=\"38\" y=\"7\" style=\"font-family: Arial; font-size: 20px; fill: rgb(0, 0, 0); fill-opacity: 1; white-space: pre; opacity: 1;\" transform=\"translate(0,70.2)\">4</text></g></g><g class=\"overaxes-above\"/></g></g><g class=\"polarlayer\"/><g class=\"smithlayer\"/><g class=\"ternarylayer\"/><g class=\"geolayer\"/><g class=\"funnelarealayer\"/><g class=\"pielayer\"/><g class=\"iciclelayer\"/><g class=\"treemaplayer\"/><g class=\"sunburstlayer\"/><g class=\"glimages\"/><defs id=\"topdefs-0fe048\"><g class=\"clips\"/></defs><g class=\"layer-above\"><g class=\"imagelayer\"/><g class=\"shapelayer\"/></g><g class=\"infolayer\"><g class=\"g-gtitle\"/><g class=\"g-xtitle\"/><g class=\"g-ytitle\"/></g></svg>"
      ]
     },
     "metadata": {},
     "output_type": "display_data"
    }
   ],
   "source": [
    "pl.show(pl.bar([1, 2], [3, 4]))"
   ]
  },
  {
   "cell_type": "markdown",
   "id": "6e9a4971",
   "metadata": {},
   "source": [
    "##  `pl.scatter`: Scatter plot"
   ]
  },
  {
   "cell_type": "markdown",
   "id": "295f6626",
   "metadata": {},
   "source": [
    "Wrapper for `go.Scatter`."
   ]
  },
  {
   "cell_type": "code",
   "execution_count": 27,
   "id": "ff7843c2",
   "metadata": {},
   "outputs": [
    {
     "data": {
      "image/svg+xml": [
       "<svg class=\"main-svg\" xmlns=\"http://www.w3.org/2000/svg\" xmlns:xlink=\"http://www.w3.org/1999/xlink\" width=\"500\" height=\"500\" style=\"\" viewBox=\"0 0 500 500\"><rect x=\"0\" y=\"0\" width=\"500\" height=\"500\" style=\"fill: rgb(255, 255, 255); fill-opacity: 1;\"/><defs id=\"defs-3478e5\"><g class=\"clips\"><clipPath id=\"clip3478e5xyplot\" class=\"plotclip\"><rect width=\"440\" height=\"404\"/></clipPath><clipPath class=\"axesclip\" id=\"clip3478e5x\"><rect x=\"50\" y=\"0\" width=\"440\" height=\"500\"/></clipPath><clipPath class=\"axesclip\" id=\"clip3478e5y\"><rect x=\"0\" y=\"50\" width=\"500\" height=\"404\"/></clipPath><clipPath class=\"axesclip\" id=\"clip3478e5xy\"><rect x=\"50\" y=\"50\" width=\"440\" height=\"404\"/></clipPath></g><g class=\"gradients\"/><g class=\"patterns\"/></defs><g class=\"bglayer\"/><g class=\"layer-below\"><g class=\"imagelayer\"/><g class=\"shapelayer\"/></g><g class=\"cartesianlayer\"><g class=\"subplot xy\"><g class=\"layer-subplot\"><g class=\"shapelayer\"/><g class=\"imagelayer\"/></g><g class=\"minor-gridlayer\"><g class=\"x\"/><g class=\"y\"/></g><g class=\"gridlayer\"><g class=\"x\"/><g class=\"y\"/></g><g class=\"zerolinelayer\"/><g class=\"layer-between\"><g class=\"shapelayer\"/><g class=\"imagelayer\"/></g><path class=\"xlines-below\"/><path class=\"ylines-below\"/><g class=\"overlines-below\"/><g class=\"xaxislayer-below\"/><g class=\"yaxislayer-below\"/><g class=\"overaxes-below\"/><g class=\"overplot\"><g class=\"xy\" transform=\"translate(50,50)\" clip-path=\"url(#clip3478e5xyplot)\"><g class=\"scatterlayer mlayer\"><g class=\"trace scatter tracedd8057\" style=\"stroke-miterlimit: 2; opacity: 1;\"><g class=\"fills\"/><g class=\"errorbars\"/><g class=\"lines\"/><g class=\"points\"><path class=\"point\" transform=\"translate(25.13,380.67)\" d=\"M2.5,0A2.5,2.5 0 1,1 0,-2.5A2.5,2.5 0 0,1 2.5,0Z\" style=\"opacity: 1; stroke-width: 0px; fill: rgb(11, 139, 238); fill-opacity: 1;\"/><path class=\"point\" transform=\"translate(414.88,23.33)\" d=\"M2.5,0A2.5,2.5 0 1,1 0,-2.5A2.5,2.5 0 0,1 2.5,0Z\" style=\"opacity: 1; stroke-width: 0px; fill: rgb(11, 139, 238); fill-opacity: 1;\"/></g><g class=\"text\"/></g></g></g></g><path class=\"xlines-above crisp\" d=\"M49,454.5H490\" style=\"fill: none; stroke-width: 1px; stroke: rgb(0, 0, 0); stroke-opacity: 1;\"/><path class=\"ylines-above crisp\" d=\"M49.5,50V454\" style=\"fill: none; stroke-width: 1px; stroke: rgb(0, 0, 0); stroke-opacity: 1;\"/><g class=\"overlines-above\"/><g class=\"xaxislayer-above\"><path class=\"xtick ticks crisp\" d=\"M0,455v7\" transform=\"translate(75.13,0)\" style=\"stroke: rgb(0, 0, 0); stroke-opacity: 1; stroke-width: 1.2px;\"/><path class=\"xtick ticks crisp\" d=\"M0,455v7\" transform=\"translate(153.07,0)\" style=\"stroke: rgb(0, 0, 0); stroke-opacity: 1; stroke-width: 1.2px;\"/><path class=\"xtick ticks crisp\" d=\"M0,455v7\" transform=\"translate(231.03,0)\" style=\"stroke: rgb(0, 0, 0); stroke-opacity: 1; stroke-width: 1.2px;\"/><path class=\"xtick ticks crisp\" d=\"M0,455v7\" transform=\"translate(308.98,0)\" style=\"stroke: rgb(0, 0, 0); stroke-opacity: 1; stroke-width: 1.2px;\"/><path class=\"xtick ticks crisp\" d=\"M0,455v7\" transform=\"translate(386.93,0)\" style=\"stroke: rgb(0, 0, 0); stroke-opacity: 1; stroke-width: 1.2px;\"/><path class=\"xtick ticks crisp\" d=\"M0,455v7\" transform=\"translate(464.88,0)\" style=\"stroke: rgb(0, 0, 0); stroke-opacity: 1; stroke-width: 1.2px;\"/><g class=\"xtick\"><text text-anchor=\"middle\" x=\"0\" y=\"486\" transform=\"translate(75.13,0)\" style=\"font-family: Arial; font-size: 20px; fill: rgb(0, 0, 0); fill-opacity: 1; white-space: pre; opacity: 1;\">1</text></g><g class=\"xtick\"><text text-anchor=\"middle\" x=\"0\" y=\"486\" style=\"font-family: Arial; font-size: 20px; fill: rgb(0, 0, 0); fill-opacity: 1; white-space: pre; opacity: 1;\" transform=\"translate(153.07,0)\">1.2</text></g><g class=\"xtick\"><text text-anchor=\"middle\" x=\"0\" y=\"486\" style=\"font-family: Arial; font-size: 20px; fill: rgb(0, 0, 0); fill-opacity: 1; white-space: pre; opacity: 1;\" transform=\"translate(231.03,0)\">1.4</text></g><g class=\"xtick\"><text text-anchor=\"middle\" x=\"0\" y=\"486\" style=\"font-family: Arial; font-size: 20px; fill: rgb(0, 0, 0); fill-opacity: 1; white-space: pre; opacity: 1;\" transform=\"translate(308.98,0)\">1.6</text></g><g class=\"xtick\"><text text-anchor=\"middle\" x=\"0\" y=\"486\" style=\"font-family: Arial; font-size: 20px; fill: rgb(0, 0, 0); fill-opacity: 1; white-space: pre; opacity: 1;\" transform=\"translate(386.93,0)\">1.8</text></g><g class=\"xtick\"><text text-anchor=\"middle\" x=\"0\" y=\"486\" style=\"font-family: Arial; font-size: 20px; fill: rgb(0, 0, 0); fill-opacity: 1; white-space: pre; opacity: 1;\" transform=\"translate(464.88,0)\">2</text></g></g><g class=\"yaxislayer-above\"><path class=\"ytick ticks crisp\" d=\"M49,0h-7\" transform=\"translate(0,430.67)\" style=\"stroke: rgb(0, 0, 0); stroke-opacity: 1; stroke-width: 1.2px;\"/><path class=\"ytick ticks crisp\" d=\"M49,0h-7\" transform=\"translate(0,359.2)\" style=\"stroke: rgb(0, 0, 0); stroke-opacity: 1; stroke-width: 1.2px;\"/><path class=\"ytick ticks crisp\" d=\"M49,0h-7\" transform=\"translate(0,287.73)\" style=\"stroke: rgb(0, 0, 0); stroke-opacity: 1; stroke-width: 1.2px;\"/><path class=\"ytick ticks crisp\" d=\"M49,0h-7\" transform=\"translate(0,216.26)\" style=\"stroke: rgb(0, 0, 0); stroke-opacity: 1; stroke-width: 1.2px;\"/><path class=\"ytick ticks crisp\" d=\"M49,0h-7\" transform=\"translate(0,144.8)\" style=\"stroke: rgb(0, 0, 0); stroke-opacity: 1; stroke-width: 1.2px;\"/><path class=\"ytick ticks crisp\" d=\"M49,0h-7\" transform=\"translate(0,73.33)\" style=\"stroke: rgb(0, 0, 0); stroke-opacity: 1; stroke-width: 1.2px;\"/><g class=\"ytick\"><text text-anchor=\"end\" x=\"38\" y=\"7\" transform=\"translate(0,430.67)\" style=\"font-family: Arial; font-size: 20px; fill: rgb(0, 0, 0); fill-opacity: 1; white-space: pre; opacity: 1;\">3</text></g><g class=\"ytick\"><text text-anchor=\"end\" x=\"38\" y=\"7\" style=\"font-family: Arial; font-size: 20px; fill: rgb(0, 0, 0); fill-opacity: 1; white-space: pre; opacity: 1;\" transform=\"translate(0,359.2)\">3.2</text></g><g class=\"ytick\"><text text-anchor=\"end\" x=\"38\" y=\"7\" style=\"font-family: Arial; font-size: 20px; fill: rgb(0, 0, 0); fill-opacity: 1; white-space: pre; opacity: 1;\" transform=\"translate(0,287.73)\">3.4</text></g><g class=\"ytick\"><text text-anchor=\"end\" x=\"38\" y=\"7\" style=\"font-family: Arial; font-size: 20px; fill: rgb(0, 0, 0); fill-opacity: 1; white-space: pre; opacity: 1;\" transform=\"translate(0,216.26)\">3.6</text></g><g class=\"ytick\"><text text-anchor=\"end\" x=\"38\" y=\"7\" style=\"font-family: Arial; font-size: 20px; fill: rgb(0, 0, 0); fill-opacity: 1; white-space: pre; opacity: 1;\" transform=\"translate(0,144.8)\">3.8</text></g><g class=\"ytick\"><text text-anchor=\"end\" x=\"38\" y=\"7\" style=\"font-family: Arial; font-size: 20px; fill: rgb(0, 0, 0); fill-opacity: 1; white-space: pre; opacity: 1;\" transform=\"translate(0,73.33)\">4</text></g></g><g class=\"overaxes-above\"/></g></g><g class=\"polarlayer\"/><g class=\"smithlayer\"/><g class=\"ternarylayer\"/><g class=\"geolayer\"/><g class=\"funnelarealayer\"/><g class=\"pielayer\"/><g class=\"iciclelayer\"/><g class=\"treemaplayer\"/><g class=\"sunburstlayer\"/><g class=\"glimages\"/><defs id=\"topdefs-3478e5\"><g class=\"clips\"/></defs><g class=\"layer-above\"><g class=\"imagelayer\"/><g class=\"shapelayer\"/></g><g class=\"infolayer\"><g class=\"g-gtitle\"/><g class=\"g-xtitle\"/><g class=\"g-ytitle\"/></g></svg>"
      ]
     },
     "metadata": {},
     "output_type": "display_data"
    }
   ],
   "source": [
    "pl.show(pl.scatter([1, 2], [3, 4]))"
   ]
  },
  {
   "cell_type": "markdown",
   "id": "dea49bd0",
   "metadata": {},
   "source": [
    "## `pl.box`: Box plot"
   ]
  },
  {
   "cell_type": "markdown",
   "id": "583f4c79",
   "metadata": {},
   "source": [
    "Wrapper for `go.Box`."
   ]
  },
  {
   "cell_type": "code",
   "execution_count": 28,
   "id": "c1ba1572",
   "metadata": {},
   "outputs": [
    {
     "data": {
      "image/svg+xml": [
       "<svg class=\"main-svg\" xmlns=\"http://www.w3.org/2000/svg\" xmlns:xlink=\"http://www.w3.org/1999/xlink\" width=\"500\" height=\"500\" style=\"\" viewBox=\"0 0 500 500\"><rect x=\"0\" y=\"0\" width=\"500\" height=\"500\" style=\"fill: rgb(255, 255, 255); fill-opacity: 1;\"/><defs id=\"defs-db8640\"><g class=\"clips\"><clipPath id=\"clipdb8640xyplot\" class=\"plotclip\"><rect width=\"440\" height=\"404\"/></clipPath><clipPath class=\"axesclip\" id=\"clipdb8640x\"><rect x=\"50\" y=\"0\" width=\"440\" height=\"500\"/></clipPath><clipPath class=\"axesclip\" id=\"clipdb8640y\"><rect x=\"0\" y=\"50\" width=\"500\" height=\"404\"/></clipPath><clipPath class=\"axesclip\" id=\"clipdb8640xy\"><rect x=\"50\" y=\"50\" width=\"440\" height=\"404\"/></clipPath></g><g class=\"gradients\"/><g class=\"patterns\"/></defs><g class=\"bglayer\"/><g class=\"layer-below\"><g class=\"imagelayer\"/><g class=\"shapelayer\"/></g><g class=\"cartesianlayer\"><g class=\"subplot xy\"><g class=\"layer-subplot\"><g class=\"shapelayer\"/><g class=\"imagelayer\"/></g><g class=\"minor-gridlayer\"><g class=\"x\"/><g class=\"y\"/></g><g class=\"gridlayer\"><g class=\"x\"/><g class=\"y\"/></g><g class=\"zerolinelayer\"/><g class=\"layer-between\"><g class=\"shapelayer\"/><g class=\"imagelayer\"/></g><path class=\"xlines-below\"/><path class=\"ylines-below\"/><g class=\"overlines-below\"/><g class=\"xaxislayer-below\"/><g class=\"yaxislayer-below\"/><g class=\"overaxes-below\"/><g class=\"overplot\"><g class=\"xy\" transform=\"translate(50,50)\" clip-path=\"url(#clipdb8640xyplot)\"><g class=\"boxlayer mlayer\"><g class=\"trace boxes\" style=\"opacity: 1;\"><path class=\"box\" d=\"M114.44,202H328.57M114.44,338.35H328.57V65.65H114.44ZM221.5,338.35V383.8M221.5,65.65V20.2M167.97,383.8H275.03M167.97,20.2H275.03\" style=\"vector-effect: none; stroke-width: 2px; stroke: rgb(11, 139, 238); stroke-opacity: 1; fill: rgb(11, 139, 238); fill-opacity: 0.5;\"/><g class=\"points\"><path class=\"point\" transform=\"translate(77.57,383.8)\" d=\"M3,0A3,3 0 1,1 0,-3A3,3 0 0,1 3,0Z\" style=\"opacity: 1; stroke-width: 0px; fill: rgb(11, 139, 238); fill-opacity: 1;\"/><path class=\"point\" transform=\"translate(40.43,202)\" d=\"M3,0A3,3 0 1,1 0,-3A3,3 0 0,1 3,0Z\" style=\"opacity: 1; stroke-width: 0px; fill: rgb(11, 139, 238); fill-opacity: 1;\"/><path class=\"point\" transform=\"translate(85.81,20.2)\" d=\"M3,0A3,3 0 1,1 0,-3A3,3 0 0,1 3,0Z\" style=\"opacity: 1; stroke-width: 0px; fill: rgb(11, 139, 238); fill-opacity: 1;\"/></g></g></g></g></g><path class=\"xlines-above crisp\" d=\"M49,454.5H490\" style=\"fill: none; stroke-width: 1px; stroke: rgb(0, 0, 0); stroke-opacity: 1;\"/><path class=\"ylines-above crisp\" d=\"M49.5,50V454\" style=\"fill: none; stroke-width: 1px; stroke: rgb(0, 0, 0); stroke-opacity: 1;\"/><g class=\"overlines-above\"/><g class=\"xaxislayer-above\"><path class=\"xtick ticks crisp\" d=\"M0,455v7\" transform=\"translate(271.5,0)\" style=\"stroke: rgb(0, 0, 0); stroke-opacity: 1; stroke-width: 1.2px;\"/><g class=\"xtick\"><text text-anchor=\"middle\" x=\"0\" y=\"486\" transform=\"translate(271.5,0)\" style=\"font-family: Arial; font-size: 20px; fill: rgb(0, 0, 0); fill-opacity: 1; white-space: pre; opacity: 1;\">data</text></g></g><g class=\"yaxislayer-above\"><path class=\"ytick ticks crisp\" d=\"M49,0h-7\" transform=\"translate(0,433.8)\" style=\"stroke: rgb(0, 0, 0); stroke-opacity: 1; stroke-width: 1.2px;\"/><path class=\"ytick ticks crisp\" d=\"M49,0h-7\" transform=\"translate(0,342.9)\" style=\"stroke: rgb(0, 0, 0); stroke-opacity: 1; stroke-width: 1.2px;\"/><path class=\"ytick ticks crisp\" d=\"M49,0h-7\" transform=\"translate(0,252)\" style=\"stroke: rgb(0, 0, 0); stroke-opacity: 1; stroke-width: 1.2px;\"/><path class=\"ytick ticks crisp\" d=\"M49,0h-7\" transform=\"translate(0,161.1)\" style=\"stroke: rgb(0, 0, 0); stroke-opacity: 1; stroke-width: 1.2px;\"/><path class=\"ytick ticks crisp\" d=\"M49,0h-7\" transform=\"translate(0,70.2)\" style=\"stroke: rgb(0, 0, 0); stroke-opacity: 1; stroke-width: 1.2px;\"/><g class=\"ytick\"><text text-anchor=\"end\" x=\"38\" y=\"7\" transform=\"translate(0,433.8)\" style=\"font-family: Arial; font-size: 20px; fill: rgb(0, 0, 0); fill-opacity: 1; white-space: pre; opacity: 1;\">1</text></g><g class=\"ytick\"><text text-anchor=\"end\" x=\"38\" y=\"7\" style=\"font-family: Arial; font-size: 20px; fill: rgb(0, 0, 0); fill-opacity: 1; white-space: pre; opacity: 1;\" transform=\"translate(0,342.9)\">1.5</text></g><g class=\"ytick\"><text text-anchor=\"end\" x=\"38\" y=\"7\" style=\"font-family: Arial; font-size: 20px; fill: rgb(0, 0, 0); fill-opacity: 1; white-space: pre; opacity: 1;\" transform=\"translate(0,252)\">2</text></g><g class=\"ytick\"><text text-anchor=\"end\" x=\"38\" y=\"7\" style=\"font-family: Arial; font-size: 20px; fill: rgb(0, 0, 0); fill-opacity: 1; white-space: pre; opacity: 1;\" transform=\"translate(0,161.1)\">2.5</text></g><g class=\"ytick\"><text text-anchor=\"end\" x=\"38\" y=\"7\" style=\"font-family: Arial; font-size: 20px; fill: rgb(0, 0, 0); fill-opacity: 1; white-space: pre; opacity: 1;\" transform=\"translate(0,70.2)\">3</text></g></g><g class=\"overaxes-above\"/></g></g><g class=\"polarlayer\"/><g class=\"smithlayer\"/><g class=\"ternarylayer\"/><g class=\"geolayer\"/><g class=\"funnelarealayer\"/><g class=\"pielayer\"/><g class=\"iciclelayer\"/><g class=\"treemaplayer\"/><g class=\"sunburstlayer\"/><g class=\"glimages\"/><defs id=\"topdefs-db8640\"><g class=\"clips\"/></defs><g class=\"layer-above\"><g class=\"imagelayer\"/><g class=\"shapelayer\"/></g><g class=\"infolayer\"><g class=\"g-gtitle\"/><g class=\"g-xtitle\"/><g class=\"g-ytitle\"/></g></svg>"
      ]
     },
     "metadata": {},
     "output_type": "display_data"
    }
   ],
   "source": [
    "pl.show(pl.box([1, 2, 3], name=\"data\", show_points=True))"
   ]
  },
  {
   "cell_type": "markdown",
   "id": "106076c8",
   "metadata": {},
   "source": [
    "## `pl.violin`: Violin plot"
   ]
  },
  {
   "cell_type": "markdown",
   "id": "29f89cce",
   "metadata": {},
   "source": [
    "Wrapper for `go.Violin`."
   ]
  },
  {
   "cell_type": "code",
   "execution_count": 29,
   "id": "4079497d",
   "metadata": {},
   "outputs": [
    {
     "data": {
      "image/svg+xml": [
       "<svg class=\"main-svg\" xmlns=\"http://www.w3.org/2000/svg\" xmlns:xlink=\"http://www.w3.org/1999/xlink\" width=\"500\" height=\"500\" style=\"\" viewBox=\"0 0 500 500\"><rect x=\"0\" y=\"0\" width=\"500\" height=\"500\" style=\"fill: rgb(255, 255, 255); fill-opacity: 1;\"/><defs id=\"defs-8a8ad4\"><g class=\"clips\"><clipPath id=\"clip8a8ad4xyplot\" class=\"plotclip\"><rect width=\"445\" height=\"404\"/></clipPath><clipPath class=\"axesclip\" id=\"clip8a8ad4x\"><rect x=\"45\" y=\"0\" width=\"445\" height=\"500\"/></clipPath><clipPath class=\"axesclip\" id=\"clip8a8ad4y\"><rect x=\"0\" y=\"50\" width=\"500\" height=\"404\"/></clipPath><clipPath class=\"axesclip\" id=\"clip8a8ad4xy\"><rect x=\"45\" y=\"50\" width=\"445\" height=\"404\"/></clipPath></g><g class=\"gradients\"/><g class=\"patterns\"/></defs><g class=\"bglayer\"/><g class=\"layer-below\"><g class=\"imagelayer\"/><g class=\"shapelayer\"/></g><g class=\"cartesianlayer\"><g class=\"subplot xy\"><g class=\"layer-subplot\"><g class=\"shapelayer\"/><g class=\"imagelayer\"/></g><g class=\"minor-gridlayer\"><g class=\"x\"/><g class=\"y\"/></g><g class=\"gridlayer\"><g class=\"x\"/><g class=\"y\"/></g><g class=\"zerolinelayer\"/><g class=\"layer-between\"><g class=\"shapelayer\"/><g class=\"imagelayer\"/></g><path class=\"xlines-below\"/><path class=\"ylines-below\"/><g class=\"overlines-below\"/><g class=\"xaxislayer-below\"/><g class=\"yaxislayer-below\"/><g class=\"overaxes-below\"/><g class=\"overplot\"><g class=\"xy\" transform=\"translate(45,50)\" clip-path=\"url(#clip8a8ad4xyplot)\"><g class=\"violinlayer mlayer\"><g class=\"trace violins\" style=\"opacity: 1;\"><path class=\"violin\" d=\"M231.68,383.8Q235.48,371.59 238.07,365.62C240.74,359.46 243.95,353.39 247.52,347.44C251.23,341.26 255.55,335.23 260.01,329.26C264.6,323.11 269.73,317.11 274.74,311.08C279.8,304.99 285.2,299 290.23,292.9C295.19,286.88 300.24,280.88 304.72,274.72C309.06,268.75 313.25,262.72 316.75,256.54C320.12,250.59 323.12,244.52 325.45,238.36C327.7,232.39 329.46,226.29 330.6,220.18C331.72,214.17 332.29,208.06 332.29,202C332.29,195.94 331.72,189.83 330.6,183.82C329.46,177.71 327.7,171.61 325.45,165.64C323.12,159.48 320.12,153.41 316.75,147.46C313.25,141.28 309.06,135.25 304.72,129.28C300.24,123.12 295.19,117.12 290.23,111.1C285.2,105 279.8,99.01 274.74,92.92C269.73,86.89 264.6,80.89 260.01,74.74C255.55,68.77 251.23,62.74 247.52,56.56C243.95,50.61 240.74,44.54 238.07,38.38Q235.48,32.41 231.68,20.2L216.32,20.2Q212.52,32.41 209.93,38.38C207.26,44.54 204.05,50.61 200.48,56.56C196.77,62.74 192.45,68.77 187.99,74.74C183.4,80.89 178.27,86.89 173.26,92.92C168.2,99.01 162.8,105 157.77,111.1C152.81,117.12 147.76,123.12 143.28,129.28C138.94,135.25 134.75,141.28 131.25,147.46C127.88,153.41 124.88,159.48 122.55,165.64C120.3,171.61 118.54,177.71 117.4,183.82C116.28,189.83 115.71,195.94 115.71,202C115.71,208.06 116.28,214.17 117.4,220.18C118.54,226.29 120.3,232.39 122.55,238.36C124.88,244.52 127.88,250.59 131.25,256.54C134.75,262.72 138.94,268.75 143.28,274.72C147.76,280.88 152.81,286.88 157.77,292.9C162.8,299 168.2,304.99 173.26,311.08C178.27,317.11 183.4,323.11 187.99,329.26C192.45,335.23 196.77,341.26 200.48,347.44C204.05,353.39 207.26,359.46 209.93,365.62Q212.52,371.59 216.32,383.8Z\" style=\"vector-effect: none; stroke-width: 2px; stroke: rgb(11, 139, 238); stroke-opacity: 1; fill: rgb(11, 139, 238); fill-opacity: 0.5;\"/><g class=\"points\"><path class=\"point\" transform=\"translate(78.42,269.33)\" d=\"M3,0A3,3 0 1,1 0,-3A3,3 0 0,1 3,0Z\" style=\"opacity: 1; stroke-width: 0px; fill: rgb(11, 139, 238); fill-opacity: 1;\"/><path class=\"point\" transform=\"translate(40.86,202)\" d=\"M3,0A3,3 0 1,1 0,-3A3,3 0 0,1 3,0Z\" style=\"opacity: 1; stroke-width: 0px; fill: rgb(11, 139, 238); fill-opacity: 1;\"/><path class=\"point\" transform=\"translate(86.76,134.67)\" d=\"M3,0A3,3 0 1,1 0,-3A3,3 0 0,1 3,0Z\" style=\"opacity: 1; stroke-width: 0px; fill: rgb(11, 139, 238); fill-opacity: 1;\"/></g></g></g></g></g><path class=\"xlines-above crisp\" d=\"M44,454.5H490\" style=\"fill: none; stroke-width: 1px; stroke: rgb(0, 0, 0); stroke-opacity: 1;\"/><path class=\"ylines-above crisp\" d=\"M44.5,50V454\" style=\"fill: none; stroke-width: 1px; stroke: rgb(0, 0, 0); stroke-opacity: 1;\"/><g class=\"overlines-above\"/><g class=\"xaxislayer-above\"><path class=\"xtick ticks crisp\" d=\"M0,455v7\" transform=\"translate(269,0)\" style=\"stroke: rgb(0, 0, 0); stroke-opacity: 1; stroke-width: 1.2px;\"/><g class=\"xtick\"><text text-anchor=\"middle\" x=\"0\" y=\"486\" transform=\"translate(269,0)\" style=\"font-family: Arial; font-size: 20px; fill: rgb(0, 0, 0); fill-opacity: 1; white-space: pre; opacity: 1;\">data</text></g></g><g class=\"yaxislayer-above\"><path class=\"ytick ticks crisp\" d=\"M44,0h-7\" transform=\"translate(0,453.98)\" style=\"stroke: rgb(0, 0, 0); stroke-opacity: 1; stroke-width: 1.2px;\"/><path class=\"ytick ticks crisp\" d=\"M44,0h-7\" transform=\"translate(0,386.66)\" style=\"stroke: rgb(0, 0, 0); stroke-opacity: 1; stroke-width: 1.2px;\"/><path class=\"ytick ticks crisp\" d=\"M44,0h-7\" transform=\"translate(0,319.33)\" style=\"stroke: rgb(0, 0, 0); stroke-opacity: 1; stroke-width: 1.2px;\"/><path class=\"ytick ticks crisp\" d=\"M44,0h-7\" transform=\"translate(0,252)\" style=\"stroke: rgb(0, 0, 0); stroke-opacity: 1; stroke-width: 1.2px;\"/><path class=\"ytick ticks crisp\" d=\"M44,0h-7\" transform=\"translate(0,184.67)\" style=\"stroke: rgb(0, 0, 0); stroke-opacity: 1; stroke-width: 1.2px;\"/><path class=\"ytick ticks crisp\" d=\"M44,0h-7\" transform=\"translate(0,117.34)\" style=\"stroke: rgb(0, 0, 0); stroke-opacity: 1; stroke-width: 1.2px;\"/><path class=\"ytick ticks crisp\" d=\"M44,0h-7\" transform=\"translate(0,50.02)\" style=\"stroke: rgb(0, 0, 0); stroke-opacity: 1; stroke-width: 1.2px;\"/><g class=\"ytick\"><text text-anchor=\"end\" x=\"33\" y=\"7\" transform=\"translate(0,453.98)\" style=\"font-family: Arial; font-size: 20px; fill: rgb(0, 0, 0); fill-opacity: 1; white-space: pre; opacity: 1;\">−1</text></g><g class=\"ytick\"><text text-anchor=\"end\" x=\"33\" y=\"7\" style=\"font-family: Arial; font-size: 20px; fill: rgb(0, 0, 0); fill-opacity: 1; white-space: pre; opacity: 1;\" transform=\"translate(0,386.66)\">0</text></g><g class=\"ytick\"><text text-anchor=\"end\" x=\"33\" y=\"7\" style=\"font-family: Arial; font-size: 20px; fill: rgb(0, 0, 0); fill-opacity: 1; white-space: pre; opacity: 1;\" transform=\"translate(0,319.33)\">1</text></g><g class=\"ytick\"><text text-anchor=\"end\" x=\"33\" y=\"7\" style=\"font-family: Arial; font-size: 20px; fill: rgb(0, 0, 0); fill-opacity: 1; white-space: pre; opacity: 1;\" transform=\"translate(0,252)\">2</text></g><g class=\"ytick\"><text text-anchor=\"end\" x=\"33\" y=\"7\" style=\"font-family: Arial; font-size: 20px; fill: rgb(0, 0, 0); fill-opacity: 1; white-space: pre; opacity: 1;\" transform=\"translate(0,184.67)\">3</text></g><g class=\"ytick\"><text text-anchor=\"end\" x=\"33\" y=\"7\" style=\"font-family: Arial; font-size: 20px; fill: rgb(0, 0, 0); fill-opacity: 1; white-space: pre; opacity: 1;\" transform=\"translate(0,117.34)\">4</text></g><g class=\"ytick\"><text text-anchor=\"end\" x=\"33\" y=\"7\" style=\"font-family: Arial; font-size: 20px; fill: rgb(0, 0, 0); fill-opacity: 1; white-space: pre; opacity: 1;\" transform=\"translate(0,50.02)\">5</text></g></g><g class=\"overaxes-above\"/></g></g><g class=\"polarlayer\"/><g class=\"smithlayer\"/><g class=\"ternarylayer\"/><g class=\"geolayer\"/><g class=\"funnelarealayer\"/><g class=\"pielayer\"/><g class=\"iciclelayer\"/><g class=\"treemaplayer\"/><g class=\"sunburstlayer\"/><g class=\"glimages\"/><defs id=\"topdefs-8a8ad4\"><g class=\"clips\"/></defs><g class=\"layer-above\"><g class=\"imagelayer\"/><g class=\"shapelayer\"/></g><g class=\"infolayer\"><g class=\"g-gtitle\"/><g class=\"g-xtitle\"/><g class=\"g-ytitle\"/></g></svg>"
      ]
     },
     "metadata": {},
     "output_type": "display_data"
    }
   ],
   "source": [
    "pl.show(pl.violin([1, 2, 3], name=\"data\", show_points=True))"
   ]
  },
  {
   "cell_type": "markdown",
   "id": "84f85df0",
   "metadata": {},
   "source": [
    "## `pl.lines`: Line(s)"
   ]
  },
  {
   "cell_type": "markdown",
   "id": "007524d5",
   "metadata": {},
   "source": [
    "Scatter plot trace with line(s)."
   ]
  },
  {
   "cell_type": "code",
   "execution_count": 30,
   "id": "a84fac78",
   "metadata": {},
   "outputs": [
    {
     "data": {
      "image/svg+xml": [
       "<svg class=\"main-svg\" xmlns=\"http://www.w3.org/2000/svg\" xmlns:xlink=\"http://www.w3.org/1999/xlink\" width=\"500\" height=\"500\" style=\"\" viewBox=\"0 0 500 500\"><rect x=\"0\" y=\"0\" width=\"500\" height=\"500\" style=\"fill: rgb(255, 255, 255); fill-opacity: 1;\"/><defs id=\"defs-b234bc\"><g class=\"clips\"><clipPath id=\"clipb234bcxyplot\" class=\"plotclip\"><rect width=\"434\" height=\"404\"/></clipPath><clipPath class=\"axesclip\" id=\"clipb234bcx\"><rect x=\"50\" y=\"0\" width=\"434\" height=\"500\"/></clipPath><clipPath class=\"axesclip\" id=\"clipb234bcy\"><rect x=\"0\" y=\"50\" width=\"500\" height=\"404\"/></clipPath><clipPath class=\"axesclip\" id=\"clipb234bcxy\"><rect x=\"50\" y=\"50\" width=\"434\" height=\"404\"/></clipPath></g><g class=\"gradients\"/><g class=\"patterns\"/></defs><g class=\"bglayer\"/><g class=\"layer-below\"><g class=\"imagelayer\"/><g class=\"shapelayer\"/></g><g class=\"cartesianlayer\"><g class=\"subplot xy\"><g class=\"layer-subplot\"><g class=\"shapelayer\"/><g class=\"imagelayer\"/></g><g class=\"minor-gridlayer\"><g class=\"x\"/><g class=\"y\"/></g><g class=\"gridlayer\"><g class=\"x\"/><g class=\"y\"/></g><g class=\"zerolinelayer\"/><g class=\"layer-between\"><g class=\"shapelayer\"/><g class=\"imagelayer\"/></g><path class=\"xlines-below\"/><path class=\"ylines-below\"/><g class=\"overlines-below\"/><g class=\"xaxislayer-below\"/><g class=\"yaxislayer-below\"/><g class=\"overaxes-below\"/><g class=\"overplot\"><g class=\"xy\" transform=\"translate(50,50)\" clip-path=\"url(#clipb234bcxyplot)\"><g class=\"scatterlayer mlayer\"><g class=\"trace scatter trace75d5ec\" style=\"stroke-miterlimit: 2; opacity: 1;\"><g class=\"fills\"/><g class=\"errorbars\"/><g class=\"lines\"><path class=\"js-line\" d=\"M0,383.8L434,20.2\" style=\"vector-effect: none; fill: none; stroke: rgb(0, 0, 0); stroke-opacity: 1; stroke-width: 1px; opacity: 1;\"/><path class=\"js-line\" d=\"M0,20.2L434,383.8\" style=\"vector-effect: none; fill: none; stroke: rgb(0, 0, 0); stroke-opacity: 1; stroke-width: 1px; opacity: 1;\"/></g><g class=\"points\"/><g class=\"text\"/></g></g></g></g><path class=\"xlines-above crisp\" d=\"M49,454.5H484\" style=\"fill: none; stroke-width: 1px; stroke: rgb(0, 0, 0); stroke-opacity: 1;\"/><path class=\"ylines-above crisp\" d=\"M49.5,50V454\" style=\"fill: none; stroke-width: 1px; stroke: rgb(0, 0, 0); stroke-opacity: 1;\"/><g class=\"overlines-above\"/><g class=\"xaxislayer-above\"><path class=\"xtick ticks crisp\" d=\"M0,455v7\" transform=\"translate(50,0)\" style=\"stroke: rgb(0, 0, 0); stroke-opacity: 1; stroke-width: 1.2px;\"/><path class=\"xtick ticks crisp\" d=\"M0,455v7\" transform=\"translate(136.8,0)\" style=\"stroke: rgb(0, 0, 0); stroke-opacity: 1; stroke-width: 1.2px;\"/><path class=\"xtick ticks crisp\" d=\"M0,455v7\" transform=\"translate(223.6,0)\" style=\"stroke: rgb(0, 0, 0); stroke-opacity: 1; stroke-width: 1.2px;\"/><path class=\"xtick ticks crisp\" d=\"M0,455v7\" transform=\"translate(310.4,0)\" style=\"stroke: rgb(0, 0, 0); stroke-opacity: 1; stroke-width: 1.2px;\"/><path class=\"xtick ticks crisp\" d=\"M0,455v7\" transform=\"translate(397.2,0)\" style=\"stroke: rgb(0, 0, 0); stroke-opacity: 1; stroke-width: 1.2px;\"/><path class=\"xtick ticks crisp\" d=\"M0,455v7\" transform=\"translate(484,0)\" style=\"stroke: rgb(0, 0, 0); stroke-opacity: 1; stroke-width: 1.2px;\"/><g class=\"xtick\"><text text-anchor=\"middle\" x=\"0\" y=\"486\" transform=\"translate(50,0)\" style=\"font-family: Arial; font-size: 20px; fill: rgb(0, 0, 0); fill-opacity: 1; white-space: pre; opacity: 1;\">1</text></g><g class=\"xtick\"><text text-anchor=\"middle\" x=\"0\" y=\"486\" style=\"font-family: Arial; font-size: 20px; fill: rgb(0, 0, 0); fill-opacity: 1; white-space: pre; opacity: 1;\" transform=\"translate(136.8,0)\">1.2</text></g><g class=\"xtick\"><text text-anchor=\"middle\" x=\"0\" y=\"486\" style=\"font-family: Arial; font-size: 20px; fill: rgb(0, 0, 0); fill-opacity: 1; white-space: pre; opacity: 1;\" transform=\"translate(223.6,0)\">1.4</text></g><g class=\"xtick\"><text text-anchor=\"middle\" x=\"0\" y=\"486\" style=\"font-family: Arial; font-size: 20px; fill: rgb(0, 0, 0); fill-opacity: 1; white-space: pre; opacity: 1;\" transform=\"translate(310.4,0)\">1.6</text></g><g class=\"xtick\"><text text-anchor=\"middle\" x=\"0\" y=\"486\" style=\"font-family: Arial; font-size: 20px; fill: rgb(0, 0, 0); fill-opacity: 1; white-space: pre; opacity: 1;\" transform=\"translate(397.2,0)\">1.8</text></g><g class=\"xtick\"><text text-anchor=\"middle\" x=\"0\" y=\"486\" style=\"font-family: Arial; font-size: 20px; fill: rgb(0, 0, 0); fill-opacity: 1; white-space: pre; opacity: 1;\" transform=\"translate(484,0)\">2</text></g></g><g class=\"yaxislayer-above\"><path class=\"ytick ticks crisp\" d=\"M49,0h-7\" transform=\"translate(0,433.8)\" style=\"stroke: rgb(0, 0, 0); stroke-opacity: 1; stroke-width: 1.2px;\"/><path class=\"ytick ticks crisp\" d=\"M49,0h-7\" transform=\"translate(0,361.08)\" style=\"stroke: rgb(0, 0, 0); stroke-opacity: 1; stroke-width: 1.2px;\"/><path class=\"ytick ticks crisp\" d=\"M49,0h-7\" transform=\"translate(0,288.36)\" style=\"stroke: rgb(0, 0, 0); stroke-opacity: 1; stroke-width: 1.2px;\"/><path class=\"ytick ticks crisp\" d=\"M49,0h-7\" transform=\"translate(0,215.64)\" style=\"stroke: rgb(0, 0, 0); stroke-opacity: 1; stroke-width: 1.2px;\"/><path class=\"ytick ticks crisp\" d=\"M49,0h-7\" transform=\"translate(0,142.92000000000002)\" style=\"stroke: rgb(0, 0, 0); stroke-opacity: 1; stroke-width: 1.2px;\"/><path class=\"ytick ticks crisp\" d=\"M49,0h-7\" transform=\"translate(0,70.2)\" style=\"stroke: rgb(0, 0, 0); stroke-opacity: 1; stroke-width: 1.2px;\"/><g class=\"ytick\"><text text-anchor=\"end\" x=\"38\" y=\"7\" transform=\"translate(0,433.8)\" style=\"font-family: Arial; font-size: 20px; fill: rgb(0, 0, 0); fill-opacity: 1; white-space: pre; opacity: 1;\">0</text></g><g class=\"ytick\"><text text-anchor=\"end\" x=\"38\" y=\"7\" style=\"font-family: Arial; font-size: 20px; fill: rgb(0, 0, 0); fill-opacity: 1; white-space: pre; opacity: 1;\" transform=\"translate(0,361.08)\">0.2</text></g><g class=\"ytick\"><text text-anchor=\"end\" x=\"38\" y=\"7\" style=\"font-family: Arial; font-size: 20px; fill: rgb(0, 0, 0); fill-opacity: 1; white-space: pre; opacity: 1;\" transform=\"translate(0,288.36)\">0.4</text></g><g class=\"ytick\"><text text-anchor=\"end\" x=\"38\" y=\"7\" style=\"font-family: Arial; font-size: 20px; fill: rgb(0, 0, 0); fill-opacity: 1; white-space: pre; opacity: 1;\" transform=\"translate(0,215.64)\">0.6</text></g><g class=\"ytick\"><text text-anchor=\"end\" x=\"38\" y=\"7\" style=\"font-family: Arial; font-size: 20px; fill: rgb(0, 0, 0); fill-opacity: 1; white-space: pre; opacity: 1;\" transform=\"translate(0,142.92000000000002)\">0.8</text></g><g class=\"ytick\"><text text-anchor=\"end\" x=\"38\" y=\"7\" style=\"font-family: Arial; font-size: 20px; fill: rgb(0, 0, 0); fill-opacity: 1; white-space: pre; opacity: 1;\" transform=\"translate(0,70.2)\">1</text></g></g><g class=\"overaxes-above\"/></g></g><g class=\"polarlayer\"/><g class=\"smithlayer\"/><g class=\"ternarylayer\"/><g class=\"geolayer\"/><g class=\"funnelarealayer\"/><g class=\"pielayer\"/><g class=\"iciclelayer\"/><g class=\"treemaplayer\"/><g class=\"sunburstlayer\"/><g class=\"glimages\"/><defs id=\"topdefs-b234bc\"><g class=\"clips\"/></defs><g class=\"layer-above\"><g class=\"imagelayer\"/><g class=\"shapelayer\"/></g><g class=\"infolayer\"><g class=\"g-gtitle\"/><g class=\"g-xtitle\"/><g class=\"g-ytitle\"/></g></svg>"
      ]
     },
     "metadata": {},
     "output_type": "display_data"
    }
   ],
   "source": [
    "pl.show(pl.lines([(1, 0, 2, 1), (1, 1, 2, 0)]))"
   ]
  },
  {
   "cell_type": "markdown",
   "id": "f5fcd9f0-230a-4156-99c8-77d401dff664",
   "metadata": {},
   "source": [
    "You can make shape objects as well:"
   ]
  },
  {
   "cell_type": "code",
   "execution_count": 31,
   "id": "ab540534-cf66-4592-8204-747a6a550cec",
   "metadata": {},
   "outputs": [
    {
     "data": {
      "image/svg+xml": [
       "<svg class=\"main-svg\" xmlns=\"http://www.w3.org/2000/svg\" xmlns:xlink=\"http://www.w3.org/1999/xlink\" width=\"500\" height=\"500\" style=\"\" viewBox=\"0 0 500 500\"><rect x=\"0\" y=\"0\" width=\"500\" height=\"500\" style=\"fill: rgb(255, 255, 255); fill-opacity: 1;\"/><defs id=\"defs-9d325c\"><g class=\"clips\"><clipPath id=\"clip9d325cxyplot\" class=\"plotclip\"><rect width=\"439\" height=\"404\"/></clipPath><clipPath class=\"axesclip\" id=\"clip9d325cx\"><rect x=\"45\" y=\"0\" width=\"439\" height=\"500\"/></clipPath><clipPath class=\"axesclip\" id=\"clip9d325cy\"><rect x=\"0\" y=\"50\" width=\"500\" height=\"404\"/></clipPath><clipPath class=\"axesclip\" id=\"clip9d325cxy\"><rect x=\"45\" y=\"50\" width=\"439\" height=\"404\"/></clipPath></g><g class=\"gradients\"/><g class=\"patterns\"/></defs><g class=\"bglayer\"/><g class=\"layer-below\"><g class=\"imagelayer\"/><g class=\"shapelayer\"/></g><g class=\"cartesianlayer\"><g class=\"subplot xy\"><g class=\"layer-subplot\"><g class=\"shapelayer\"/><g class=\"imagelayer\"/></g><g class=\"minor-gridlayer\"><g class=\"x\"/><g class=\"y\"/></g><g class=\"gridlayer\"><g class=\"x\"/><g class=\"y\"/></g><g class=\"zerolinelayer\"/><g class=\"layer-between\"><g class=\"shapelayer\"/><g class=\"imagelayer\"/></g><path class=\"xlines-below\"/><path class=\"ylines-below\"/><g class=\"overlines-below\"/><g class=\"xaxislayer-below\"/><g class=\"yaxislayer-below\"/><g class=\"overaxes-below\"/><g class=\"overplot\"><g class=\"xy\" transform=\"translate(45,50)\" clip-path=\"url(#clip9d325cxyplot)\"/></g><path class=\"xlines-above crisp\" d=\"M44,454.5H484\" style=\"fill: none; stroke-width: 1px; stroke: rgb(0, 0, 0); stroke-opacity: 1;\"/><path class=\"ylines-above crisp\" d=\"M44.5,50V454\" style=\"fill: none; stroke-width: 1px; stroke: rgb(0, 0, 0); stroke-opacity: 1;\"/><g class=\"overlines-above\"/><g class=\"xaxislayer-above\"><path class=\"xtick ticks crisp\" d=\"M0,455v7\" transform=\"translate(107.71000000000001,0)\" style=\"stroke: rgb(0, 0, 0); stroke-opacity: 1; stroke-width: 1.2px;\"/><path class=\"xtick ticks crisp\" d=\"M0,455v7\" transform=\"translate(233.14,0)\" style=\"stroke: rgb(0, 0, 0); stroke-opacity: 1; stroke-width: 1.2px;\"/><path class=\"xtick ticks crisp\" d=\"M0,455v7\" transform=\"translate(358.57,0)\" style=\"stroke: rgb(0, 0, 0); stroke-opacity: 1; stroke-width: 1.2px;\"/><path class=\"xtick ticks crisp\" d=\"M0,455v7\" transform=\"translate(484,0)\" style=\"stroke: rgb(0, 0, 0); stroke-opacity: 1; stroke-width: 1.2px;\"/><g class=\"xtick\"><text text-anchor=\"middle\" x=\"0\" y=\"486\" transform=\"translate(107.71000000000001,0)\" style=\"font-family: Arial; font-size: 20px; fill: rgb(0, 0, 0); fill-opacity: 1; white-space: pre; opacity: 1;\">0</text></g><g class=\"xtick\"><text text-anchor=\"middle\" x=\"0\" y=\"486\" style=\"font-family: Arial; font-size: 20px; fill: rgb(0, 0, 0); fill-opacity: 1; white-space: pre; opacity: 1;\" transform=\"translate(233.14,0)\">2</text></g><g class=\"xtick\"><text text-anchor=\"middle\" x=\"0\" y=\"486\" style=\"font-family: Arial; font-size: 20px; fill: rgb(0, 0, 0); fill-opacity: 1; white-space: pre; opacity: 1;\" transform=\"translate(358.57,0)\">4</text></g><g class=\"xtick\"><text text-anchor=\"middle\" x=\"0\" y=\"486\" style=\"font-family: Arial; font-size: 20px; fill: rgb(0, 0, 0); fill-opacity: 1; white-space: pre; opacity: 1;\" transform=\"translate(484,0)\">6</text></g></g><g class=\"yaxislayer-above\"><path class=\"ytick ticks crisp\" d=\"M44,0h-7\" transform=\"translate(0,454)\" style=\"stroke: rgb(0, 0, 0); stroke-opacity: 1; stroke-width: 1.2px;\"/><path class=\"ytick ticks crisp\" d=\"M44,0h-7\" transform=\"translate(0,373.2)\" style=\"stroke: rgb(0, 0, 0); stroke-opacity: 1; stroke-width: 1.2px;\"/><path class=\"ytick ticks crisp\" d=\"M44,0h-7\" transform=\"translate(0,292.4)\" style=\"stroke: rgb(0, 0, 0); stroke-opacity: 1; stroke-width: 1.2px;\"/><path class=\"ytick ticks crisp\" d=\"M44,0h-7\" transform=\"translate(0,211.6)\" style=\"stroke: rgb(0, 0, 0); stroke-opacity: 1; stroke-width: 1.2px;\"/><path class=\"ytick ticks crisp\" d=\"M44,0h-7\" transform=\"translate(0,130.8)\" style=\"stroke: rgb(0, 0, 0); stroke-opacity: 1; stroke-width: 1.2px;\"/><path class=\"ytick ticks crisp\" d=\"M44,0h-7\" transform=\"translate(0,50)\" style=\"stroke: rgb(0, 0, 0); stroke-opacity: 1; stroke-width: 1.2px;\"/><g class=\"ytick\"><text text-anchor=\"end\" x=\"33\" y=\"7\" transform=\"translate(0,454)\" style=\"font-family: Arial; font-size: 20px; fill: rgb(0, 0, 0); fill-opacity: 1; white-space: pre; opacity: 1;\">−1</text></g><g class=\"ytick\"><text text-anchor=\"end\" x=\"33\" y=\"7\" style=\"font-family: Arial; font-size: 20px; fill: rgb(0, 0, 0); fill-opacity: 1; white-space: pre; opacity: 1;\" transform=\"translate(0,373.2)\">0</text></g><g class=\"ytick\"><text text-anchor=\"end\" x=\"33\" y=\"7\" style=\"font-family: Arial; font-size: 20px; fill: rgb(0, 0, 0); fill-opacity: 1; white-space: pre; opacity: 1;\" transform=\"translate(0,292.4)\">1</text></g><g class=\"ytick\"><text text-anchor=\"end\" x=\"33\" y=\"7\" style=\"font-family: Arial; font-size: 20px; fill: rgb(0, 0, 0); fill-opacity: 1; white-space: pre; opacity: 1;\" transform=\"translate(0,211.6)\">2</text></g><g class=\"ytick\"><text text-anchor=\"end\" x=\"33\" y=\"7\" style=\"font-family: Arial; font-size: 20px; fill: rgb(0, 0, 0); fill-opacity: 1; white-space: pre; opacity: 1;\" transform=\"translate(0,130.8)\">3</text></g><g class=\"ytick\"><text text-anchor=\"end\" x=\"33\" y=\"7\" style=\"font-family: Arial; font-size: 20px; fill: rgb(0, 0, 0); fill-opacity: 1; white-space: pre; opacity: 1;\" transform=\"translate(0,50)\">4</text></g></g><g class=\"overaxes-above\"/></g></g><g class=\"polarlayer\"/><g class=\"smithlayer\"/><g class=\"ternarylayer\"/><g class=\"geolayer\"/><g class=\"funnelarealayer\"/><g class=\"pielayer\"/><g class=\"iciclelayer\"/><g class=\"treemaplayer\"/><g class=\"sunburstlayer\"/><g class=\"glimages\"/><defs id=\"topdefs-9d325c\"><g class=\"clips\"/></defs><g class=\"layer-above\"><g class=\"imagelayer\"/><g class=\"shapelayer\"><g class=\"shape-group\" data-index=\"0\" clip-path=\"url(#clip9d325cxy)\"><path data-index=\"0\" fill-rule=\"evenodd\" d=\"M170.43,373.2L233.14,292.4\" style=\"opacity: 1; stroke: rgb(0, 0, 0); stroke-opacity: 1; fill: rgb(0, 0, 0); fill-opacity: 1; stroke-width: 1px;\"/></g><g class=\"shape-group\" data-index=\"1\" clip-path=\"url(#clip9d325cxy)\"><path data-index=\"1\" fill-rule=\"evenodd\" d=\"M170.43,292.4L233.14,373.2\" style=\"opacity: 1; stroke: rgb(0, 0, 0); stroke-opacity: 1; fill: rgb(0, 0, 0); fill-opacity: 1; stroke-width: 1px;\"/></g></g></g><g class=\"infolayer\"><g class=\"g-gtitle\"/><g class=\"g-xtitle\"/><g class=\"g-ytitle\"/></g></svg>"
      ]
     },
     "metadata": {},
     "output_type": "display_data"
    }
   ],
   "source": [
    "pl.show(None, pl.layout(shapes=pl.lines_shape([(1, 0, 2, 1), (1, 1, 2, 0)])))"
   ]
  },
  {
   "cell_type": "markdown",
   "id": "4a462627",
   "metadata": {},
   "source": [
    "## `pl.rect`: Rectangle(s)"
   ]
  },
  {
   "cell_type": "markdown",
   "id": "439f49db",
   "metadata": {},
   "source": [
    "Utility for generating a rectangle shape object."
   ]
  },
  {
   "cell_type": "code",
   "execution_count": 32,
   "id": "352e1f70-31ca-4fac-8587-df58ce507ad5",
   "metadata": {},
   "outputs": [
    {
     "data": {
      "image/svg+xml": [
       "<svg class=\"main-svg\" xmlns=\"http://www.w3.org/2000/svg\" xmlns:xlink=\"http://www.w3.org/1999/xlink\" width=\"500\" height=\"500\" style=\"\" viewBox=\"0 0 500 500\"><rect x=\"0\" y=\"0\" width=\"500\" height=\"500\" style=\"fill: rgb(255, 255, 255); fill-opacity: 1;\"/><defs id=\"defs-908739\"><g class=\"clips\"><clipPath id=\"clip908739xyplot\" class=\"plotclip\"><rect width=\"434\" height=\"404\"/></clipPath><clipPath class=\"axesclip\" id=\"clip908739x\"><rect x=\"50\" y=\"0\" width=\"434\" height=\"500\"/></clipPath><clipPath class=\"axesclip\" id=\"clip908739y\"><rect x=\"0\" y=\"50\" width=\"500\" height=\"404\"/></clipPath><clipPath class=\"axesclip\" id=\"clip908739xy\"><rect x=\"50\" y=\"50\" width=\"434\" height=\"404\"/></clipPath></g><g class=\"gradients\"/><g class=\"patterns\"/></defs><g class=\"bglayer\"/><g class=\"layer-below\"><g class=\"imagelayer\"/><g class=\"shapelayer\"/></g><g class=\"cartesianlayer\"><g class=\"subplot xy\"><g class=\"layer-subplot\"><g class=\"shapelayer\"/><g class=\"imagelayer\"/></g><g class=\"minor-gridlayer\"><g class=\"x\"/><g class=\"y\"/></g><g class=\"gridlayer\"><g class=\"x\"/><g class=\"y\"/></g><g class=\"zerolinelayer\"/><g class=\"layer-between\"><g class=\"shapelayer\"/><g class=\"imagelayer\"/></g><path class=\"xlines-below\"/><path class=\"ylines-below\"/><g class=\"overlines-below\"/><g class=\"xaxislayer-below\"/><g class=\"yaxislayer-below\"/><g class=\"overaxes-below\"/><g class=\"overplot\"><g class=\"xy\" transform=\"translate(50,50)\" clip-path=\"url(#clip908739xyplot)\"><g class=\"scatterlayer mlayer\"><g class=\"trace scatter trace8b8630\" style=\"stroke-miterlimit: 2; opacity: 1;\"><g class=\"fills\"><g><path class=\"js-fill\" d=\"M0,383.8L0,262.6L144.67,262.6L144.67,383.8L0,383.8ZM289.33,141.4L289.33,20.2L434,20.2L434,141.4L289.33,141.4Z\" style=\"fill: rgb(128, 128, 128); fill-opacity: 1; stroke-width: 0;\"/></g></g><g class=\"errorbars\"/><g class=\"lines\"><path class=\"js-line\" d=\"M0,383.8L0,262.6L144.67,262.6L144.67,383.8L0,383.8\" style=\"vector-effect: none; fill: none; stroke: rgb(0, 0, 0); stroke-opacity: 1; stroke-width: 1px; opacity: 1;\"/><path class=\"js-line\" d=\"M289.33,141.4L289.33,20.2L434,20.2L434,141.4L289.33,141.4\" style=\"vector-effect: none; fill: none; stroke: rgb(0, 0, 0); stroke-opacity: 1; stroke-width: 1px; opacity: 1;\"/></g><g class=\"points\"/><g class=\"text\"/></g></g></g></g><path class=\"xlines-above crisp\" d=\"M49,454.5H484\" style=\"fill: none; stroke-width: 1px; stroke: rgb(0, 0, 0); stroke-opacity: 1;\"/><path class=\"ylines-above crisp\" d=\"M49.5,50V454\" style=\"fill: none; stroke-width: 1px; stroke: rgb(0, 0, 0); stroke-opacity: 1;\"/><g class=\"overlines-above\"/><g class=\"xaxislayer-above\"><path class=\"xtick ticks crisp\" d=\"M0,455v7\" transform=\"translate(50,0)\" style=\"stroke: rgb(0, 0, 0); stroke-opacity: 1; stroke-width: 1.2px;\"/><path class=\"xtick ticks crisp\" d=\"M0,455v7\" transform=\"translate(122.33,0)\" style=\"stroke: rgb(0, 0, 0); stroke-opacity: 1; stroke-width: 1.2px;\"/><path class=\"xtick ticks crisp\" d=\"M0,455v7\" transform=\"translate(194.67,0)\" style=\"stroke: rgb(0, 0, 0); stroke-opacity: 1; stroke-width: 1.2px;\"/><path class=\"xtick ticks crisp\" d=\"M0,455v7\" transform=\"translate(267,0)\" style=\"stroke: rgb(0, 0, 0); stroke-opacity: 1; stroke-width: 1.2px;\"/><path class=\"xtick ticks crisp\" d=\"M0,455v7\" transform=\"translate(339.33,0)\" style=\"stroke: rgb(0, 0, 0); stroke-opacity: 1; stroke-width: 1.2px;\"/><path class=\"xtick ticks crisp\" d=\"M0,455v7\" transform=\"translate(411.67,0)\" style=\"stroke: rgb(0, 0, 0); stroke-opacity: 1; stroke-width: 1.2px;\"/><path class=\"xtick ticks crisp\" d=\"M0,455v7\" transform=\"translate(484,0)\" style=\"stroke: rgb(0, 0, 0); stroke-opacity: 1; stroke-width: 1.2px;\"/><g class=\"xtick\"><text text-anchor=\"middle\" x=\"0\" y=\"486\" transform=\"translate(50,0)\" style=\"font-family: Arial; font-size: 20px; fill: rgb(0, 0, 0); fill-opacity: 1; white-space: pre; opacity: 1;\">0</text></g><g class=\"xtick\"><text text-anchor=\"middle\" x=\"0\" y=\"486\" style=\"font-family: Arial; font-size: 20px; fill: rgb(0, 0, 0); fill-opacity: 1; white-space: pre; opacity: 1;\" transform=\"translate(122.33,0)\">0.5</text></g><g class=\"xtick\"><text text-anchor=\"middle\" x=\"0\" y=\"486\" style=\"font-family: Arial; font-size: 20px; fill: rgb(0, 0, 0); fill-opacity: 1; white-space: pre; opacity: 1;\" transform=\"translate(194.67,0)\">1</text></g><g class=\"xtick\"><text text-anchor=\"middle\" x=\"0\" y=\"486\" style=\"font-family: Arial; font-size: 20px; fill: rgb(0, 0, 0); fill-opacity: 1; white-space: pre; opacity: 1;\" transform=\"translate(267,0)\">1.5</text></g><g class=\"xtick\"><text text-anchor=\"middle\" x=\"0\" y=\"486\" style=\"font-family: Arial; font-size: 20px; fill: rgb(0, 0, 0); fill-opacity: 1; white-space: pre; opacity: 1;\" transform=\"translate(339.33,0)\">2</text></g><g class=\"xtick\"><text text-anchor=\"middle\" x=\"0\" y=\"486\" style=\"font-family: Arial; font-size: 20px; fill: rgb(0, 0, 0); fill-opacity: 1; white-space: pre; opacity: 1;\" transform=\"translate(411.67,0)\">2.5</text></g><g class=\"xtick\"><text text-anchor=\"middle\" x=\"0\" y=\"486\" style=\"font-family: Arial; font-size: 20px; fill: rgb(0, 0, 0); fill-opacity: 1; white-space: pre; opacity: 1;\" transform=\"translate(484,0)\">3</text></g></g><g class=\"yaxislayer-above\"><path class=\"ytick ticks crisp\" d=\"M49,0h-7\" transform=\"translate(0,433.8)\" style=\"stroke: rgb(0, 0, 0); stroke-opacity: 1; stroke-width: 1.2px;\"/><path class=\"ytick ticks crisp\" d=\"M49,0h-7\" transform=\"translate(0,373.2)\" style=\"stroke: rgb(0, 0, 0); stroke-opacity: 1; stroke-width: 1.2px;\"/><path class=\"ytick ticks crisp\" d=\"M49,0h-7\" transform=\"translate(0,312.6)\" style=\"stroke: rgb(0, 0, 0); stroke-opacity: 1; stroke-width: 1.2px;\"/><path class=\"ytick ticks crisp\" d=\"M49,0h-7\" transform=\"translate(0,252)\" style=\"stroke: rgb(0, 0, 0); stroke-opacity: 1; stroke-width: 1.2px;\"/><path class=\"ytick ticks crisp\" d=\"M49,0h-7\" transform=\"translate(0,191.4)\" style=\"stroke: rgb(0, 0, 0); stroke-opacity: 1; stroke-width: 1.2px;\"/><path class=\"ytick ticks crisp\" d=\"M49,0h-7\" transform=\"translate(0,130.8)\" style=\"stroke: rgb(0, 0, 0); stroke-opacity: 1; stroke-width: 1.2px;\"/><path class=\"ytick ticks crisp\" d=\"M49,0h-7\" transform=\"translate(0,70.2)\" style=\"stroke: rgb(0, 0, 0); stroke-opacity: 1; stroke-width: 1.2px;\"/><g class=\"ytick\"><text text-anchor=\"end\" x=\"38\" y=\"7\" transform=\"translate(0,433.8)\" style=\"font-family: Arial; font-size: 20px; fill: rgb(0, 0, 0); fill-opacity: 1; white-space: pre; opacity: 1;\">0</text></g><g class=\"ytick\"><text text-anchor=\"end\" x=\"38\" y=\"7\" style=\"font-family: Arial; font-size: 20px; fill: rgb(0, 0, 0); fill-opacity: 1; white-space: pre; opacity: 1;\" transform=\"translate(0,373.2)\">0.5</text></g><g class=\"ytick\"><text text-anchor=\"end\" x=\"38\" y=\"7\" style=\"font-family: Arial; font-size: 20px; fill: rgb(0, 0, 0); fill-opacity: 1; white-space: pre; opacity: 1;\" transform=\"translate(0,312.6)\">1</text></g><g class=\"ytick\"><text text-anchor=\"end\" x=\"38\" y=\"7\" style=\"font-family: Arial; font-size: 20px; fill: rgb(0, 0, 0); fill-opacity: 1; white-space: pre; opacity: 1;\" transform=\"translate(0,252)\">1.5</text></g><g class=\"ytick\"><text text-anchor=\"end\" x=\"38\" y=\"7\" style=\"font-family: Arial; font-size: 20px; fill: rgb(0, 0, 0); fill-opacity: 1; white-space: pre; opacity: 1;\" transform=\"translate(0,191.4)\">2</text></g><g class=\"ytick\"><text text-anchor=\"end\" x=\"38\" y=\"7\" style=\"font-family: Arial; font-size: 20px; fill: rgb(0, 0, 0); fill-opacity: 1; white-space: pre; opacity: 1;\" transform=\"translate(0,130.8)\">2.5</text></g><g class=\"ytick\"><text text-anchor=\"end\" x=\"38\" y=\"7\" style=\"font-family: Arial; font-size: 20px; fill: rgb(0, 0, 0); fill-opacity: 1; white-space: pre; opacity: 1;\" transform=\"translate(0,70.2)\">3</text></g></g><g class=\"overaxes-above\"/></g></g><g class=\"polarlayer\"/><g class=\"smithlayer\"/><g class=\"ternarylayer\"/><g class=\"geolayer\"/><g class=\"funnelarealayer\"/><g class=\"pielayer\"/><g class=\"iciclelayer\"/><g class=\"treemaplayer\"/><g class=\"sunburstlayer\"/><g class=\"glimages\"/><defs id=\"topdefs-908739\"><g class=\"clips\"/></defs><g class=\"layer-above\"><g class=\"imagelayer\"/><g class=\"shapelayer\"/></g><g class=\"infolayer\"><g class=\"g-gtitle\"/><g class=\"g-xtitle\"/><g class=\"g-ytitle\"/></g></svg>"
      ]
     },
     "metadata": {},
     "output_type": "display_data"
    }
   ],
   "source": [
    "pl.show(pl.rects([(0, 0, 1, 1), (2, 2, 3, 3)]))"
   ]
  },
  {
   "cell_type": "markdown",
   "id": "ae6d2558-055f-442c-9387-79d7480ee4c2",
   "metadata": {},
   "source": [
    "You can make shape objects as well:"
   ]
  },
  {
   "cell_type": "code",
   "execution_count": 41,
   "id": "f9cb7435",
   "metadata": {},
   "outputs": [
    {
     "data": {
      "image/svg+xml": [
       "<svg class=\"main-svg\" xmlns=\"http://www.w3.org/2000/svg\" xmlns:xlink=\"http://www.w3.org/1999/xlink\" width=\"500\" height=\"500\" style=\"\" viewBox=\"0 0 500 500\"><rect x=\"0\" y=\"0\" width=\"500\" height=\"500\" style=\"fill: rgb(255, 255, 255); fill-opacity: 1;\"/><defs id=\"defs-634ea4\"><g class=\"clips\"><clipPath id=\"clip634ea4xyplot\" class=\"plotclip\"><rect width=\"439\" height=\"404\"/></clipPath><clipPath class=\"axesclip\" id=\"clip634ea4x\"><rect x=\"45\" y=\"0\" width=\"439\" height=\"500\"/></clipPath><clipPath class=\"axesclip\" id=\"clip634ea4y\"><rect x=\"0\" y=\"50\" width=\"500\" height=\"404\"/></clipPath><clipPath class=\"axesclip\" id=\"clip634ea4xy\"><rect x=\"45\" y=\"50\" width=\"439\" height=\"404\"/></clipPath></g><g class=\"gradients\"/><g class=\"patterns\"/></defs><g class=\"bglayer\"/><g class=\"layer-below\"><g class=\"imagelayer\"/><g class=\"shapelayer\"/></g><g class=\"cartesianlayer\"><g class=\"subplot xy\"><g class=\"layer-subplot\"><g class=\"shapelayer\"/><g class=\"imagelayer\"/></g><g class=\"minor-gridlayer\"><g class=\"x\"/><g class=\"y\"/></g><g class=\"gridlayer\"><g class=\"x\"/><g class=\"y\"/></g><g class=\"zerolinelayer\"/><g class=\"layer-between\"><g class=\"shapelayer\"/><g class=\"imagelayer\"/></g><path class=\"xlines-below\"/><path class=\"ylines-below\"/><g class=\"overlines-below\"/><g class=\"xaxislayer-below\"/><g class=\"yaxislayer-below\"/><g class=\"overaxes-below\"/><g class=\"overplot\"><g class=\"xy\" transform=\"translate(45,50)\" clip-path=\"url(#clip634ea4xyplot)\"/></g><path class=\"xlines-above crisp\" d=\"M44,454.5H484\" style=\"fill: none; stroke-width: 1px; stroke: rgb(0, 0, 0); stroke-opacity: 1;\"/><path class=\"ylines-above crisp\" d=\"M44.5,50V454\" style=\"fill: none; stroke-width: 1px; stroke: rgb(0, 0, 0); stroke-opacity: 1;\"/><g class=\"overlines-above\"/><g class=\"xaxislayer-above\"><path class=\"xtick ticks crisp\" d=\"M0,455v7\" transform=\"translate(107.71000000000001,0)\" style=\"stroke: rgb(0, 0, 0); stroke-opacity: 1; stroke-width: 1.2px;\"/><path class=\"xtick ticks crisp\" d=\"M0,455v7\" transform=\"translate(233.14,0)\" style=\"stroke: rgb(0, 0, 0); stroke-opacity: 1; stroke-width: 1.2px;\"/><path class=\"xtick ticks crisp\" d=\"M0,455v7\" transform=\"translate(358.57,0)\" style=\"stroke: rgb(0, 0, 0); stroke-opacity: 1; stroke-width: 1.2px;\"/><path class=\"xtick ticks crisp\" d=\"M0,455v7\" transform=\"translate(484,0)\" style=\"stroke: rgb(0, 0, 0); stroke-opacity: 1; stroke-width: 1.2px;\"/><g class=\"xtick\"><text text-anchor=\"middle\" x=\"0\" y=\"486\" transform=\"translate(107.71000000000001,0)\" style=\"font-family: Arial; font-size: 20px; fill: rgb(0, 0, 0); fill-opacity: 1; white-space: pre; opacity: 1;\">0</text></g><g class=\"xtick\"><text text-anchor=\"middle\" x=\"0\" y=\"486\" style=\"font-family: Arial; font-size: 20px; fill: rgb(0, 0, 0); fill-opacity: 1; white-space: pre; opacity: 1;\" transform=\"translate(233.14,0)\">2</text></g><g class=\"xtick\"><text text-anchor=\"middle\" x=\"0\" y=\"486\" style=\"font-family: Arial; font-size: 20px; fill: rgb(0, 0, 0); fill-opacity: 1; white-space: pre; opacity: 1;\" transform=\"translate(358.57,0)\">4</text></g><g class=\"xtick\"><text text-anchor=\"middle\" x=\"0\" y=\"486\" style=\"font-family: Arial; font-size: 20px; fill: rgb(0, 0, 0); fill-opacity: 1; white-space: pre; opacity: 1;\" transform=\"translate(484,0)\">6</text></g></g><g class=\"yaxislayer-above\"><path class=\"ytick ticks crisp\" d=\"M44,0h-7\" transform=\"translate(0,454)\" style=\"stroke: rgb(0, 0, 0); stroke-opacity: 1; stroke-width: 1.2px;\"/><path class=\"ytick ticks crisp\" d=\"M44,0h-7\" transform=\"translate(0,373.2)\" style=\"stroke: rgb(0, 0, 0); stroke-opacity: 1; stroke-width: 1.2px;\"/><path class=\"ytick ticks crisp\" d=\"M44,0h-7\" transform=\"translate(0,292.4)\" style=\"stroke: rgb(0, 0, 0); stroke-opacity: 1; stroke-width: 1.2px;\"/><path class=\"ytick ticks crisp\" d=\"M44,0h-7\" transform=\"translate(0,211.6)\" style=\"stroke: rgb(0, 0, 0); stroke-opacity: 1; stroke-width: 1.2px;\"/><path class=\"ytick ticks crisp\" d=\"M44,0h-7\" transform=\"translate(0,130.8)\" style=\"stroke: rgb(0, 0, 0); stroke-opacity: 1; stroke-width: 1.2px;\"/><path class=\"ytick ticks crisp\" d=\"M44,0h-7\" transform=\"translate(0,50)\" style=\"stroke: rgb(0, 0, 0); stroke-opacity: 1; stroke-width: 1.2px;\"/><g class=\"ytick\"><text text-anchor=\"end\" x=\"33\" y=\"7\" transform=\"translate(0,454)\" style=\"font-family: Arial; font-size: 20px; fill: rgb(0, 0, 0); fill-opacity: 1; white-space: pre; opacity: 1;\">−1</text></g><g class=\"ytick\"><text text-anchor=\"end\" x=\"33\" y=\"7\" style=\"font-family: Arial; font-size: 20px; fill: rgb(0, 0, 0); fill-opacity: 1; white-space: pre; opacity: 1;\" transform=\"translate(0,373.2)\">0</text></g><g class=\"ytick\"><text text-anchor=\"end\" x=\"33\" y=\"7\" style=\"font-family: Arial; font-size: 20px; fill: rgb(0, 0, 0); fill-opacity: 1; white-space: pre; opacity: 1;\" transform=\"translate(0,292.4)\">1</text></g><g class=\"ytick\"><text text-anchor=\"end\" x=\"33\" y=\"7\" style=\"font-family: Arial; font-size: 20px; fill: rgb(0, 0, 0); fill-opacity: 1; white-space: pre; opacity: 1;\" transform=\"translate(0,211.6)\">2</text></g><g class=\"ytick\"><text text-anchor=\"end\" x=\"33\" y=\"7\" style=\"font-family: Arial; font-size: 20px; fill: rgb(0, 0, 0); fill-opacity: 1; white-space: pre; opacity: 1;\" transform=\"translate(0,130.8)\">3</text></g><g class=\"ytick\"><text text-anchor=\"end\" x=\"33\" y=\"7\" style=\"font-family: Arial; font-size: 20px; fill: rgb(0, 0, 0); fill-opacity: 1; white-space: pre; opacity: 1;\" transform=\"translate(0,50)\">4</text></g></g><g class=\"overaxes-above\"/></g></g><g class=\"polarlayer\"/><g class=\"smithlayer\"/><g class=\"ternarylayer\"/><g class=\"geolayer\"/><g class=\"funnelarealayer\"/><g class=\"pielayer\"/><g class=\"iciclelayer\"/><g class=\"treemaplayer\"/><g class=\"sunburstlayer\"/><g class=\"glimages\"/><defs id=\"topdefs-634ea4\"><g class=\"clips\"/></defs><g class=\"layer-above\"><g class=\"imagelayer\"/><g class=\"shapelayer\"><g class=\"shape-group\" data-index=\"0\" clip-path=\"url(#clip634ea4xy)\"><path data-index=\"0\" fill-rule=\"evenodd\" d=\"M107.71000000000001,373.2H170.43V292.4H107.71000000000001Z\" style=\"opacity: 1; stroke: rgb(0, 0, 0); stroke-opacity: 1; fill: rgb(128, 128, 128); fill-opacity: 1; stroke-width: 1px;\"/></g><g class=\"shape-group\" data-index=\"1\" clip-path=\"url(#clip634ea4xy)\"><path data-index=\"1\" fill-rule=\"evenodd\" d=\"M233.14,211.6H295.86V130.8H233.14Z\" style=\"opacity: 1; stroke: rgb(0, 0, 0); stroke-opacity: 1; fill: rgb(128, 128, 128); fill-opacity: 1; stroke-width: 1px;\"/></g></g></g><g class=\"infolayer\"><g class=\"g-gtitle\"/><g class=\"g-xtitle\"/><g class=\"g-ytitle\"/></g></svg>"
      ]
     },
     "metadata": {},
     "output_type": "display_data"
    }
   ],
   "source": [
    "pl.show(None, pl.layout(shapes=pl.rects_shape([(0, 0, 1, 1), (2, 2, 3, 3)])))"
   ]
  },
  {
   "cell_type": "markdown",
   "id": "6f5fb188",
   "metadata": {},
   "source": [
    "## `pl.venn`: Venn diagram"
   ]
  },
  {
   "cell_type": "markdown",
   "id": "97717022",
   "metadata": {},
   "source": [
    "Venn diagram using `matplotlib-venn` (not a Trace nor Figure object)."
   ]
  },
  {
   "cell_type": "code",
   "execution_count": 38,
   "id": "268df803",
   "metadata": {},
   "outputs": [
    {
     "data": {
      "image/png": "[encoded data removed]",
      "text/plain": [
       "<Figure size 500x500 with 1 Axes>"
      ]
     },
     "metadata": {},
     "output_type": "display_data"
    }
   ],
   "source": [
    "pl.venn([[1, 2], [2, 3, 4]], [\"A\", \"B\"], out_fname=\"venn.png\")"
   ]
  },
  {
   "cell_type": "markdown",
   "id": "a2e72cc0-f9e3-41c9-90b1-f9f99139d54d",
   "metadata": {},
   "source": [
    "## `pl.image`: Plot an image file"
   ]
  },
  {
   "cell_type": "code",
   "execution_count": 42,
   "id": "9ccd16c8-4582-4a03-86ab-9bca78c8a031",
   "metadata": {},
   "outputs": [
    {
     "data": {
      "image/svg+xml": [
       "<svg class=\"main-svg\" xmlns=\"http://www.w3.org/2000/svg\" xmlns:xlink=\"http://www.w3.org/1999/xlink\" width=\"500\" height=\"500\" style=\"\" viewBox=\"0 0 500 500\"><rect x=\"0\" y=\"0\" width=\"500\" height=\"500\" style=\"fill: rgb(255, 255, 255); fill-opacity: 1;\"/><defs id=\"defs-5b0f22\"><g class=\"clips\"><clipPath id=\"clip5b0f22xyplot\" class=\"plotclip\"><rect width=\"490\" height=\"490\"/></clipPath><clipPath class=\"axesclip\" id=\"clip5b0f22x\"><rect x=\"5\" y=\"0\" width=\"490\" height=\"500\"/></clipPath><clipPath class=\"axesclip\" id=\"clip5b0f22y\"><rect x=\"0\" y=\"5\" width=\"500\" height=\"490\"/></clipPath><clipPath class=\"axesclip\" id=\"clip5b0f22xy\"><rect x=\"5\" y=\"5\" width=\"490\" height=\"490\"/></clipPath></g><g class=\"gradients\"/><g class=\"patterns\"/></defs><g class=\"bglayer\"/><g class=\"layer-below\"><g class=\"imagelayer\"/><g class=\"shapelayer\"/></g><g class=\"cartesianlayer\"><g class=\"subplot xy\"><g class=\"layer-subplot\"><g class=\"shapelayer\"/><g class=\"imagelayer\"/></g><g class=\"minor-gridlayer\"><g class=\"x\"/><g class=\"y\"/></g><g class=\"gridlayer\"><g class=\"x\"/><g class=\"y\"/></g><g class=\"zerolinelayer\"/><g class=\"layer-between\"><g class=\"shapelayer\"/><g class=\"imagelayer\"/></g><path class=\"xlines-below\"/><path class=\"ylines-below\"/><g class=\"overlines-below\"/><g class=\"xaxislayer-below\"/><g class=\"yaxislayer-below\"/><g class=\"overaxes-below\"/><g class=\"overplot\"><g class=\"xy\" transform=\"translate(5,5)\" clip-path=\"url(#clip5b0f22xyplot)\"/></g><path class=\"xlines-above crisp\" d=\"M0,0\" style=\"fill: none;\"/><path class=\"ylines-above crisp\" d=\"M0,0\" style=\"fill: none;\"/><g class=\"overlines-above\"/><g class=\"xaxislayer-above\"/><g class=\"yaxislayer-above\"/><g class=\"overaxes-above\"/></g></g><g class=\"polarlayer\"/><g class=\"smithlayer\"/><g class=\"ternarylayer\"/><g class=\"geolayer\"/><g class=\"funnelarealayer\"/><g class=\"pielayer\"/><g class=\"iciclelayer\"/><g class=\"treemaplayer\"/><g class=\"sunburstlayer\"/><g class=\"glimages\"/><defs id=\"topdefs-5b0f22\"><g class=\"clips\"/></defs><g class=\"layer-above\"><g class=\"imagelayer\"><image xmlns=\"http://www.w3.org/2000/svg\" xlink:href=\"data:image/png;base64,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\" x=\"5\" y=\"5\" width=\"490\" height=\"490\" preserveAspectRatio=\"none\" opacity=\"1\" clip-path=\"url(#clip5b0f22xy)\"/></g><g class=\"shapelayer\"/></g><g class=\"infolayer\"><g class=\"g-gtitle\"/><g class=\"g-xtitle\"/><g class=\"g-ytitle\"/></g></svg>"
      ]
     },
     "metadata": {},
     "output_type": "display_data"
    }
   ],
   "source": [
    "pl.image(\"venn.png\")"
   ]
  },
  {
   "cell_type": "markdown",
   "id": "bceb8e24",
   "metadata": {},
   "source": [
    "# Functions for configuration"
   ]
  },
  {
   "cell_type": "markdown",
   "id": "1ec91681",
   "metadata": {},
   "source": [
    "## `pl.update_default_layout`: Change the defalt layout"
   ]
  },
  {
   "cell_type": "markdown",
   "id": "4f8002ca",
   "metadata": {},
   "source": [
    "Plotly Light's default layout is tuned based on the original Plotly's `simple_white` theme. It is stored in the variable `pl.default.layout` as a dict:"
   ]
  },
  {
   "cell_type": "code",
   "execution_count": 19,
   "id": "5fe6fccf",
   "metadata": {},
   "outputs": [
    {
     "data": {
      "text/plain": [
       "{'width': 500,\n",
       " 'height': 500,\n",
       " 'annotationdefaults': {'arrowhead': 0, 'arrowwidth': 1},\n",
       " 'autotypenumbers': 'strict',\n",
       " 'coloraxis': {'colorbar': {'outlinewidth': 1,\n",
       "   'tickcolor': 'lightgray',\n",
       "   'ticks': ''}},\n",
       " 'colorscale': {'diverging': [[0.0, 'rgb(103,0,31)'],\n",
       "   [0.1, 'rgb(178,24,43)'],\n",
       "   [0.2, 'rgb(214,96,77)'],\n",
       "   [0.3, 'rgb(244,165,130)'],\n",
       "   [0.4, 'rgb(253,219,199)'],\n",
       "   [0.5, 'rgb(247,247,247)'],\n",
       "   [0.6, 'rgb(209,229,240)'],\n",
       "   [0.7, 'rgb(146,197,222)'],\n",
       "   [0.8, 'rgb(67,147,195)'],\n",
       "   [0.9, 'rgb(33,102,172)'],\n",
       "   [1.0, 'rgb(5,48,97)']],\n",
       "  'sequential': [[0.0, '#440154'],\n",
       "   [0.1111111111111111, '#482878'],\n",
       "   [0.2222222222222222, '#3e4989'],\n",
       "   [0.3333333333333333, '#31688e'],\n",
       "   [0.4444444444444444, '#26828e'],\n",
       "   [0.5555555555555556, '#1f9e89'],\n",
       "   [0.6666666666666666, '#35b779'],\n",
       "   [0.7777777777777778, '#6ece58'],\n",
       "   [0.8888888888888888, '#b5de2b'],\n",
       "   [1.0, '#fde725']],\n",
       "  'sequentialminus': [[0.0, '#440154'],\n",
       "   [0.1111111111111111, '#482878'],\n",
       "   [0.2222222222222222, '#3e4989'],\n",
       "   [0.3333333333333333, '#31688e'],\n",
       "   [0.4444444444444444, '#26828e'],\n",
       "   [0.5555555555555556, '#1f9e89'],\n",
       "   [0.6666666666666666, '#35b779'],\n",
       "   [0.7777777777777778, '#6ece58'],\n",
       "   [0.8888888888888888, '#b5de2b'],\n",
       "   [1.0, '#fde725']]},\n",
       " 'colorway': ['#0b8bee',\n",
       "  '#ffcd00',\n",
       "  '#d71131',\n",
       "  '#000080',\n",
       "  '#35ca00',\n",
       "  '#fa8072',\n",
       "  '#5bdeff',\n",
       "  '#800000',\n",
       "  '#00ff00',\n",
       "  '#8f07aa'],\n",
       " 'paper_bgcolor': 'white',\n",
       " 'plot_bgcolor': 'white',\n",
       " 'font': {'color': 'black', 'family': 'Arial', 'size': 20},\n",
       " 'title': {'x': 0.05},\n",
       " 'legend': {'bordercolor': 'black'},\n",
       " 'shapedefaults': {'fillcolor': 'black', 'line': {'width': 0}, 'opacity': 1},\n",
       " 'margin': {'b': 10, 'l': 10, 'r': 10, 't': 50},\n",
       " 'hovermode': 'closest',\n",
       " 'hoverlabel': {'align': 'left'},\n",
       " 'mapbox': {'style': 'light'},\n",
       " 'xaxis': {'automargin': True,\n",
       "  'title': {'standoff': 15},\n",
       "  'ticks': 'outside',\n",
       "  'ticklen': 7,\n",
       "  'tickwidth': 1.2,\n",
       "  'tickcolor': 'black',\n",
       "  'showgrid': False,\n",
       "  'gridcolor': 'rgb(232,232,232)',\n",
       "  'gridwidth': 1,\n",
       "  'showline': True,\n",
       "  'linecolor': 'black',\n",
       "  'linewidth': 1,\n",
       "  'zeroline': False,\n",
       "  'zerolinecolor': 'lightgray',\n",
       "  'zerolinewidth': 1,\n",
       "  'minor_nticks': 2},\n",
       " 'yaxis': {'automargin': True,\n",
       "  'title': {'standoff': 15},\n",
       "  'ticks': 'outside',\n",
       "  'ticklen': 7,\n",
       "  'tickwidth': 1.2,\n",
       "  'tickcolor': 'black',\n",
       "  'showgrid': False,\n",
       "  'gridcolor': 'rgb(232,232,232)',\n",
       "  'gridwidth': 1,\n",
       "  'showline': True,\n",
       "  'linecolor': 'black',\n",
       "  'linewidth': 1,\n",
       "  'zeroline': False,\n",
       "  'zerolinecolor': 'lightgray',\n",
       "  'zerolinewidth': 1,\n",
       "  'minor_nticks': 2},\n",
       " 'geo': {'bgcolor': 'white',\n",
       "  'lakecolor': 'white',\n",
       "  'landcolor': 'white',\n",
       "  'showlakes': True,\n",
       "  'showland': True,\n",
       "  'subunitcolor': 'white'},\n",
       " 'polar': {'angularaxis': {'gridcolor': 'rgb(232,232,232)',\n",
       "   'linecolor': 'black',\n",
       "   'showgrid': False,\n",
       "   'showline': False,\n",
       "   'ticks': ''},\n",
       "  'bgcolor': 'white',\n",
       "  'radialaxis': {'gridcolor': 'rgb(232,232,232)',\n",
       "   'linecolor': 'black',\n",
       "   'showgrid': False,\n",
       "   'showline': False,\n",
       "   'ticks': ''}},\n",
       " 'scene': {'xaxis': {'backgroundcolor': 'white',\n",
       "   'gridcolor': 'rgb(232,232,232)',\n",
       "   'gridwidth': 2,\n",
       "   'linecolor': 'black',\n",
       "   'showbackground': True,\n",
       "   'showgrid': False,\n",
       "   'showline': False,\n",
       "   'ticks': '',\n",
       "   'zeroline': True,\n",
       "   'zerolinecolor': 'lightgray'},\n",
       "  'yaxis': {'backgroundcolor': 'white',\n",
       "   'gridcolor': 'rgb(232,232,232)',\n",
       "   'gridwidth': 2,\n",
       "   'linecolor': 'black',\n",
       "   'showbackground': True,\n",
       "   'showgrid': False,\n",
       "   'showline': False,\n",
       "   'ticks': '',\n",
       "   'zeroline': True,\n",
       "   'zerolinecolor': 'lightgray'},\n",
       "  'zaxis': {'backgroundcolor': 'white',\n",
       "   'gridcolor': 'rgb(232,232,232)',\n",
       "   'gridwidth': 2,\n",
       "   'linecolor': 'black',\n",
       "   'showbackground': True,\n",
       "   'showgrid': False,\n",
       "   'showline': False,\n",
       "   'ticks': '',\n",
       "   'zeroline': True,\n",
       "   'zerolinecolor': 'lightgray'}},\n",
       " 'ternary': {'aaxis': {'gridcolor': 'rgb(232,232,232)',\n",
       "   'linecolor': 'black',\n",
       "   'showgrid': False,\n",
       "   'showline': True,\n",
       "   'ticks': ''},\n",
       "  'baxis': {'gridcolor': 'rgb(232,232,232)',\n",
       "   'linecolor': 'black',\n",
       "   'showgrid': False,\n",
       "   'showline': False,\n",
       "   'ticks': ''},\n",
       "  'bgcolor': 'white',\n",
       "  'caxis': {'gridcolor': 'rgb(232,232,232)',\n",
       "   'linecolor': 'black',\n",
       "   'showgrid': False,\n",
       "   'showline': False,\n",
       "   'ticks': ''}}}"
      ]
     },
     "execution_count": 19,
     "metadata": {},
     "output_type": "execute_result"
    }
   ],
   "source": [
    "pl.default.layout"
   ]
  },
  {
   "cell_type": "markdown",
   "id": "79edb25e",
   "metadata": {},
   "source": [
    "You can update the default layout with a layout object. For example, the following code changes the default font size and margin size:"
   ]
  },
  {
   "cell_type": "code",
   "execution_count": 20,
   "id": "dc9e6623",
   "metadata": {},
   "outputs": [],
   "source": [
    "pl.update_default_layout(pl.layout(font_size=40, margin=dict(l=10, r=10, t=100, b=10)))"
   ]
  },
  {
   "cell_type": "markdown",
   "id": "163104f5",
   "metadata": {},
   "source": [
    "Or you can replace the default layout:"
   ]
  },
  {
   "cell_type": "code",
   "execution_count": null,
   "id": "44854363-be54-46c2-8e04-1636edc66170",
   "metadata": {},
   "outputs": [],
   "source": [
    "pl.set_default_layout(...)"
   ]
  },
  {
   "cell_type": "markdown",
   "id": "05f8f8e2",
   "metadata": {},
   "source": [
    "Or you can permanently change the default layout by modifying the `src/default.py` file and re-installing plotly_light."
   ]
  },
  {
   "cell_type": "markdown",
   "id": "11d3e067",
   "metadata": {},
   "source": [
    "### `pl.set_default_colors`: Change only the color set"
   ]
  },
  {
   "cell_type": "markdown",
   "id": "fe11315c",
   "metadata": {},
   "source": [
    "If you want to change only the default color set, you can use:"
   ]
  },
  {
   "cell_type": "code",
   "execution_count": 22,
   "id": "75e268ca",
   "metadata": {},
   "outputs": [
    {
     "data": {
      "text/plain": [
       "\u001b[31mSignature:\u001b[39m pl.set_default_colors(cols: List[str]) -> \u001b[38;5;28;01mNone\u001b[39;00m\n",
       "\u001b[31mDocstring:\u001b[39m <no docstring>\n",
       "\u001b[31mFile:\u001b[39m      ~/.local/lib/python3.13/site-packages/plotly_light/_config.py\n",
       "\u001b[31mType:\u001b[39m      function"
      ]
     },
     "metadata": {},
     "output_type": "display_data"
    }
   ],
   "source": [
    "pl.set_default_colors?"
   ]
  },
  {
   "cell_type": "markdown",
   "id": "daad965e",
   "metadata": {},
   "source": [
    "### `pl.set_default_theme`: Change the default theme"
   ]
  },
  {
   "cell_type": "markdown",
   "id": "e49c054e",
   "metadata": {},
   "source": [
    "To change the default theme, use the following function:"
   ]
  },
  {
   "cell_type": "code",
   "execution_count": 23,
   "id": "79e31af6",
   "metadata": {},
   "outputs": [
    {
     "data": {
      "text/plain": [
       "\u001b[31mSignature:\u001b[39m pl.set_default_theme(theme_name: str, keep_layout: bool = \u001b[38;5;28;01mTrue\u001b[39;00m) -> \u001b[38;5;28;01mNone\u001b[39;00m\n",
       "\u001b[31mDocstring:\u001b[39m\n",
       "Change plotly's default theme.\n",
       "\n",
       "positional_arguments:\n",
       "  @ theme_name : A plotly theme name. Must be one of:\n",
       "                  {\"plotly_light\",   (default)\n",
       "                   \"ggplot2\",\n",
       "                   \"seaborn\",\n",
       "                   \"simple_white\",\n",
       "                   \"plotly\",\n",
       "                   \"plotly_white\",\n",
       "                   \"plotly_dark\",\n",
       "                   \"none\"}\n",
       "\n",
       "optional arguments:\n",
       "  @ keep_layout : If True, overwrite the theme's layout with the\n",
       "                         default layout set by `set_default_layout()`.\n",
       "\u001b[31mFile:\u001b[39m      ~/.local/lib/python3.13/site-packages/plotly_light/_config.py\n",
       "\u001b[31mType:\u001b[39m      function"
      ]
     },
     "metadata": {},
     "output_type": "display_data"
    }
   ],
   "source": [
    "pl.set_default_theme?"
   ]
  },
  {
   "cell_type": "markdown",
   "id": "73b8d6c7",
   "metadata": {},
   "source": [
    "## `pl.update_default_config`: Change the default config"
   ]
  },
  {
   "cell_type": "markdown",
   "id": "4bf299e3",
   "metadata": {},
   "source": [
    "The default config is managed in the same manner as the default layout. The `pl.default.config` variable is a dict:"
   ]
  },
  {
   "cell_type": "code",
   "execution_count": 24,
   "id": "35ba68ef",
   "metadata": {},
   "outputs": [
    {
     "data": {
      "text/plain": [
       "{'showTips': False,\n",
       " 'displaylogo': False,\n",
       " 'modeBarButtonsToAdd': ['hoverclosest', 'hovercompare'],\n",
       " 'toImageButtonOptions': {'format': 'svg'},\n",
       " 'responsive': True}"
      ]
     },
     "execution_count": 24,
     "metadata": {},
     "output_type": "execute_result"
    }
   ],
   "source": [
    "pl.default.config"
   ]
  },
  {
   "cell_type": "markdown",
   "id": "785d6fa4",
   "metadata": {},
   "source": [
    "And you can update it with a dict:"
   ]
  },
  {
   "cell_type": "code",
   "execution_count": 25,
   "id": "ef9d5ddc",
   "metadata": {},
   "outputs": [],
   "source": [
    "pl.update_default_config({'toImageButtonOptions': {'format': 'png'}})"
   ]
  },
  {
   "cell_type": "markdown",
   "id": "e6bc5adb",
   "metadata": {},
   "source": [
    "Or you can replace it:"
   ]
  },
  {
   "cell_type": "code",
   "execution_count": 26,
   "id": "d48fc9ae",
   "metadata": {},
   "outputs": [],
   "source": [
    "pl.set_default_config(...)"
   ]
  },
  {
   "cell_type": "markdown",
   "id": "e50a1c56",
   "metadata": {},
   "source": [
    "Or you can permanently change the default config by modifying the `src/default.py` file and re-installing plotly_light."
   ]
  },
  {
   "cell_type": "markdown",
   "id": "a9264961",
   "metadata": {},
   "source": [
    "## `pl.set_default_renderer`: Change the default renderer"
   ]
  },
  {
   "cell_type": "markdown",
   "id": "10c13b61",
   "metadata": {},
   "source": [
    "The renderer is automatically determined based on the environment in which plotly_light is imported. The name of the current renderer is stored in the `pl.default.renderer` as a str:"
   ]
  },
  {
   "cell_type": "code",
   "execution_count": 27,
   "id": "25aab4d2",
   "metadata": {},
   "outputs": [
    {
     "data": {
      "text/plain": [
       "'notebook'"
      ]
     },
     "execution_count": 27,
     "metadata": {},
     "output_type": "execute_result"
    }
   ],
   "source": [
    "pl.default.renderer"
   ]
  },
  {
   "cell_type": "markdown",
   "id": "ccf35a48",
   "metadata": {},
   "source": [
    "If imported in Jupyter Notebook, then normally the default renderer should be `iframe` where each plot is saved as an HTML file and embedded to the Notebook with `<iframe>`. You can explicitly change a different renderer with:"
   ]
  },
  {
   "cell_type": "code",
   "execution_count": 28,
   "id": "6496f00c",
   "metadata": {},
   "outputs": [
    {
     "data": {
      "text/html": [
       "        <script type=\"text/javascript\">\n",
       "        window.PlotlyConfig = {MathJaxConfig: 'local'};\n",
       "        if (window.MathJax && window.MathJax.Hub && window.MathJax.Hub.Config) {window.MathJax.Hub.Config({SVG: {font: \"STIX-Web\"}});}\n",
       "        </script>\n",
       "        <script type=\"module\">import \"https://cdn.plot.ly/plotly-3.0.1.min\"</script>\n",
       "        "
      ]
     },
     "metadata": {},
     "output_type": "display_data"
    }
   ],
   "source": [
    "pl.set_default_renderer(\"plotly_mimetype+notebook_connected\")"
   ]
  },
  {
   "cell_type": "markdown",
   "id": "93f1eaf8",
   "metadata": {},
   "source": [
    "The list of the availble renderers is written in the docstring of `pl.set_default_renderer`:"
   ]
  },
  {
   "cell_type": "code",
   "execution_count": 29,
   "id": "ad545a68",
   "metadata": {},
   "outputs": [
    {
     "data": {
      "text/plain": [
       "\u001b[31mSignature:\u001b[39m pl.set_default_renderer(renderer_name: str) -> \u001b[38;5;28;01mNone\u001b[39;00m\n",
       "\u001b[31mDocstring:\u001b[39m\n",
       "Change plotly's default renderer.\n",
       "\n",
       "positional_arguments:\n",
       "  @ renderer_name : A plotly theme name:\n",
       "                      - \"plotly_mimetype\" (NBclassic)\n",
       "                      - \"browser\" (default browser)\n",
       "                      - \"notebook[_connected]\" (NBclassic)\n",
       "                      - \"iframe[_connected]\" (embed as iframe)\n",
       "                      - \"jupyterlab\" (JupyterLab)\n",
       "                      - \"png\" / \"svg\" / \"pdf\" (static image)\n",
       "\u001b[31mFile:\u001b[39m      ~/.local/lib/python3.13/site-packages/plotly_light/_config.py\n",
       "\u001b[31mType:\u001b[39m      function"
      ]
     },
     "metadata": {},
     "output_type": "display_data"
    }
   ],
   "source": [
    "pl.set_default_renderer?"
   ]
  },
  {
   "cell_type": "markdown",
   "id": "abcc9d28",
   "metadata": {},
   "source": [
    "## Default colorway and color set"
   ]
  },
  {
   "cell_type": "markdown",
   "id": "e99be798",
   "metadata": {},
   "source": [
    "Defined colors can be used by e.g. `pl.colors[\"blue\"]`. The following colors are defined:"
   ]
  },
  {
   "cell_type": "code",
   "execution_count": 5,
   "id": "bd6b18cf",
   "metadata": {},
   "outputs": [
    {
     "data": {
      "image/svg+xml": [
       "<svg class=\"main-svg\" xmlns=\"http://www.w3.org/2000/svg\" xmlns:xlink=\"http://www.w3.org/1999/xlink\" width=\"500\" height=\"500\" style=\"\" viewBox=\"0 0 500 500\"><rect x=\"0\" y=\"0\" width=\"500\" height=\"500\" style=\"fill: rgb(255, 255, 255); fill-opacity: 1;\"/><defs id=\"defs-17f670\"><g class=\"clips\"><clipPath id=\"clip17f670xyplot\" class=\"plotclip\"><rect width=\"440\" height=\"323\"/></clipPath><clipPath class=\"axesclip\" id=\"clip17f670x\"><rect x=\"50\" y=\"0\" width=\"440\" height=\"500\"/></clipPath><clipPath class=\"axesclip\" id=\"clip17f670y\"><rect x=\"0\" y=\"50\" width=\"500\" height=\"323\"/></clipPath><clipPath class=\"axesclip\" id=\"clip17f670xy\"><rect x=\"50\" y=\"50\" width=\"440\" height=\"323\"/></clipPath></g><g class=\"gradients\"/><g class=\"patterns\"/></defs><g class=\"bglayer\"/><g class=\"layer-below\"><g class=\"imagelayer\"/><g class=\"shapelayer\"/></g><g class=\"cartesianlayer\"><g class=\"subplot xy\"><g class=\"layer-subplot\"><g class=\"shapelayer\"/><g class=\"imagelayer\"/></g><g class=\"minor-gridlayer\"><g class=\"x\"/><g class=\"y\"/></g><g class=\"gridlayer\"><g class=\"x\"/><g class=\"y\"/></g><g class=\"zerolinelayer\"/><g class=\"layer-between\"><g class=\"shapelayer\"/><g class=\"imagelayer\"/></g><path class=\"xlines-below\"/><path class=\"ylines-below\"/><g class=\"overlines-below\"/><g class=\"xaxislayer-below\"/><g class=\"yaxislayer-below\"/><g class=\"overaxes-below\"/><g class=\"overplot\"><g class=\"xy\" transform=\"translate(50,50)\" clip-path=\"url(#clip17f670xyplot)\"><g class=\"barlayer mlayer\"><g class=\"trace bars\" style=\"opacity: 1;\"><g class=\"points\"><g class=\"point\"><path d=\"M2.2,323V16.15H19.8V323Z\" style=\"vector-effect: none; opacity: 1; stroke-width: 0.5px; fill: rgb(11, 139, 238); fill-opacity: 1; stroke: rgb(255, 255, 255); stroke-opacity: 1;\"/></g></g></g><g class=\"trace bars\" style=\"opacity: 1;\"><g class=\"points\"><g class=\"point\"><path d=\"M24.2,323V16.15H41.8V323Z\" style=\"vector-effect: none; opacity: 1; stroke-width: 0.5px; fill: rgb(91, 222, 255); fill-opacity: 1; stroke: rgb(255, 255, 255); stroke-opacity: 1;\"/></g></g></g><g class=\"trace bars\" style=\"opacity: 1;\"><g class=\"points\"><g class=\"point\"><path d=\"M46.2,323V16.15H63.8V323Z\" style=\"vector-effect: none; opacity: 1; stroke-width: 0.5px; fill: rgb(0, 0, 128); fill-opacity: 1; stroke: rgb(255, 255, 255); stroke-opacity: 1;\"/></g></g></g><g class=\"trace bars\" style=\"opacity: 1;\"><g class=\"points\"><g class=\"point\"><path d=\"M68.2,323V16.15H85.8V323Z\" style=\"vector-effect: none; opacity: 1; stroke-width: 0.5px; fill: rgb(215, 17, 49); fill-opacity: 1; stroke: rgb(255, 255, 255); stroke-opacity: 1;\"/></g></g></g><g class=\"trace bars\" style=\"opacity: 1;\"><g class=\"points\"><g class=\"point\"><path d=\"M90.2,323V16.15H107.8V323Z\" style=\"vector-effect: none; opacity: 1; stroke-width: 0.5px; fill: rgb(250, 128, 114); fill-opacity: 1; stroke: rgb(255, 255, 255); stroke-opacity: 1;\"/></g></g></g><g class=\"trace bars\" style=\"opacity: 1;\"><g class=\"points\"><g class=\"point\"><path d=\"M112.2,323V16.15H129.8V323Z\" style=\"vector-effect: none; opacity: 1; stroke-width: 0.5px; fill: rgb(128, 0, 0); fill-opacity: 1; stroke: rgb(255, 255, 255); stroke-opacity: 1;\"/></g></g></g><g class=\"trace bars\" style=\"opacity: 1;\"><g class=\"points\"><g class=\"point\"><path d=\"M134.2,323V16.15H151.8V323Z\" style=\"vector-effect: none; opacity: 1; stroke-width: 0.5px; fill: rgb(255, 205, 0); fill-opacity: 1; stroke: rgb(255, 255, 255); stroke-opacity: 1;\"/></g></g></g><g class=\"trace bars\" style=\"opacity: 1;\"><g class=\"points\"><g class=\"point\"><path d=\"M156.2,323V16.15H173.8V323Z\" style=\"vector-effect: none; opacity: 1; stroke-width: 0.5px; fill: rgb(255, 255, 0); fill-opacity: 1; stroke: rgb(255, 255, 255); stroke-opacity: 1;\"/></g></g></g><g class=\"trace bars\" style=\"opacity: 1;\"><g class=\"points\"><g class=\"point\"><path d=\"M178.2,323V16.15H195.8V323Z\" style=\"vector-effect: none; opacity: 1; stroke-width: 0.5px; fill: rgb(171, 125, 0); fill-opacity: 1; stroke: rgb(255, 255, 255); stroke-opacity: 1;\"/></g></g></g><g class=\"trace bars\" style=\"opacity: 1;\"><g class=\"points\"><g class=\"point\"><path d=\"M200.2,323V16.15H217.8V323Z\" style=\"vector-effect: none; opacity: 1; stroke-width: 0.5px; fill: rgb(53, 202, 0); fill-opacity: 1; stroke: rgb(255, 255, 255); stroke-opacity: 1;\"/></g></g></g><g class=\"trace bars\" style=\"opacity: 1;\"><g class=\"points\"><g class=\"point\"><path d=\"M222.2,323V16.15H239.8V323Z\" style=\"vector-effect: none; opacity: 1; stroke-width: 0.5px; fill: rgb(0, 255, 0); fill-opacity: 1; stroke: rgb(255, 255, 255); stroke-opacity: 1;\"/></g></g></g><g class=\"trace bars\" style=\"opacity: 1;\"><g class=\"points\"><g class=\"point\"><path d=\"M244.2,323V16.15H261.8V323Z\" style=\"vector-effect: none; opacity: 1; stroke-width: 0.5px; fill: rgb(0, 100, 0); fill-opacity: 1; stroke: rgb(255, 255, 255); stroke-opacity: 1;\"/></g></g></g><g class=\"trace bars\" style=\"opacity: 1;\"><g class=\"points\"><g class=\"point\"><path d=\"M266.2,323V16.15H283.8V323Z\" style=\"vector-effect: none; opacity: 1; stroke-width: 0.5px; fill: rgb(143, 7, 170); fill-opacity: 1; stroke: rgb(255, 255, 255); stroke-opacity: 1;\"/></g></g></g><g class=\"trace bars\" style=\"opacity: 1;\"><g class=\"points\"><g class=\"point\"><path d=\"M288.2,323V16.15H305.8V323Z\" style=\"vector-effect: none; opacity: 1; stroke-width: 0.5px; fill: rgb(238, 130, 238); fill-opacity: 1; stroke: rgb(255, 255, 255); stroke-opacity: 1;\"/></g></g></g><g class=\"trace bars\" style=\"opacity: 1;\"><g class=\"points\"><g class=\"point\"><path d=\"M310.2,323V16.15H327.8V323Z\" style=\"vector-effect: none; opacity: 1; stroke-width: 0.5px; fill: rgb(78, 30, 102); fill-opacity: 1; stroke: rgb(255, 255, 255); stroke-opacity: 1;\"/></g></g></g><g class=\"trace bars\" style=\"opacity: 1;\"><g class=\"points\"><g class=\"point\"><path d=\"M332.2,323V16.15H349.8V323Z\" style=\"vector-effect: none; opacity: 1; stroke-width: 0.5px; fill: rgb(0, 0, 0); fill-opacity: 1; stroke: rgb(255, 255, 255); stroke-opacity: 1;\"/></g></g></g><g class=\"trace bars\" style=\"opacity: 1;\"><g class=\"points\"><g class=\"point\"><path d=\"M354.2,323V16.15H371.8V323Z\" style=\"vector-effect: none; opacity: 1; stroke-width: 0.5px; fill: rgb(255, 255, 255); fill-opacity: 1; stroke: rgb(255, 255, 255); stroke-opacity: 1;\"/></g></g></g><g class=\"trace bars\" style=\"opacity: 1;\"><g class=\"points\"><g class=\"point\"><path d=\"M376.2,323V16.15H393.8V323Z\" style=\"vector-effect: none; opacity: 1; stroke-width: 0.5px; fill: rgb(128, 128, 128); fill-opacity: 1; stroke: rgb(255, 255, 255); stroke-opacity: 1;\"/></g></g></g><g class=\"trace bars\" style=\"opacity: 1;\"><g class=\"points\"><g class=\"point\"><path d=\"M398.2,323V16.15H415.8V323Z\" style=\"vector-effect: none; opacity: 1; stroke-width: 0.5px; fill: rgb(211, 211, 211); fill-opacity: 1; stroke: rgb(255, 255, 255); stroke-opacity: 1;\"/></g></g></g><g class=\"trace bars\" style=\"opacity: 1;\"><g class=\"points\"><g class=\"point\"><path d=\"M420.2,323V16.15H437.8V323Z\" style=\"vector-effect: none; opacity: 1; stroke-width: 0.5px; fill: rgb(169, 169, 169); fill-opacity: 1; stroke: rgb(255, 255, 255); stroke-opacity: 1;\"/></g></g></g></g></g></g><path class=\"xlines-above crisp\" d=\"M49,373.5H490\" style=\"fill: none; stroke-width: 1px; stroke: rgb(0, 0, 0); stroke-opacity: 1;\"/><path class=\"ylines-above crisp\" d=\"M49.5,50V373\" style=\"fill: none; stroke-width: 1px; stroke: rgb(0, 0, 0); stroke-opacity: 1;\"/><g class=\"overlines-above\"/><g class=\"xaxislayer-above\"><path class=\"xtick ticks crisp\" d=\"M0,374v7\" transform=\"translate(61,0)\" style=\"stroke: rgb(0, 0, 0); stroke-opacity: 1; stroke-width: 1.2px;\"/><path class=\"xtick ticks crisp\" d=\"M0,374v7\" transform=\"translate(83,0)\" style=\"stroke: rgb(0, 0, 0); stroke-opacity: 1; stroke-width: 1.2px;\"/><path class=\"xtick ticks crisp\" d=\"M0,374v7\" transform=\"translate(105,0)\" style=\"stroke: rgb(0, 0, 0); stroke-opacity: 1; stroke-width: 1.2px;\"/><path class=\"xtick ticks crisp\" d=\"M0,374v7\" transform=\"translate(127,0)\" style=\"stroke: rgb(0, 0, 0); stroke-opacity: 1; stroke-width: 1.2px;\"/><path class=\"xtick ticks crisp\" d=\"M0,374v7\" transform=\"translate(149,0)\" style=\"stroke: rgb(0, 0, 0); stroke-opacity: 1; stroke-width: 1.2px;\"/><path class=\"xtick ticks crisp\" d=\"M0,374v7\" transform=\"translate(171,0)\" style=\"stroke: rgb(0, 0, 0); stroke-opacity: 1; stroke-width: 1.2px;\"/><path class=\"xtick ticks crisp\" d=\"M0,374v7\" transform=\"translate(193,0)\" style=\"stroke: rgb(0, 0, 0); stroke-opacity: 1; stroke-width: 1.2px;\"/><path class=\"xtick ticks crisp\" d=\"M0,374v7\" transform=\"translate(215,0)\" style=\"stroke: rgb(0, 0, 0); stroke-opacity: 1; stroke-width: 1.2px;\"/><path class=\"xtick ticks crisp\" d=\"M0,374v7\" transform=\"translate(237,0)\" style=\"stroke: rgb(0, 0, 0); stroke-opacity: 1; stroke-width: 1.2px;\"/><path class=\"xtick ticks crisp\" d=\"M0,374v7\" transform=\"translate(259,0)\" style=\"stroke: rgb(0, 0, 0); stroke-opacity: 1; stroke-width: 1.2px;\"/><path class=\"xtick ticks crisp\" d=\"M0,374v7\" transform=\"translate(281,0)\" style=\"stroke: rgb(0, 0, 0); stroke-opacity: 1; stroke-width: 1.2px;\"/><path class=\"xtick ticks crisp\" d=\"M0,374v7\" transform=\"translate(303,0)\" style=\"stroke: rgb(0, 0, 0); stroke-opacity: 1; stroke-width: 1.2px;\"/><path class=\"xtick ticks crisp\" d=\"M0,374v7\" transform=\"translate(325,0)\" style=\"stroke: rgb(0, 0, 0); stroke-opacity: 1; stroke-width: 1.2px;\"/><path class=\"xtick ticks crisp\" d=\"M0,374v7\" transform=\"translate(347,0)\" style=\"stroke: rgb(0, 0, 0); stroke-opacity: 1; stroke-width: 1.2px;\"/><path class=\"xtick ticks crisp\" d=\"M0,374v7\" transform=\"translate(369,0)\" style=\"stroke: rgb(0, 0, 0); stroke-opacity: 1; stroke-width: 1.2px;\"/><path class=\"xtick ticks crisp\" d=\"M0,374v7\" transform=\"translate(391,0)\" style=\"stroke: rgb(0, 0, 0); stroke-opacity: 1; stroke-width: 1.2px;\"/><path class=\"xtick ticks crisp\" d=\"M0,374v7\" transform=\"translate(413,0)\" style=\"stroke: rgb(0, 0, 0); stroke-opacity: 1; stroke-width: 1.2px;\"/><path class=\"xtick ticks crisp\" d=\"M0,374v7\" transform=\"translate(435,0)\" style=\"stroke: rgb(0, 0, 0); stroke-opacity: 1; stroke-width: 1.2px;\"/><path class=\"xtick ticks crisp\" d=\"M0,374v7\" transform=\"translate(457,0)\" style=\"stroke: rgb(0, 0, 0); stroke-opacity: 1; stroke-width: 1.2px;\"/><path class=\"xtick ticks crisp\" d=\"M0,374v7\" transform=\"translate(479,0)\" style=\"stroke: rgb(0, 0, 0); stroke-opacity: 1; stroke-width: 1.2px;\"/><g class=\"xtick\"><text text-anchor=\"start\" x=\"0\" y=\"405\" transform=\"translate(61,0) rotate(90,0,395)\" style=\"font-family: Arial; font-size: 20px; fill: rgb(0, 0, 0); fill-opacity: 1; white-space: pre; opacity: 1;\">blue</text></g><g class=\"xtick\"><text text-anchor=\"start\" x=\"0\" y=\"405\" transform=\"translate(83,0) rotate(90,0,395)\" style=\"font-family: Arial; font-size: 20px; fill: rgb(0, 0, 0); fill-opacity: 1; white-space: pre; opacity: 1;\">lightblue</text></g><g class=\"xtick\"><text text-anchor=\"start\" x=\"0\" y=\"405\" transform=\"translate(105,0) rotate(90,0,395)\" style=\"font-family: Arial; font-size: 20px; fill: rgb(0, 0, 0); fill-opacity: 1; white-space: pre; opacity: 1;\">darkblue</text></g><g class=\"xtick\"><text text-anchor=\"start\" x=\"0\" y=\"405\" transform=\"translate(127,0) rotate(90,0,395)\" style=\"font-family: Arial; font-size: 20px; fill: rgb(0, 0, 0); fill-opacity: 1; white-space: pre; opacity: 1;\">red</text></g><g class=\"xtick\"><text text-anchor=\"start\" x=\"0\" y=\"405\" transform=\"translate(149,0) rotate(90,0,395)\" style=\"font-family: Arial; font-size: 20px; fill: rgb(0, 0, 0); fill-opacity: 1; white-space: pre; opacity: 1;\">lightred</text></g><g class=\"xtick\"><text text-anchor=\"start\" x=\"0\" y=\"405\" transform=\"translate(171,0) rotate(90,0,395)\" style=\"font-family: Arial; font-size: 20px; fill: rgb(0, 0, 0); fill-opacity: 1; white-space: pre; opacity: 1;\">darkred</text></g><g class=\"xtick\"><text text-anchor=\"start\" x=\"0\" y=\"405\" transform=\"translate(193,0) rotate(90,0,395)\" style=\"font-family: Arial; font-size: 20px; fill: rgb(0, 0, 0); fill-opacity: 1; white-space: pre; opacity: 1;\">yellow</text></g><g class=\"xtick\"><text text-anchor=\"start\" x=\"0\" y=\"405\" transform=\"translate(215,0) rotate(90,0,395)\" style=\"font-family: Arial; font-size: 20px; fill: rgb(0, 0, 0); fill-opacity: 1; white-space: pre; opacity: 1;\">lightyellow</text></g><g class=\"xtick\"><text text-anchor=\"start\" x=\"0\" y=\"405\" transform=\"translate(237,0) rotate(90,0,395)\" style=\"font-family: Arial; font-size: 20px; fill: rgb(0, 0, 0); fill-opacity: 1; white-space: pre; opacity: 1;\">darkyellow</text></g><g class=\"xtick\"><text text-anchor=\"start\" x=\"0\" y=\"405\" transform=\"translate(259,0) rotate(90,0,395)\" style=\"font-family: Arial; font-size: 20px; fill: rgb(0, 0, 0); fill-opacity: 1; white-space: pre; opacity: 1;\">green</text></g><g class=\"xtick\"><text text-anchor=\"start\" x=\"0\" y=\"405\" transform=\"translate(281,0) rotate(90,0,395)\" style=\"font-family: Arial; font-size: 20px; fill: rgb(0, 0, 0); fill-opacity: 1; white-space: pre; opacity: 1;\">lightgreen</text></g><g class=\"xtick\"><text text-anchor=\"start\" x=\"0\" y=\"405\" transform=\"translate(303,0) rotate(90,0,395)\" style=\"font-family: Arial; font-size: 20px; fill: rgb(0, 0, 0); fill-opacity: 1; white-space: pre; opacity: 1;\">darkgreen</text></g><g class=\"xtick\"><text text-anchor=\"start\" x=\"0\" y=\"405\" transform=\"translate(325,0) rotate(90,0,395)\" style=\"font-family: Arial; font-size: 20px; fill: rgb(0, 0, 0); fill-opacity: 1; white-space: pre; opacity: 1;\">purple</text></g><g class=\"xtick\"><text text-anchor=\"start\" x=\"0\" y=\"405\" transform=\"translate(347,0) rotate(90,0,395)\" style=\"font-family: Arial; font-size: 20px; fill: rgb(0, 0, 0); fill-opacity: 1; white-space: pre; opacity: 1;\">lightpurple</text></g><g class=\"xtick\"><text text-anchor=\"start\" x=\"0\" y=\"405\" transform=\"translate(369,0) rotate(90,0,395)\" style=\"font-family: Arial; font-size: 20px; fill: rgb(0, 0, 0); fill-opacity: 1; white-space: pre; opacity: 1;\">darkpurple</text></g><g class=\"xtick\"><text text-anchor=\"start\" x=\"0\" y=\"405\" transform=\"translate(391,0) rotate(90,0,395)\" style=\"font-family: Arial; font-size: 20px; fill: rgb(0, 0, 0); fill-opacity: 1; white-space: pre; opacity: 1;\">black</text></g><g class=\"xtick\"><text text-anchor=\"start\" x=\"0\" y=\"405\" transform=\"translate(413,0) rotate(90,0,395)\" style=\"font-family: Arial; font-size: 20px; fill: rgb(0, 0, 0); fill-opacity: 1; white-space: pre; opacity: 1;\">white</text></g><g class=\"xtick\"><text text-anchor=\"start\" x=\"0\" y=\"405\" transform=\"translate(435,0) rotate(90,0,395)\" style=\"font-family: Arial; font-size: 20px; fill: rgb(0, 0, 0); fill-opacity: 1; white-space: pre; opacity: 1;\">gray</text></g><g class=\"xtick\"><text text-anchor=\"start\" x=\"0\" y=\"405\" transform=\"translate(457,0) rotate(90,0,395)\" style=\"font-family: Arial; font-size: 20px; fill: rgb(0, 0, 0); fill-opacity: 1; white-space: pre; opacity: 1;\">lightgray</text></g><g class=\"xtick\"><text text-anchor=\"start\" x=\"0\" y=\"405\" transform=\"translate(479,0) rotate(90,0,395)\" style=\"font-family: Arial; font-size: 20px; fill: rgb(0, 0, 0); fill-opacity: 1; white-space: pre; opacity: 1;\">darkgray</text></g></g><g class=\"yaxislayer-above\"><path class=\"ytick ticks crisp\" d=\"M49,0h-7\" transform=\"translate(0,373)\" style=\"stroke: rgb(0, 0, 0); stroke-opacity: 1; stroke-width: 1.2px;\"/><path class=\"ytick ticks crisp\" d=\"M49,0h-7\" transform=\"translate(0,311.63)\" style=\"stroke: rgb(0, 0, 0); stroke-opacity: 1; stroke-width: 1.2px;\"/><path class=\"ytick ticks crisp\" d=\"M49,0h-7\" transform=\"translate(0,250.26)\" style=\"stroke: rgb(0, 0, 0); stroke-opacity: 1; stroke-width: 1.2px;\"/><path class=\"ytick ticks crisp\" d=\"M49,0h-7\" transform=\"translate(0,188.89)\" style=\"stroke: rgb(0, 0, 0); stroke-opacity: 1; stroke-width: 1.2px;\"/><path class=\"ytick ticks crisp\" d=\"M49,0h-7\" transform=\"translate(0,127.52)\" style=\"stroke: rgb(0, 0, 0); stroke-opacity: 1; stroke-width: 1.2px;\"/><path class=\"ytick ticks crisp\" d=\"M49,0h-7\" transform=\"translate(0,66.15)\" style=\"stroke: rgb(0, 0, 0); stroke-opacity: 1; stroke-width: 1.2px;\"/><g class=\"ytick\"><text text-anchor=\"end\" x=\"38\" y=\"7\" transform=\"translate(0,373)\" style=\"font-family: Arial; font-size: 20px; fill: rgb(0, 0, 0); fill-opacity: 1; white-space: pre; opacity: 1;\">0</text></g><g class=\"ytick\"><text text-anchor=\"end\" x=\"38\" y=\"7\" style=\"font-family: Arial; font-size: 20px; fill: rgb(0, 0, 0); fill-opacity: 1; white-space: pre; opacity: 1;\" transform=\"translate(0,311.63)\">0.2</text></g><g class=\"ytick\"><text text-anchor=\"end\" x=\"38\" y=\"7\" style=\"font-family: Arial; font-size: 20px; fill: rgb(0, 0, 0); fill-opacity: 1; white-space: pre; opacity: 1;\" transform=\"translate(0,250.26)\">0.4</text></g><g class=\"ytick\"><text text-anchor=\"end\" x=\"38\" y=\"7\" style=\"font-family: Arial; font-size: 20px; fill: rgb(0, 0, 0); fill-opacity: 1; white-space: pre; opacity: 1;\" transform=\"translate(0,188.89)\">0.6</text></g><g class=\"ytick\"><text text-anchor=\"end\" x=\"38\" y=\"7\" style=\"font-family: Arial; font-size: 20px; fill: rgb(0, 0, 0); fill-opacity: 1; white-space: pre; opacity: 1;\" transform=\"translate(0,127.52)\">0.8</text></g><g class=\"ytick\"><text text-anchor=\"end\" x=\"38\" y=\"7\" style=\"font-family: Arial; font-size: 20px; fill: rgb(0, 0, 0); fill-opacity: 1; white-space: pre; opacity: 1;\" transform=\"translate(0,66.15)\">1</text></g></g><g class=\"overaxes-above\"/></g></g><g class=\"polarlayer\"/><g class=\"smithlayer\"/><g class=\"ternarylayer\"/><g class=\"geolayer\"/><g class=\"funnelarealayer\"/><g class=\"pielayer\"/><g class=\"iciclelayer\"/><g class=\"treemaplayer\"/><g class=\"sunburstlayer\"/><g class=\"glimages\"/><defs id=\"topdefs-17f670\"><g class=\"clips\"/></defs><g class=\"layer-above\"><g class=\"imagelayer\"/><g class=\"shapelayer\"/></g><g class=\"infolayer\"><g class=\"g-gtitle\"/><g class=\"g-xtitle\"/><g class=\"g-ytitle\"/></g></svg>"
      ]
     },
     "metadata": {},
     "output_type": "display_data"
    }
   ],
   "source": [
    "pl.show([pl.bar([name], [1], col=col) for name, col in pl.colors.items()],\n",
    "        pl.layout(x_dtick=1))"
   ]
  },
  {
   "cell_type": "markdown",
   "id": "38f9a6ac",
   "metadata": {},
   "source": [
    "Default colorway is as follows:"
   ]
  },
  {
   "cell_type": "code",
   "execution_count": 4,
   "id": "029b6964",
   "metadata": {},
   "outputs": [
    {
     "name": "stderr",
     "output_type": "stream",
     "text": [
      "/Users/yoshi/.pyenv/versions/3.13.2/lib/python3.13/site-packages/plotly/io/_renderers.py:55: UserWarning:\n",
      "\n",
      "Plotly version >= 6 requires Jupyter Notebook >= 7 but you have 6.5.7 installed.\n",
      " To upgrade Jupyter Notebook, please run `pip install notebook --upgrade`.\n",
      "\n"
     ]
    },
    {
     "data": {
      "image/svg+xml": [
       "<svg class=\"main-svg\" xmlns=\"http://www.w3.org/2000/svg\" xmlns:xlink=\"http://www.w3.org/1999/xlink\" width=\"500\" height=\"500\" style=\"\" viewBox=\"0 0 500 500\"><rect x=\"0\" y=\"0\" width=\"500\" height=\"500\" style=\"fill: rgb(255, 255, 255); fill-opacity: 1;\"/><defs id=\"defs-0a1898\"><g class=\"clips\"><clipPath id=\"clip0a1898xyplot\" class=\"plotclip\"><rect width=\"440\" height=\"340\"/></clipPath><clipPath class=\"axesclip\" id=\"clip0a1898x\"><rect x=\"50\" y=\"0\" width=\"440\" height=\"500\"/></clipPath><clipPath class=\"axesclip\" id=\"clip0a1898y\"><rect x=\"0\" y=\"50\" width=\"500\" height=\"340\"/></clipPath><clipPath class=\"axesclip\" id=\"clip0a1898xy\"><rect x=\"50\" y=\"50\" width=\"440\" height=\"340\"/></clipPath></g><g class=\"gradients\"/><g class=\"patterns\"/></defs><g class=\"bglayer\"/><g class=\"layer-below\"><g class=\"imagelayer\"/><g class=\"shapelayer\"/></g><g class=\"cartesianlayer\"><g class=\"subplot xy\"><g class=\"layer-subplot\"><g class=\"shapelayer\"/><g class=\"imagelayer\"/></g><g class=\"minor-gridlayer\"><g class=\"x\"/><g class=\"y\"/></g><g class=\"gridlayer\"><g class=\"x\"/><g class=\"y\"/></g><g class=\"zerolinelayer\"/><g class=\"layer-between\"><g class=\"shapelayer\"/><g class=\"imagelayer\"/></g><path class=\"xlines-below\"/><path class=\"ylines-below\"/><g class=\"overlines-below\"/><g class=\"xaxislayer-below\"/><g class=\"yaxislayer-below\"/><g class=\"overaxes-below\"/><g class=\"overplot\"><g class=\"xy\" transform=\"translate(50,50)\" clip-path=\"url(#clip0a1898xyplot)\"><g class=\"barlayer mlayer\"><g class=\"trace bars\" style=\"opacity: 1;\"><g class=\"points\"><g class=\"point\"><path d=\"M4.4,340V17H39.6V340Z\" style=\"vector-effect: none; opacity: 1; stroke-width: 0.5px; fill: rgb(11, 139, 238); fill-opacity: 1; stroke: rgb(255, 255, 255); stroke-opacity: 1;\"/></g></g></g><g class=\"trace bars\" style=\"opacity: 1;\"><g class=\"points\"><g class=\"point\"><path d=\"M48.4,340V17H83.6V340Z\" style=\"vector-effect: none; opacity: 1; stroke-width: 0.5px; fill: rgb(255, 205, 0); fill-opacity: 1; stroke: rgb(255, 255, 255); stroke-opacity: 1;\"/></g></g></g><g class=\"trace bars\" style=\"opacity: 1;\"><g class=\"points\"><g class=\"point\"><path d=\"M92.4,340V17H127.6V340Z\" style=\"vector-effect: none; opacity: 1; stroke-width: 0.5px; fill: rgb(215, 17, 49); fill-opacity: 1; stroke: rgb(255, 255, 255); stroke-opacity: 1;\"/></g></g></g><g class=\"trace bars\" style=\"opacity: 1;\"><g class=\"points\"><g class=\"point\"><path d=\"M136.4,340V17H171.6V340Z\" style=\"vector-effect: none; opacity: 1; stroke-width: 0.5px; fill: rgb(0, 0, 128); fill-opacity: 1; stroke: rgb(255, 255, 255); stroke-opacity: 1;\"/></g></g></g><g class=\"trace bars\" style=\"opacity: 1;\"><g class=\"points\"><g class=\"point\"><path d=\"M180.4,340V17H215.6V340Z\" style=\"vector-effect: none; opacity: 1; stroke-width: 0.5px; fill: rgb(53, 202, 0); fill-opacity: 1; stroke: rgb(255, 255, 255); stroke-opacity: 1;\"/></g></g></g><g class=\"trace bars\" style=\"opacity: 1;\"><g class=\"points\"><g class=\"point\"><path d=\"M224.4,340V17H259.6V340Z\" style=\"vector-effect: none; opacity: 1; stroke-width: 0.5px; fill: rgb(250, 128, 114); fill-opacity: 1; stroke: rgb(255, 255, 255); stroke-opacity: 1;\"/></g></g></g><g class=\"trace bars\" style=\"opacity: 1;\"><g class=\"points\"><g class=\"point\"><path d=\"M268.4,340V17H303.6V340Z\" style=\"vector-effect: none; opacity: 1; stroke-width: 0.5px; fill: rgb(91, 222, 255); fill-opacity: 1; stroke: rgb(255, 255, 255); stroke-opacity: 1;\"/></g></g></g><g class=\"trace bars\" style=\"opacity: 1;\"><g class=\"points\"><g class=\"point\"><path d=\"M312.4,340V17H347.6V340Z\" style=\"vector-effect: none; opacity: 1; stroke-width: 0.5px; fill: rgb(128, 0, 0); fill-opacity: 1; stroke: rgb(255, 255, 255); stroke-opacity: 1;\"/></g></g></g><g class=\"trace bars\" style=\"opacity: 1;\"><g class=\"points\"><g class=\"point\"><path d=\"M356.4,340V17H391.6V340Z\" style=\"vector-effect: none; opacity: 1; stroke-width: 0.5px; fill: rgb(0, 255, 0); fill-opacity: 1; stroke: rgb(255, 255, 255); stroke-opacity: 1;\"/></g></g></g><g class=\"trace bars\" style=\"opacity: 1;\"><g class=\"points\"><g class=\"point\"><path d=\"M400.4,340V17H435.6V340Z\" style=\"vector-effect: none; opacity: 1; stroke-width: 0.5px; fill: rgb(143, 7, 170); fill-opacity: 1; stroke: rgb(255, 255, 255); stroke-opacity: 1;\"/></g></g></g></g></g></g><path class=\"xlines-above crisp\" d=\"M49,390.5H490\" style=\"fill: none; stroke-width: 1px; stroke: rgb(0, 0, 0); stroke-opacity: 1;\"/><path class=\"ylines-above crisp\" d=\"M49.5,50V390\" style=\"fill: none; stroke-width: 1px; stroke: rgb(0, 0, 0); stroke-opacity: 1;\"/><g class=\"overlines-above\"/><g class=\"xaxislayer-above\"><path class=\"xtick ticks crisp\" d=\"M0,391v7\" transform=\"translate(72,0)\" style=\"stroke: rgb(0, 0, 0); stroke-opacity: 1; stroke-width: 1.2px;\"/><path class=\"xtick ticks crisp\" d=\"M0,391v7\" transform=\"translate(116,0)\" style=\"stroke: rgb(0, 0, 0); stroke-opacity: 1; stroke-width: 1.2px;\"/><path class=\"xtick ticks crisp\" d=\"M0,391v7\" transform=\"translate(160,0)\" style=\"stroke: rgb(0, 0, 0); stroke-opacity: 1; stroke-width: 1.2px;\"/><path class=\"xtick ticks crisp\" d=\"M0,391v7\" transform=\"translate(204,0)\" style=\"stroke: rgb(0, 0, 0); stroke-opacity: 1; stroke-width: 1.2px;\"/><path class=\"xtick ticks crisp\" d=\"M0,391v7\" transform=\"translate(248,0)\" style=\"stroke: rgb(0, 0, 0); stroke-opacity: 1; stroke-width: 1.2px;\"/><path class=\"xtick ticks crisp\" d=\"M0,391v7\" transform=\"translate(292,0)\" style=\"stroke: rgb(0, 0, 0); stroke-opacity: 1; stroke-width: 1.2px;\"/><path class=\"xtick ticks crisp\" d=\"M0,391v7\" transform=\"translate(336,0)\" style=\"stroke: rgb(0, 0, 0); stroke-opacity: 1; stroke-width: 1.2px;\"/><path class=\"xtick ticks crisp\" d=\"M0,391v7\" transform=\"translate(380,0)\" style=\"stroke: rgb(0, 0, 0); stroke-opacity: 1; stroke-width: 1.2px;\"/><path class=\"xtick ticks crisp\" d=\"M0,391v7\" transform=\"translate(424,0)\" style=\"stroke: rgb(0, 0, 0); stroke-opacity: 1; stroke-width: 1.2px;\"/><path class=\"xtick ticks crisp\" d=\"M0,391v7\" transform=\"translate(468,0)\" style=\"stroke: rgb(0, 0, 0); stroke-opacity: 1; stroke-width: 1.2px;\"/><g class=\"xtick\"><text text-anchor=\"start\" x=\"0\" y=\"422\" transform=\"translate(72,0) rotate(90,0,412)\" style=\"font-family: Arial; font-size: 20px; fill: rgb(0, 0, 0); fill-opacity: 1; white-space: pre; opacity: 1;\">#0b8bee</text></g><g class=\"xtick\"><text text-anchor=\"start\" x=\"0\" y=\"422\" transform=\"translate(116,0) rotate(90,0,412)\" style=\"font-family: Arial; font-size: 20px; fill: rgb(0, 0, 0); fill-opacity: 1; white-space: pre; opacity: 1;\">#ffcd00</text></g><g class=\"xtick\"><text text-anchor=\"start\" x=\"0\" y=\"422\" transform=\"translate(160,0) rotate(90,0,412)\" style=\"font-family: Arial; font-size: 20px; fill: rgb(0, 0, 0); fill-opacity: 1; white-space: pre; opacity: 1;\">#d71131</text></g><g class=\"xtick\"><text text-anchor=\"start\" x=\"0\" y=\"422\" transform=\"translate(204,0) rotate(90,0,412)\" style=\"font-family: Arial; font-size: 20px; fill: rgb(0, 0, 0); fill-opacity: 1; white-space: pre; opacity: 1;\">#000080</text></g><g class=\"xtick\"><text text-anchor=\"start\" x=\"0\" y=\"422\" transform=\"translate(248,0) rotate(90,0,412)\" style=\"font-family: Arial; font-size: 20px; fill: rgb(0, 0, 0); fill-opacity: 1; white-space: pre; opacity: 1;\">#35ca00</text></g><g class=\"xtick\"><text text-anchor=\"start\" x=\"0\" y=\"422\" transform=\"translate(292,0) rotate(90,0,412)\" style=\"font-family: Arial; font-size: 20px; fill: rgb(0, 0, 0); fill-opacity: 1; white-space: pre; opacity: 1;\">#fa8072</text></g><g class=\"xtick\"><text text-anchor=\"start\" x=\"0\" y=\"422\" transform=\"translate(336,0) rotate(90,0,412)\" style=\"font-family: Arial; font-size: 20px; fill: rgb(0, 0, 0); fill-opacity: 1; white-space: pre; opacity: 1;\">#5bdeff</text></g><g class=\"xtick\"><text text-anchor=\"start\" x=\"0\" y=\"422\" transform=\"translate(380,0) rotate(90,0,412)\" style=\"font-family: Arial; font-size: 20px; fill: rgb(0, 0, 0); fill-opacity: 1; white-space: pre; opacity: 1;\">#800000</text></g><g class=\"xtick\"><text text-anchor=\"start\" x=\"0\" y=\"422\" transform=\"translate(424,0) rotate(90,0,412)\" style=\"font-family: Arial; font-size: 20px; fill: rgb(0, 0, 0); fill-opacity: 1; white-space: pre; opacity: 1;\">#00ff00</text></g><g class=\"xtick\"><text text-anchor=\"start\" x=\"0\" y=\"422\" transform=\"translate(468,0) rotate(90,0,412)\" style=\"font-family: Arial; font-size: 20px; fill: rgb(0, 0, 0); fill-opacity: 1; white-space: pre; opacity: 1;\">#8f07aa</text></g></g><g class=\"yaxislayer-above\"><path class=\"ytick ticks crisp\" d=\"M49,0h-7\" transform=\"translate(0,390)\" style=\"stroke: rgb(0, 0, 0); stroke-opacity: 1; stroke-width: 1.2px;\"/><path class=\"ytick ticks crisp\" d=\"M49,0h-7\" transform=\"translate(0,325.4)\" style=\"stroke: rgb(0, 0, 0); stroke-opacity: 1; stroke-width: 1.2px;\"/><path class=\"ytick ticks crisp\" d=\"M49,0h-7\" transform=\"translate(0,260.8)\" style=\"stroke: rgb(0, 0, 0); stroke-opacity: 1; stroke-width: 1.2px;\"/><path class=\"ytick ticks crisp\" d=\"M49,0h-7\" transform=\"translate(0,196.2)\" style=\"stroke: rgb(0, 0, 0); stroke-opacity: 1; stroke-width: 1.2px;\"/><path class=\"ytick ticks crisp\" d=\"M49,0h-7\" transform=\"translate(0,131.6)\" style=\"stroke: rgb(0, 0, 0); stroke-opacity: 1; stroke-width: 1.2px;\"/><path class=\"ytick ticks crisp\" d=\"M49,0h-7\" transform=\"translate(0,67)\" style=\"stroke: rgb(0, 0, 0); stroke-opacity: 1; stroke-width: 1.2px;\"/><g class=\"ytick\"><text text-anchor=\"end\" x=\"38\" y=\"7\" transform=\"translate(0,390)\" style=\"font-family: Arial; font-size: 20px; fill: rgb(0, 0, 0); fill-opacity: 1; white-space: pre; opacity: 1;\">0</text></g><g class=\"ytick\"><text text-anchor=\"end\" x=\"38\" y=\"7\" style=\"font-family: Arial; font-size: 20px; fill: rgb(0, 0, 0); fill-opacity: 1; white-space: pre; opacity: 1;\" transform=\"translate(0,325.4)\">0.2</text></g><g class=\"ytick\"><text text-anchor=\"end\" x=\"38\" y=\"7\" style=\"font-family: Arial; font-size: 20px; fill: rgb(0, 0, 0); fill-opacity: 1; white-space: pre; opacity: 1;\" transform=\"translate(0,260.8)\">0.4</text></g><g class=\"ytick\"><text text-anchor=\"end\" x=\"38\" y=\"7\" style=\"font-family: Arial; font-size: 20px; fill: rgb(0, 0, 0); fill-opacity: 1; white-space: pre; opacity: 1;\" transform=\"translate(0,196.2)\">0.6</text></g><g class=\"ytick\"><text text-anchor=\"end\" x=\"38\" y=\"7\" style=\"font-family: Arial; font-size: 20px; fill: rgb(0, 0, 0); fill-opacity: 1; white-space: pre; opacity: 1;\" transform=\"translate(0,131.6)\">0.8</text></g><g class=\"ytick\"><text text-anchor=\"end\" x=\"38\" y=\"7\" style=\"font-family: Arial; font-size: 20px; fill: rgb(0, 0, 0); fill-opacity: 1; white-space: pre; opacity: 1;\" transform=\"translate(0,67)\">1</text></g></g><g class=\"overaxes-above\"/></g></g><g class=\"polarlayer\"/><g class=\"smithlayer\"/><g class=\"ternarylayer\"/><g class=\"geolayer\"/><g class=\"funnelarealayer\"/><g class=\"pielayer\"/><g class=\"iciclelayer\"/><g class=\"treemaplayer\"/><g class=\"sunburstlayer\"/><g class=\"glimages\"/><defs id=\"topdefs-0a1898\"><g class=\"clips\"/></defs><g class=\"layer-above\"><g class=\"imagelayer\"/><g class=\"shapelayer\"/></g><g class=\"infolayer\"><g class=\"g-gtitle\"/><g class=\"g-xtitle\"/><g class=\"g-ytitle\"/></g></svg>"
      ]
     },
     "metadata": {},
     "output_type": "display_data"
    }
   ],
   "source": [
    "pl.show([pl.bar([col], [1]) for col in pl.default.colorway])"
   ]
  },
  {
   "cell_type": "code",
   "execution_count": null,
   "id": "ca0aa607",
   "metadata": {},
   "outputs": [],
   "source": []
  }
 ],
 "metadata": {
  "kernelspec": {
   "display_name": "Python 3 (ipykernel)",
   "language": "python",
   "name": "python3"
  },
  "language_info": {
   "codemirror_mode": {
    "name": "ipython",
    "version": 3
   },
   "file_extension": ".py",
   "mimetype": "text/x-python",
   "name": "python",
   "nbconvert_exporter": "python",
   "pygments_lexer": "ipython3",
   "version": "3.13.2"
  },
  "toc": {
   "base_numbering": 1,
   "nav_menu": {},
   "number_sections": true,
   "sideBar": true,
   "skip_h1_title": false,
   "title_cell": "Table of Contents",
   "title_sidebar": "Contents",
   "toc_cell": false,
   "toc_position": {
    "height": "calc(100% - 180px)",
    "left": "10px",
    "top": "150px",
    "width": "443.993px"
   },
   "toc_section_display": true,
   "toc_window_display": true
  }
 },
 "nbformat": 4,
 "nbformat_minor": 5
}
