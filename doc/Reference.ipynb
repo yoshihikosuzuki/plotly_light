{
 "cells": [
  {
   "cell_type": "markdown",
   "id": "f2bf0d3f",
   "metadata": {},
   "source": [
    "# Quickstart"
   ]
  },
  {
   "cell_type": "markdown",
   "id": "00047e07",
   "metadata": {},
   "source": [
    "## Import plotly_light"
   ]
  },
  {
   "cell_type": "code",
   "execution_count": 1,
   "id": "152d92b5",
   "metadata": {},
   "outputs": [
    {
     "name": "stderr",
     "output_type": "stream",
     "text": [
      "[I 250423 18:48:41 __init__:46] plotly_light: in Jupyter\n"
     ]
    },
    {
     "data": {
      "text/html": [
       "        <script type=\"text/javascript\">\n",
       "        window.PlotlyConfig = {MathJaxConfig: 'local'};\n",
       "        if (window.MathJax && window.MathJax.Hub && window.MathJax.Hub.Config) {window.MathJax.Hub.Config({SVG: {font: \"STIX-Web\"}});}\n",
       "        </script>\n",
       "        <script type=\"module\">import \"https://cdn.plot.ly/plotly-3.0.1.min\"</script>\n",
       "        "
      ]
     },
     "metadata": {},
     "output_type": "display_data"
    },
    {
     "name": "stderr",
     "output_type": "stream",
     "text": [
      "[I 250423 18:48:41 __init__:62] pl.default.renderer = iframe\n"
     ]
    }
   ],
   "source": [
    "import plotly_light as pl"
   ]
  },
  {
   "cell_type": "markdown",
   "id": "99ced840",
   "metadata": {},
   "source": [
    "**NOTE:** If imported in a Jupyter Notebook, `init_notebook_mode(connected=True)` is automatically run.\n",
    "\n",
    "**NOTE:** If running in a Jupyter Notebook, each plot is by default stored as an HTML file in a directory named `iframe_figures/` and embedded to the Notebook using `<iframe>`. You can change this setting by selecting a differnt renderer (described later)."
   ]
  },
  {
   "cell_type": "markdown",
   "id": "9510f315",
   "metadata": {},
   "source": [
    "## Usage example: Drawing a simple histogram in a Jupyter Notebook"
   ]
  },
  {
   "cell_type": "code",
   "execution_count": 2,
   "id": "3ee7919c",
   "metadata": {},
   "outputs": [],
   "source": [
    "import random\n",
    "data = random.choices(list(range(10)), k=10000)"
   ]
  },
  {
   "cell_type": "markdown",
   "id": "f5cd3524",
   "metadata": {},
   "source": [
    "### The simplest (and lightweight) histogram"
   ]
  },
  {
   "cell_type": "markdown",
   "id": "fb95ffee",
   "metadata": {},
   "source": [
    "The code below draws a histgram of many random numbers. You can confirm the file size of the plot do not increase even with a very large `k`, i.e. the number of data. With the original Plotly, the file size increases in proportion to the data size."
   ]
  },
  {
   "cell_type": "code",
   "execution_count": 3,
   "id": "0a41003e",
   "metadata": {},
   "outputs": [
    {
     "data": {
      "text/html": [
       "<iframe\n",
       "sandbox=\"allow-scripts allow-downloads\"\n",
       "scrolling=\"no\"\n",
       "width=\"550px\"\n",
       "height=\"550\"\n",
       "src=\"iframe_figures/38bd3af3-3de9-4e3c-b838-3ae240c67090.html\"\n",
       "frameborder=\"0\"\n",
       "allowfullscreen\n",
       "></iframe>\n"
      ]
     },
     "metadata": {},
     "output_type": "display_data"
    }
   ],
   "source": [
    "trace = pl.hist(data, bin_size=1)\n",
    "pl.show(trace)"
   ]
  },
  {
   "cell_type": "markdown",
   "id": "f2125754",
   "metadata": {},
   "source": [
    "### Add a legend"
   ]
  },
  {
   "cell_type": "markdown",
   "id": "d334faeb",
   "metadata": {},
   "source": [
    "By default, the legend is hidden. You can show it with arbitrary name of the histogram:"
   ]
  },
  {
   "cell_type": "code",
   "execution_count": 4,
   "id": "2574cd65",
   "metadata": {},
   "outputs": [
    {
     "data": {
      "text/html": [
       "<iframe\n",
       "sandbox=\"allow-scripts allow-downloads\"\n",
       "scrolling=\"no\"\n",
       "width=\"550px\"\n",
       "height=\"550\"\n",
       "src=\"iframe_figures/d08701c5-81c2-4806-9041-1c0b63e6de51.html\"\n",
       "frameborder=\"0\"\n",
       "allowfullscreen\n",
       "></iframe>\n"
      ]
     },
     "metadata": {},
     "output_type": "display_data"
    }
   ],
   "source": [
    "trace = pl.hist(data, bin_size=1, name=\"Random\", show_legend=True)\n",
    "pl.show(trace)"
   ]
  },
  {
   "cell_type": "markdown",
   "id": "fceda079",
   "metadata": {},
   "source": [
    "### Customize the layout"
   ]
  },
  {
   "cell_type": "markdown",
   "id": "106a4158",
   "metadata": {},
   "source": [
    "You can also use a custom layout. For example, the following code specifies the width/height of the plot, sets axis labels, and makes the x-axis reversed:"
   ]
  },
  {
   "cell_type": "code",
   "execution_count": 14,
   "id": "642a836d",
   "metadata": {},
   "outputs": [
    {
     "data": {
      "text/html": [
       "<iframe\n",
       "sandbox=\"allow-scripts allow-downloads\"\n",
       "scrolling=\"no\"\n",
       "width=\"550px\"\n",
       "height=\"350\"\n",
       "src=\"iframe_figures/5f3884f1-828a-4b1a-98f5-9242b0a4f692.html\"\n",
       "frameborder=\"0\"\n",
       "allowfullscreen\n",
       "></iframe>\n"
      ]
     },
     "metadata": {},
     "output_type": "display_data"
    }
   ],
   "source": [
    "layout = pl.layout(width=500, height=300, x_title=\"Number\", y_title=\"Frequency\", x_dtick=1,\n",
    "                   legend_horizontal=True, legend_coord=(0.05, 1.2))\n",
    "pl.show(trace, layout)"
   ]
  },
  {
   "cell_type": "markdown",
   "id": "444cae3a",
   "metadata": {},
   "source": [
    "# Plots"
   ]
  },
  {
   "cell_type": "markdown",
   "id": "872b9c92",
   "metadata": {},
   "source": [
    "## `pl.hist`: Histogram"
   ]
  },
  {
   "cell_type": "markdown",
   "id": "60514c4e",
   "metadata": {},
   "source": [
    "Lightweight histogram using a `go.Bar` instead of `go.Histogram`."
   ]
  },
  {
   "cell_type": "code",
   "execution_count": 19,
   "id": "7d92ba4a",
   "metadata": {},
   "outputs": [
    {
     "data": {
      "text/html": [
       "<iframe\n",
       "sandbox=\"allow-scripts allow-downloads\"\n",
       "scrolling=\"no\"\n",
       "width=\"550px\"\n",
       "height=\"550\"\n",
       "src=\"iframe_figures/f6cf61b4-f65c-43b0-8655-a03d4f8fb964.html\"\n",
       "frameborder=\"0\"\n",
       "allowfullscreen\n",
       "></iframe>\n"
      ]
     },
     "metadata": {},
     "output_type": "display_data"
    }
   ],
   "source": [
    "pl.show(pl.hist([1, 2, 3], bin_size=1))"
   ]
  },
  {
   "cell_type": "markdown",
   "id": "d0adbe00-c961-4440-a320-86d67631128a",
   "metadata": {},
   "source": [
    "**NOTE:** Specifying `bin_size` (and `start` and `end` as well) will result in a natural binning."
   ]
  },
  {
   "cell_type": "markdown",
   "id": "839cf3e6-162b-4318-8996-6ad2401494a9",
   "metadata": {},
   "source": [
    "You can force to use `go.Histogram`:"
   ]
  },
  {
   "cell_type": "code",
   "execution_count": 21,
   "id": "e765238d-54df-417d-b26d-abd7355e625a",
   "metadata": {},
   "outputs": [
    {
     "data": {
      "text/html": [
       "<iframe\n",
       "sandbox=\"allow-scripts allow-downloads\"\n",
       "scrolling=\"no\"\n",
       "width=\"550px\"\n",
       "height=\"550\"\n",
       "src=\"iframe_figures/a919c2e5-2122-4a7b-88ce-56f612e2c94e.html\"\n",
       "frameborder=\"0\"\n",
       "allowfullscreen\n",
       "></iframe>\n"
      ]
     },
     "metadata": {},
     "output_type": "display_data"
    }
   ],
   "source": [
    "pl.show(pl.hist([1, 2, 3], bin_size=1, use_histogram=True))"
   ]
  },
  {
   "cell_type": "markdown",
   "id": "647edfab",
   "metadata": {},
   "source": [
    "## `pl.bar`: Bar plot"
   ]
  },
  {
   "cell_type": "markdown",
   "id": "ecb31a7d",
   "metadata": {},
   "source": [
    "Wrapper for `go.Bar`."
   ]
  },
  {
   "cell_type": "code",
   "execution_count": 22,
   "id": "d4e71b34",
   "metadata": {},
   "outputs": [
    {
     "data": {
      "text/html": [
       "<iframe\n",
       "sandbox=\"allow-scripts allow-downloads\"\n",
       "scrolling=\"no\"\n",
       "width=\"550px\"\n",
       "height=\"550\"\n",
       "src=\"iframe_figures/12e5cdc9-eb61-4849-9a73-0949991ce298.html\"\n",
       "frameborder=\"0\"\n",
       "allowfullscreen\n",
       "></iframe>\n"
      ]
     },
     "metadata": {},
     "output_type": "display_data"
    }
   ],
   "source": [
    "pl.show(pl.bar([1, 2], [3, 4]))"
   ]
  },
  {
   "cell_type": "markdown",
   "id": "6e9a4971",
   "metadata": {},
   "source": [
    "##  `pl.scatter`: Scatter plot"
   ]
  },
  {
   "cell_type": "markdown",
   "id": "295f6626",
   "metadata": {},
   "source": [
    "Wrapper for `go.Scatter`."
   ]
  },
  {
   "cell_type": "code",
   "execution_count": 23,
   "id": "ff7843c2",
   "metadata": {},
   "outputs": [
    {
     "data": {
      "text/html": [
       "<iframe\n",
       "sandbox=\"allow-scripts allow-downloads\"\n",
       "scrolling=\"no\"\n",
       "width=\"550px\"\n",
       "height=\"550\"\n",
       "src=\"iframe_figures/3bfe23b3-f3b4-459f-884a-437a45bd2c8f.html\"\n",
       "frameborder=\"0\"\n",
       "allowfullscreen\n",
       "></iframe>\n"
      ]
     },
     "metadata": {},
     "output_type": "display_data"
    }
   ],
   "source": [
    "pl.show(pl.scatter([1, 2], [3, 4]))"
   ]
  },
  {
   "cell_type": "markdown",
   "id": "dea49bd0",
   "metadata": {},
   "source": [
    "## `pl.box`: Box plot"
   ]
  },
  {
   "cell_type": "markdown",
   "id": "583f4c79",
   "metadata": {},
   "source": [
    "Wrapper for `go.Box`."
   ]
  },
  {
   "cell_type": "code",
   "execution_count": 29,
   "id": "c1ba1572",
   "metadata": {},
   "outputs": [
    {
     "data": {
      "text/html": [
       "<iframe\n",
       "sandbox=\"allow-scripts allow-downloads\"\n",
       "scrolling=\"no\"\n",
       "width=\"550px\"\n",
       "height=\"550\"\n",
       "src=\"iframe_figures/5e2816e6-a681-4926-92a0-e7e1944b4858.html\"\n",
       "frameborder=\"0\"\n",
       "allowfullscreen\n",
       "></iframe>\n"
      ]
     },
     "metadata": {},
     "output_type": "display_data"
    }
   ],
   "source": [
    "pl.show(pl.box([1, 2, 3], name=\"data\", show_points=True))"
   ]
  },
  {
   "cell_type": "markdown",
   "id": "106076c8",
   "metadata": {},
   "source": [
    "## `pl.violin`: Violin plot"
   ]
  },
  {
   "cell_type": "markdown",
   "id": "29f89cce",
   "metadata": {},
   "source": [
    "Wrapper for `go.Violin`."
   ]
  },
  {
   "cell_type": "code",
   "execution_count": 28,
   "id": "4079497d",
   "metadata": {},
   "outputs": [
    {
     "data": {
      "text/html": [
       "<iframe\n",
       "sandbox=\"allow-scripts allow-downloads\"\n",
       "scrolling=\"no\"\n",
       "width=\"550px\"\n",
       "height=\"550\"\n",
       "src=\"iframe_figures/1c386ef3-e914-41f8-85c8-1f7a003208f9.html\"\n",
       "frameborder=\"0\"\n",
       "allowfullscreen\n",
       "></iframe>\n"
      ]
     },
     "metadata": {},
     "output_type": "display_data"
    }
   ],
   "source": [
    "pl.show(pl.violin([1, 2, 3], name=\"data\", show_points=True))"
   ]
  },
  {
   "cell_type": "markdown",
   "id": "84f85df0",
   "metadata": {},
   "source": [
    "## `pl.lines`: Line(s)"
   ]
  },
  {
   "cell_type": "markdown",
   "id": "007524d5",
   "metadata": {},
   "source": [
    "Scatter plot trace with line(s)."
   ]
  },
  {
   "cell_type": "code",
   "execution_count": 30,
   "id": "a84fac78",
   "metadata": {},
   "outputs": [
    {
     "data": {
      "text/html": [
       "<iframe\n",
       "sandbox=\"allow-scripts allow-downloads\"\n",
       "scrolling=\"no\"\n",
       "width=\"550px\"\n",
       "height=\"550\"\n",
       "src=\"iframe_figures/2a157245-58a1-4d5a-8415-a1f5c3c39c3d.html\"\n",
       "frameborder=\"0\"\n",
       "allowfullscreen\n",
       "></iframe>\n"
      ]
     },
     "metadata": {},
     "output_type": "display_data"
    }
   ],
   "source": [
    "pl.show(pl.lines([(1, 0, 2, 1), (1, 1, 2, 0)]))"
   ]
  },
  {
   "cell_type": "markdown",
   "id": "f5fcd9f0-230a-4156-99c8-77d401dff664",
   "metadata": {},
   "source": [
    "You can make shape objects as well:"
   ]
  },
  {
   "cell_type": "code",
   "execution_count": 32,
   "id": "ab540534-cf66-4592-8204-747a6a550cec",
   "metadata": {},
   "outputs": [
    {
     "data": {
      "text/html": [
       "<iframe\n",
       "sandbox=\"allow-scripts allow-downloads\"\n",
       "scrolling=\"no\"\n",
       "width=\"550px\"\n",
       "height=\"550\"\n",
       "src=\"iframe_figures/9e01dc40-92af-44f5-b7ff-b36bf145b292.html\"\n",
       "frameborder=\"0\"\n",
       "allowfullscreen\n",
       "></iframe>\n"
      ]
     },
     "metadata": {},
     "output_type": "display_data"
    }
   ],
   "source": [
    "pl.show(None, pl.layout(shapes=pl.lines_shape([(1, 0, 2, 1), (1, 1, 2, 0)])))"
   ]
  },
  {
   "cell_type": "markdown",
   "id": "4a462627",
   "metadata": {},
   "source": [
    "## `pl.rect`: Rectangle(s)"
   ]
  },
  {
   "cell_type": "markdown",
   "id": "439f49db",
   "metadata": {},
   "source": [
    "Utility for generating a rectangle shape object."
   ]
  },
  {
   "cell_type": "code",
   "execution_count": 7,
   "id": "352e1f70-31ca-4fac-8587-df58ce507ad5",
   "metadata": {},
   "outputs": [
    {
     "data": {
      "text/html": [
       "<iframe\n",
       "sandbox=\"allow-scripts allow-downloads\"\n",
       "scrolling=\"no\"\n",
       "width=\"550px\"\n",
       "height=\"550\"\n",
       "src=\"iframe_figures/77ccd214-8a24-4e87-91a4-d7b5b8e4e9b5.html\"\n",
       "frameborder=\"0\"\n",
       "allowfullscreen\n",
       "></iframe>\n"
      ]
     },
     "metadata": {},
     "output_type": "display_data"
    }
   ],
   "source": [
    "pl.show(pl.rects([(0, 0, 1, 1), (2, 2, 3, 3)]))"
   ]
  },
  {
   "cell_type": "markdown",
   "id": "ae6d2558-055f-442c-9387-79d7480ee4c2",
   "metadata": {},
   "source": [
    "You can make shape objects as well:"
   ]
  },
  {
   "cell_type": "code",
   "execution_count": 8,
   "id": "f9cb7435",
   "metadata": {},
   "outputs": [
    {
     "data": {
      "text/html": [
       "<iframe\n",
       "sandbox=\"allow-scripts allow-downloads\"\n",
       "scrolling=\"no\"\n",
       "width=\"550px\"\n",
       "height=\"550\"\n",
       "src=\"iframe_figures/50a39df9-cffa-49f6-9683-728a337da103.html\"\n",
       "frameborder=\"0\"\n",
       "allowfullscreen\n",
       "></iframe>\n"
      ]
     },
     "metadata": {},
     "output_type": "display_data"
    }
   ],
   "source": [
    "pl.show(None, pl.layout(shapes=pl.rects_shape([(0, 0, 1, 1), (2, 2, 3, 3)])))"
   ]
  },
  {
   "cell_type": "markdown",
   "id": "6f5fb188",
   "metadata": {},
   "source": [
    "## `pl.venn`: Venn diagram"
   ]
  },
  {
   "cell_type": "markdown",
   "id": "97717022",
   "metadata": {},
   "source": [
    "Venn diagram using `matplotlib-venn` (not a Trace nor Figure object)."
   ]
  },
  {
   "cell_type": "code",
   "execution_count": 27,
   "id": "268df803",
   "metadata": {},
   "outputs": [
    {
     "data": {
      "image/png": "[encoded data removed]",
      "text/plain": [
       "<Figure size 500x500 with 1 Axes>"
      ]
     },
     "metadata": {},
     "output_type": "display_data"
    }
   ],
   "source": [
    "pl.venn([[1, 2], [2, 3, 4]], [\"A\", \"B\"], out_fname=\"venn.png\")"
   ]
  },
  {
   "cell_type": "markdown",
   "id": "a2e72cc0-f9e3-41c9-90b1-f9f99139d54d",
   "metadata": {},
   "source": [
    "## `pl.image`: Plot an image file"
   ]
  },
  {
   "cell_type": "code",
   "execution_count": 28,
   "id": "9ccd16c8-4582-4a03-86ab-9bca78c8a031",
   "metadata": {},
   "outputs": [
    {
     "data": {
      "text/html": [
       "<iframe\n",
       "sandbox=\"allow-scripts allow-downloads\"\n",
       "scrolling=\"no\"\n",
       "width=\"550px\"\n",
       "height=\"550\"\n",
       "src=\"iframe_figures/ee5b5233-ec64-421d-8575-546c2c0b62b6.html\"\n",
       "frameborder=\"0\"\n",
       "allowfullscreen\n",
       "></iframe>\n"
      ]
     },
     "metadata": {},
     "output_type": "display_data"
    }
   ],
   "source": [
    "pl.image(\"venn.png\")"
   ]
  },
  {
   "cell_type": "markdown",
   "id": "bceb8e24",
   "metadata": {},
   "source": [
    "# Functions for configuration"
   ]
  },
  {
   "cell_type": "markdown",
   "id": "1ec91681",
   "metadata": {},
   "source": [
    "## `pl.update_default_layout`: Change the defalt layout"
   ]
  },
  {
   "cell_type": "markdown",
   "id": "4f8002ca",
   "metadata": {},
   "source": [
    "Plotly Light's default layout is tuned based on the original Plotly's `simple_white` theme. It is stored in the variable `pl.default.layout` as a dict:"
   ]
  },
  {
   "cell_type": "code",
   "execution_count": 24,
   "id": "5fe6fccf",
   "metadata": {},
   "outputs": [
    {
     "data": {
      "text/plain": [
       "{'width': 500,\n",
       " 'height': 500,\n",
       " 'annotationdefaults': {'arrowhead': 0, 'arrowwidth': 1},\n",
       " 'autotypenumbers': 'strict',\n",
       " 'coloraxis': {'colorbar': {'outlinewidth': 1,\n",
       "   'tickcolor': 'lightgray',\n",
       "   'ticks': ''}},\n",
       " 'colorscale': {'diverging': [[0.0, 'rgb(103,0,31)'],\n",
       "   [0.1, 'rgb(178,24,43)'],\n",
       "   [0.2, 'rgb(214,96,77)'],\n",
       "   [0.3, 'rgb(244,165,130)'],\n",
       "   [0.4, 'rgb(253,219,199)'],\n",
       "   [0.5, 'rgb(247,247,247)'],\n",
       "   [0.6, 'rgb(209,229,240)'],\n",
       "   [0.7, 'rgb(146,197,222)'],\n",
       "   [0.8, 'rgb(67,147,195)'],\n",
       "   [0.9, 'rgb(33,102,172)'],\n",
       "   [1.0, 'rgb(5,48,97)']],\n",
       "  'sequential': [[0.0, '#440154'],\n",
       "   [0.1111111111111111, '#482878'],\n",
       "   [0.2222222222222222, '#3e4989'],\n",
       "   [0.3333333333333333, '#31688e'],\n",
       "   [0.4444444444444444, '#26828e'],\n",
       "   [0.5555555555555556, '#1f9e89'],\n",
       "   [0.6666666666666666, '#35b779'],\n",
       "   [0.7777777777777778, '#6ece58'],\n",
       "   [0.8888888888888888, '#b5de2b'],\n",
       "   [1.0, '#fde725']],\n",
       "  'sequentialminus': [[0.0, '#440154'],\n",
       "   [0.1111111111111111, '#482878'],\n",
       "   [0.2222222222222222, '#3e4989'],\n",
       "   [0.3333333333333333, '#31688e'],\n",
       "   [0.4444444444444444, '#26828e'],\n",
       "   [0.5555555555555556, '#1f9e89'],\n",
       "   [0.6666666666666666, '#35b779'],\n",
       "   [0.7777777777777778, '#6ece58'],\n",
       "   [0.8888888888888888, '#b5de2b'],\n",
       "   [1.0, '#fde725']]},\n",
       " 'colorway': ['#0b8bee',\n",
       "  '#ffcd00',\n",
       "  '#d71131',\n",
       "  '#000080',\n",
       "  '#35ca00',\n",
       "  '#fa8072',\n",
       "  '#5bdeff',\n",
       "  '#800000',\n",
       "  '#00ff00',\n",
       "  '#8f07aa'],\n",
       " 'paper_bgcolor': 'white',\n",
       " 'plot_bgcolor': 'white',\n",
       " 'font': {'color': 'black', 'family': 'Arial', 'size': 20},\n",
       " 'title': {'x': 0.05},\n",
       " 'legend': {'bordercolor': 'black'},\n",
       " 'shapedefaults': {'fillcolor': 'black', 'line': {'width': 0}, 'opacity': 1},\n",
       " 'margin': {'b': 10, 'l': 10, 'r': 10, 't': 50},\n",
       " 'hovermode': 'closest',\n",
       " 'hoverlabel': {'align': 'left'},\n",
       " 'mapbox': {'style': 'light'},\n",
       " 'xaxis': {'automargin': True,\n",
       "  'title': {'standoff': 15},\n",
       "  'ticks': 'outside',\n",
       "  'ticklen': 7,\n",
       "  'tickwidth': 1.2,\n",
       "  'tickcolor': 'black',\n",
       "  'showgrid': False,\n",
       "  'gridcolor': 'rgb(232,232,232)',\n",
       "  'gridwidth': 1,\n",
       "  'showline': True,\n",
       "  'linecolor': 'black',\n",
       "  'linewidth': 1,\n",
       "  'zeroline': False,\n",
       "  'zerolinecolor': 'lightgray',\n",
       "  'zerolinewidth': 1,\n",
       "  'minor_nticks': 2},\n",
       " 'yaxis': {'automargin': True,\n",
       "  'title': {'standoff': 15},\n",
       "  'ticks': 'outside',\n",
       "  'ticklen': 7,\n",
       "  'tickwidth': 1.2,\n",
       "  'tickcolor': 'black',\n",
       "  'showgrid': False,\n",
       "  'gridcolor': 'rgb(232,232,232)',\n",
       "  'gridwidth': 1,\n",
       "  'showline': True,\n",
       "  'linecolor': 'black',\n",
       "  'linewidth': 1,\n",
       "  'zeroline': False,\n",
       "  'zerolinecolor': 'lightgray',\n",
       "  'zerolinewidth': 1,\n",
       "  'minor_nticks': 2},\n",
       " 'geo': {'bgcolor': 'white',\n",
       "  'lakecolor': 'white',\n",
       "  'landcolor': 'white',\n",
       "  'showlakes': True,\n",
       "  'showland': True,\n",
       "  'subunitcolor': 'white'},\n",
       " 'polar': {'angularaxis': {'gridcolor': 'rgb(232,232,232)',\n",
       "   'linecolor': 'black',\n",
       "   'showgrid': False,\n",
       "   'showline': False,\n",
       "   'ticks': ''},\n",
       "  'bgcolor': 'white',\n",
       "  'radialaxis': {'gridcolor': 'rgb(232,232,232)',\n",
       "   'linecolor': 'black',\n",
       "   'showgrid': False,\n",
       "   'showline': False,\n",
       "   'ticks': ''}},\n",
       " 'scene': {'xaxis': {'backgroundcolor': 'white',\n",
       "   'gridcolor': 'rgb(232,232,232)',\n",
       "   'gridwidth': 2,\n",
       "   'linecolor': 'black',\n",
       "   'showbackground': True,\n",
       "   'showgrid': False,\n",
       "   'showline': False,\n",
       "   'ticks': '',\n",
       "   'zeroline': True,\n",
       "   'zerolinecolor': 'lightgray'},\n",
       "  'yaxis': {'backgroundcolor': 'white',\n",
       "   'gridcolor': 'rgb(232,232,232)',\n",
       "   'gridwidth': 2,\n",
       "   'linecolor': 'black',\n",
       "   'showbackground': True,\n",
       "   'showgrid': False,\n",
       "   'showline': False,\n",
       "   'ticks': '',\n",
       "   'zeroline': True,\n",
       "   'zerolinecolor': 'lightgray'},\n",
       "  'zaxis': {'backgroundcolor': 'white',\n",
       "   'gridcolor': 'rgb(232,232,232)',\n",
       "   'gridwidth': 2,\n",
       "   'linecolor': 'black',\n",
       "   'showbackground': True,\n",
       "   'showgrid': False,\n",
       "   'showline': False,\n",
       "   'ticks': '',\n",
       "   'zeroline': True,\n",
       "   'zerolinecolor': 'lightgray'}},\n",
       " 'ternary': {'aaxis': {'gridcolor': 'rgb(232,232,232)',\n",
       "   'linecolor': 'black',\n",
       "   'showgrid': False,\n",
       "   'showline': True,\n",
       "   'ticks': ''},\n",
       "  'baxis': {'gridcolor': 'rgb(232,232,232)',\n",
       "   'linecolor': 'black',\n",
       "   'showgrid': False,\n",
       "   'showline': False,\n",
       "   'ticks': ''},\n",
       "  'bgcolor': 'white',\n",
       "  'caxis': {'gridcolor': 'rgb(232,232,232)',\n",
       "   'linecolor': 'black',\n",
       "   'showgrid': False,\n",
       "   'showline': False,\n",
       "   'ticks': ''}}}"
      ]
     },
     "execution_count": 24,
     "metadata": {},
     "output_type": "execute_result"
    }
   ],
   "source": [
    "pl.default.layout"
   ]
  },
  {
   "cell_type": "markdown",
   "id": "79edb25e",
   "metadata": {},
   "source": [
    "You can update the default layout with a layout object. For example, the following code changes the default font size and margin size:"
   ]
  },
  {
   "cell_type": "code",
   "execution_count": null,
   "id": "dc9e6623",
   "metadata": {},
   "outputs": [],
   "source": [
    "pl.update_default_layout(pl.layout(font_size=40, margin=dict(l=10, r=10, t=100, b=10)))"
   ]
  },
  {
   "cell_type": "markdown",
   "id": "163104f5",
   "metadata": {},
   "source": [
    "Or you can replace the default layout:"
   ]
  },
  {
   "cell_type": "code",
   "execution_count": 65,
   "id": "8122c071",
   "metadata": {},
   "outputs": [],
   "source": [
    "pl.set_default_layout(...)"
   ]
  },
  {
   "cell_type": "markdown",
   "id": "05f8f8e2",
   "metadata": {},
   "source": [
    "Or you can permanently change the default layout by modifying the `src/default.py` file and re-installing plotly_light."
   ]
  },
  {
   "cell_type": "markdown",
   "id": "11d3e067",
   "metadata": {},
   "source": [
    "### `pl.set_default_colors`: Change only the color set"
   ]
  },
  {
   "cell_type": "markdown",
   "id": "fe11315c",
   "metadata": {},
   "source": [
    "If you want to change only the default color set, you can use:"
   ]
  },
  {
   "cell_type": "code",
   "execution_count": 23,
   "id": "75e268ca",
   "metadata": {},
   "outputs": [
    {
     "data": {
      "text/plain": [
       "\u001b[31mSignature:\u001b[39m pl.set_default_colors(cols: List[str]) -> \u001b[38;5;28;01mNone\u001b[39;00m\n",
       "\u001b[31mDocstring:\u001b[39m <no docstring>\n",
       "\u001b[31mSource:\u001b[39m   \n",
       "\u001b[38;5;28;01mdef\u001b[39;00m set_default_colors(cols: List[str]) -> \u001b[38;5;28;01mNone\u001b[39;00m:\n",
       "    default.layout[\u001b[33m\"colorway\"\u001b[39m] = cols\n",
       "    _set_default_template()\n",
       "\u001b[31mFile:\u001b[39m      ~/.local/lib/python3.13/site-packages/plotly_light/_config.py\n",
       "\u001b[31mType:\u001b[39m      function"
      ]
     },
     "metadata": {},
     "output_type": "display_data"
    }
   ],
   "source": [
    "pl.set_default_colors??"
   ]
  },
  {
   "cell_type": "markdown",
   "id": "daad965e",
   "metadata": {},
   "source": [
    "### `pl.set_default_theme`: Change the default theme"
   ]
  },
  {
   "cell_type": "markdown",
   "id": "e49c054e",
   "metadata": {},
   "source": [
    "To change the default theme, use the following function:"
   ]
  },
  {
   "cell_type": "code",
   "execution_count": 22,
   "id": "79e31af6",
   "metadata": {},
   "outputs": [
    {
     "data": {
      "text/plain": [
       "\u001b[31mSignature:\u001b[39m pl.set_default_theme(theme_name: str, keep_layout: bool = \u001b[38;5;28;01mTrue\u001b[39;00m) -> \u001b[38;5;28;01mNone\u001b[39;00m\n",
       "\u001b[31mSource:\u001b[39m   \n",
       "\u001b[38;5;28;01mdef\u001b[39;00m set_default_theme(theme_name: str, keep_layout: bool = \u001b[38;5;28;01mTrue\u001b[39;00m) -> \u001b[38;5;28;01mNone\u001b[39;00m:\n",
       "    \u001b[33m\"\"\"Change plotly's default theme.\u001b[39m\n",
       "\n",
       "\u001b[33m    positional_arguments:\u001b[39m\n",
       "\u001b[33m      @ theme_name : A plotly theme name. Must be one of:\u001b[39m\n",
       "\u001b[33m                      {\"plotly_light\",   (default)\u001b[39m\n",
       "\u001b[33m                       \"ggplot2\",\u001b[39m\n",
       "\u001b[33m                       \"seaborn\",\u001b[39m\n",
       "\u001b[33m                       \"simple_white\",\u001b[39m\n",
       "\u001b[33m                       \"plotly\",\u001b[39m\n",
       "\u001b[33m                       \"plotly_white\",\u001b[39m\n",
       "\u001b[33m                       \"plotly_dark\",\u001b[39m\n",
       "\u001b[33m                       \"none\"}\u001b[39m\n",
       "\n",
       "\u001b[33m    optional arguments:\u001b[39m\n",
       "\u001b[33m      @ keep_layout : If True, overwrite the theme's layout with the\u001b[39m\n",
       "\u001b[33m                             default layout set by `set_default_layout()`.\u001b[39m\n",
       "\u001b[33m    \"\"\"\u001b[39m\n",
       "    pio.templates.default = default.theme = theme_name\n",
       "    \u001b[38;5;28;01mif\u001b[39;00m keep_layout \u001b[38;5;28;01mand\u001b[39;00m default.layout \u001b[38;5;28;01mis\u001b[39;00m \u001b[38;5;28;01mnot\u001b[39;00m \u001b[38;5;28;01mNone\u001b[39;00m:\n",
       "        _set_default_template()\n",
       "\u001b[31mFile:\u001b[39m      ~/.local/lib/python3.13/site-packages/plotly_light/_config.py\n",
       "\u001b[31mType:\u001b[39m      function"
      ]
     },
     "metadata": {},
     "output_type": "display_data"
    }
   ],
   "source": [
    "pl.set_default_theme??"
   ]
  },
  {
   "cell_type": "markdown",
   "id": "73b8d6c7",
   "metadata": {},
   "source": [
    "## `pl.update_default_config`: Change the default config"
   ]
  },
  {
   "cell_type": "markdown",
   "id": "4bf299e3",
   "metadata": {},
   "source": [
    "The default config is managed in the same manner as the default layout. The `pl.default.config` variable is a dict:"
   ]
  },
  {
   "cell_type": "code",
   "execution_count": 21,
   "id": "35ba68ef",
   "metadata": {},
   "outputs": [
    {
     "data": {
      "text/plain": [
       "{'showTips': False,\n",
       " 'displaylogo': False,\n",
       " 'modeBarButtonsToAdd': ['hoverclosest', 'hovercompare'],\n",
       " 'toImageButtonOptions': {'format': 'svg'},\n",
       " 'responsive': True}"
      ]
     },
     "execution_count": 21,
     "metadata": {},
     "output_type": "execute_result"
    }
   ],
   "source": [
    "pl.default.config"
   ]
  },
  {
   "cell_type": "markdown",
   "id": "785d6fa4",
   "metadata": {},
   "source": [
    "And you can update it with a dict:"
   ]
  },
  {
   "cell_type": "code",
   "execution_count": null,
   "id": "ef9d5ddc",
   "metadata": {},
   "outputs": [],
   "source": [
    "pl.update_default_config({'toImageButtonOptions': {'format': 'png'}})"
   ]
  },
  {
   "cell_type": "markdown",
   "id": "e6bc5adb",
   "metadata": {},
   "source": [
    "Or you can replace it:"
   ]
  },
  {
   "cell_type": "code",
   "execution_count": null,
   "id": "d48fc9ae",
   "metadata": {},
   "outputs": [],
   "source": [
    "pl.set_default_config(...)"
   ]
  },
  {
   "cell_type": "markdown",
   "id": "e50a1c56",
   "metadata": {},
   "source": [
    "Or you can permanently change the default config by modifying the `src/default.py` file and re-installing plotly_light."
   ]
  },
  {
   "cell_type": "markdown",
   "id": "a9264961",
   "metadata": {},
   "source": [
    "## `pl.set_default_renderer`: Change the default renderer"
   ]
  },
  {
   "cell_type": "markdown",
   "id": "10c13b61",
   "metadata": {},
   "source": [
    "The renderer is automatically determined based on the environment in which plotly_light is imported. The name of the current renderer is stored in the `pl.default.renderer` as a str:"
   ]
  },
  {
   "cell_type": "code",
   "execution_count": 25,
   "id": "25aab4d2",
   "metadata": {},
   "outputs": [
    {
     "data": {
      "text/plain": [
       "'iframe'"
      ]
     },
     "execution_count": 25,
     "metadata": {},
     "output_type": "execute_result"
    }
   ],
   "source": [
    "pl.default.renderer"
   ]
  },
  {
   "cell_type": "markdown",
   "id": "ccf35a48",
   "metadata": {},
   "source": [
    "If imported in Jupyter Notebook, then normally the default renderer should be `iframe` where each plot is saved as an HTML file and embedded to the Notebook with `<iframe>`. You can explicitly change a different renderer with:"
   ]
  },
  {
   "cell_type": "code",
   "execution_count": null,
   "id": "6496f00c",
   "metadata": {},
   "outputs": [],
   "source": [
    "pl.set_default_renderer(\"plotly_mimetype+notebook_connected\")"
   ]
  },
  {
   "cell_type": "markdown",
   "id": "93f1eaf8",
   "metadata": {},
   "source": [
    "The list of the availble renderers is written in the docstring of `pl.set_default_renderer`:"
   ]
  },
  {
   "cell_type": "code",
   "execution_count": 26,
   "id": "ad545a68",
   "metadata": {},
   "outputs": [
    {
     "data": {
      "text/plain": [
       "\u001b[31mSignature:\u001b[39m pl.set_default_renderer(renderer_name: str) -> \u001b[38;5;28;01mNone\u001b[39;00m\n",
       "\u001b[31mDocstring:\u001b[39m\n",
       "Change plotly's default renderer.\n",
       "\n",
       "positional_arguments:\n",
       "  @ renderer_name : A plotly theme name:\n",
       "                      - \"plotly_mimetype\" (NBclassic)\n",
       "                      - \"browser\" (default browser)\n",
       "                      - \"notebook[_connected]\" (NBclassic)\n",
       "                      - \"iframe[_connected]\" (embed as iframe)\n",
       "                      - \"jupyterlab\" (JupyterLab)\n",
       "                      - \"png\" / \"svg\" / \"pdf\" (static image)\n",
       "\u001b[31mFile:\u001b[39m      ~/.local/lib/python3.13/site-packages/plotly_light/_config.py\n",
       "\u001b[31mType:\u001b[39m      function"
      ]
     },
     "metadata": {},
     "output_type": "display_data"
    }
   ],
   "source": [
    "pl.set_default_renderer?"
   ]
  }
 ],
 "metadata": {
  "kernelspec": {
   "display_name": "Python 3 (ipykernel)",
   "language": "python",
   "name": "python3"
  },
  "language_info": {
   "codemirror_mode": {
    "name": "ipython",
    "version": 3
   },
   "file_extension": ".py",
   "mimetype": "text/x-python",
   "name": "python",
   "nbconvert_exporter": "python",
   "pygments_lexer": "ipython3",
   "version": "3.13.2"
  },
  "toc": {
   "base_numbering": 1,
   "nav_menu": {},
   "number_sections": true,
   "sideBar": true,
   "skip_h1_title": false,
   "title_cell": "Table of Contents",
   "title_sidebar": "Contents",
   "toc_cell": false,
   "toc_position": {
    "height": "calc(100% - 180px)",
    "left": "10px",
    "top": "150px",
    "width": "270px"
   },
   "toc_section_display": true,
   "toc_window_display": true
  }
 },
 "nbformat": 4,
 "nbformat_minor": 5
}
